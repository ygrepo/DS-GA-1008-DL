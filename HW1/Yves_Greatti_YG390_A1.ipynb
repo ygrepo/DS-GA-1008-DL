{
 "cells": [
  {
   "cell_type": "code",
   "execution_count": 1,
   "metadata": {},
   "outputs": [],
   "source": [
    "# Import dependencies\n",
    "import torch\n",
    "import torch.nn as nn\n",
    "from plot_lib import set_default, show_scatterplot, plot_bases\n",
    "from matplotlib.pyplot import plot, title, axis"
   ]
  },
  {
   "cell_type": "code",
   "execution_count": 2,
   "metadata": {},
   "outputs": [],
   "source": [
    "# Set style (needs to be in a new cell)\n",
    "set_default()"
   ]
  },
  {
   "cell_type": "code",
   "execution_count": 3,
   "metadata": {},
   "outputs": [],
   "source": [
    "# Set up your device \n",
    "cuda = torch.cuda.is_available()\n",
    "device = torch.device(\"cuda:0\" if cuda else \"cpu\")"
   ]
  },
  {
   "cell_type": "code",
   "execution_count": 4,
   "metadata": {},
   "outputs": [],
   "source": [
    "# Set up random seed to 1008. Do not change the random seed.\n",
    "seed = 1008\n",
    "torch.manual_seed(seed)\n",
    "if cuda:\n",
    "    torch.cuda.manual_seed_all(seed)"
   ]
  },
  {
   "cell_type": "markdown",
   "metadata": {},
   "source": [
    "# 1. Full, slice, fill\n",
    "Write a function `warm_up` that returns the 2D tensor with integers below. **Do not use any loops**.\n",
    "\n",
    "```\n",
    "1 2 1 1 1 1 2 1 1 1 1 2 1\n",
    "2 2 2 2 2 2 2 2 2 2 2 2 2\n",
    "1 2 1 1 1 1 2 1 1 1 1 2 1\n",
    "1 2 1 3 3 1 2 1 3 3 1 2 1\n",
    "1 2 1 3 3 1 2 1 3 3 1 2 1\n",
    "1 2 1 1 1 1 2 1 1 1 1 2 1\n",
    "2 2 2 2 2 2 2 2 2 2 2 2 2\n",
    "1 2 1 1 1 1 2 1 1 1 1 2 1\n",
    "1 2 1 3 3 1 2 1 3 3 1 2 1\n",
    "1 2 1 3 3 1 2 1 3 3 1 2 1\n",
    "1 2 1 1 1 1 2 1 1 1 1 2 1\n",
    "2 2 2 2 2 2 2 2 2 2 2 2 2\n",
    "1 2 1 1 1 1 2 1 1 1 1 2 1\n",
    "```\n",
    "\n",
    "\n",
    "Hint: Use `torch.full`, `torch.fill_`, and the slicing operator."
   ]
  },
  {
   "cell_type": "code",
   "execution_count": 5,
   "metadata": {},
   "outputs": [
    {
     "name": "stdout",
     "output_type": "stream",
     "text": [
      "tensor([[1, 2, 1, 1, 1, 1, 2, 1, 1, 1, 1, 2, 1],\n",
      "        [2, 2, 2, 2, 2, 2, 2, 2, 2, 2, 2, 2, 2],\n",
      "        [1, 2, 1, 1, 1, 1, 2, 1, 1, 1, 1, 2, 1],\n",
      "        [1, 2, 1, 3, 3, 1, 2, 1, 3, 3, 1, 2, 1],\n",
      "        [1, 2, 1, 3, 3, 1, 2, 1, 3, 3, 1, 2, 1],\n",
      "        [1, 2, 1, 1, 1, 1, 2, 1, 1, 1, 1, 2, 1],\n",
      "        [2, 2, 2, 2, 2, 2, 2, 2, 2, 2, 2, 2, 2],\n",
      "        [1, 2, 1, 1, 1, 1, 2, 1, 1, 1, 1, 2, 1],\n",
      "        [1, 2, 1, 3, 3, 1, 2, 1, 3, 3, 1, 2, 1],\n",
      "        [1, 2, 1, 3, 3, 1, 2, 1, 3, 3, 1, 2, 1],\n",
      "        [1, 2, 1, 1, 1, 1, 2, 1, 1, 1, 1, 2, 1],\n",
      "        [2, 2, 2, 2, 2, 2, 2, 2, 2, 2, 2, 2, 2],\n",
      "        [1, 2, 1, 1, 1, 1, 2, 1, 1, 1, 1, 2, 1]], dtype=torch.int32)\n"
     ]
    }
   ],
   "source": [
    "def warm_up():\n",
    "    \"\"\" The idea is to build the main \"pattern\" matrix which could be seen at the center of the larger\n",
    "    tensor. Then reuse this basic matric four times and slice it to set \n",
    "    the four corners and (top, left, bottom, right) of the larger tensor.\"\"\"\n",
    "    t = torch.IntTensor(13, 13)\n",
    "\n",
    "    # Build main pattern matrix (6x6)\n",
    "    t33 = torch.full((2,2), 3, dtype=torch.int32)\n",
    "    t11 = torch.full((4,4), 1, dtype=torch.int32)\n",
    "    t22 = torch.full((6,6), 2, dtype=torch.int32)\n",
    "    t22[1:5, 1:5] = t11\n",
    "    t22[2:4, 2:4] = t33\n",
    "    \n",
    "    # Copy the matrix four times\n",
    "    t[1:7,1:7] = t22\n",
    "    t[1:7,6:12] = t22\n",
    "    t[6:12,1:7] = t22\n",
    "    t[6:12,6:12] = t22\n",
    "\n",
    "    # Upper left corner\n",
    "    t[0:2, 0:2] = t22[4:6, 4:6]\n",
    "    # Upper right corner\n",
    "    t[0:2, 11:13] = t22[4:6, 0:2]\n",
    "    # Upper middle twice\n",
    "    t[0:2,1:7] = t22[4:6, :]\n",
    "    t[0:2,6:12] = t22[4:6, :]\n",
    "    \n",
    "    # Lower left corner\n",
    "    t[11:14,0:2] = t22[0:2, 4:6]\n",
    "    # Lower right corner\n",
    "    t[11:14,11:14] = t22[0:2, 0:2]\n",
    "    # Lower middle twice\n",
    "    t[11:14,1:7] = t22[0:2, :]\n",
    "    t[11:14,6:12] = t22[0:2, :]\n",
    "    \n",
    "    # Left side\n",
    "    t[1:7, 0:2] = t22[:,4:6]\n",
    "    t[6:12, 0:2] = t22[:,4:6]\n",
    "\n",
    "    # Right side\n",
    "    t[1:7, 11:13] = t22[:,0:2]\n",
    "    t[6:12, 11:13] = t22[:,0:2]\n",
    "    \n",
    "    return t\n",
    "\n",
    "\n",
    "# Uncomment line below once you implement this function. \n",
    "print(warm_up())"
   ]
  },
  {
   "cell_type": "markdown",
   "metadata": {},
   "source": [
    "# 2. To Loop or not to loop"
   ]
  },
  {
   "cell_type": "markdown",
   "metadata": {},
   "source": [
    "## 2.1. `mul_row_loop`\n",
    "Write a function `mul_row_loop`, using python loops (and not even slicing operators), that gets a 2D tensor\n",
    "as input, and returns a tensor of same size, equal to the one given as argument, with the first row\n",
    "kept unchanged, the second multiplied by two, the third by three, etc.\n",
    "For instance:\n",
    "```\n",
    ">>> t = torch.full((4, 8), 2.0)\n",
    ">>> t\n",
    "tensor([[2., 2., 2., 2., 2., 2., 2., 2.],\n",
    "[2., 2., 2., 2., 2., 2., 2., 2.],\n",
    "[2., 2., 2., 2., 2., 2., 2., 2.],\n",
    "[2., 2., 2., 2., 2., 2., 2., 2.]])\n",
    ">>> mul_row(t)\n",
    "tensor([[2., 2., 2., 2., 2., 2., 2., 2.],\n",
    "[4., 4., 4., 4., 4., 4., 4., 4.],\n",
    "[6., 6., 6., 6., 6., 6., 6., 6.],\n",
    "[8., 8., 8., 8., 8., 8., 8., 8.]])\n",
    "```"
   ]
  },
  {
   "cell_type": "code",
   "execution_count": 6,
   "metadata": {},
   "outputs": [
    {
     "name": "stdout",
     "output_type": "stream",
     "text": [
      "tensor([[2., 2., 2., 2., 2., 2., 2., 2.],\n",
      "        [4., 4., 4., 4., 4., 4., 4., 4.],\n",
      "        [6., 6., 6., 6., 6., 6., 6., 6.],\n",
      "        [8., 8., 8., 8., 8., 8., 8., 8.]])\n"
     ]
    }
   ],
   "source": [
    "def mul_row_loop(input_tensor):\n",
    "    output_tensor = torch.Tensor(input_tensor.shape)\n",
    "    for i in range(input_tensor.shape[0]):\n",
    "        output_tensor[i] = input_tensor[i] * (i+1)\n",
    "    return output_tensor\n",
    "t = torch.full((4, 8), 2.0)\n",
    "print(mul_row_loop(t))"
   ]
  },
  {
   "cell_type": "markdown",
   "metadata": {},
   "source": [
    "# 2.2. `mul_row_fast`\n",
    "Write a second version of the same function named `mul_row_fast` which uses tensor operations and no looping.\n",
    "\n",
    "**Hint**: Use broadcasting and `torch.arange`, `torch.view`, and `torch.mul`."
   ]
  },
  {
   "cell_type": "code",
   "execution_count": 20,
   "metadata": {},
   "outputs": [
    {
     "name": "stdout",
     "output_type": "stream",
     "text": [
      "tensor([[2., 2., 2., 2., 2., 2., 2., 2.],\n",
      "        [4., 4., 4., 4., 4., 4., 4., 4.],\n",
      "        [6., 6., 6., 6., 6., 6., 6., 6.],\n",
      "        [8., 8., 8., 8., 8., 8., 8., 8.]])\n"
     ]
    }
   ],
   "source": [
    "def mul_row_fast(input_tensor):\n",
    "    input_tensor_t = input_tensor.view(input_tensor.shape[1], input_tensor.shape[0])\n",
    "    range_vector = torch.arange(1,input_tensor.shape[0] + 1, dtype=torch.float32)\n",
    "    range_vector = range_vector.view(1, range_vector.shape[0])  \n",
    "    #print('Input_Tensor Transpose shape={}, Range vector Shape={}'.format(input_tensor_t.shape, range_vector.shape))\n",
    "    r  = torch.mul(input_tensor_t,range_vector)\n",
    "    return r.permute(1, 0)\n",
    "\n",
    "t = torch.full((4, 8), 2.0)\n",
    "print(mul_row_fast(t))"
   ]
  },
  {
   "cell_type": "markdown",
   "metadata": {},
   "source": [
    "# Description of the function mul_row_fast:\n",
    "    1. Take the transpose of the input_tensor.\n",
    "    2. Generate a vector with step values, ex.[1,2,3,4].\n",
    "    3. Use Pytorch broadcasting to multiply the two tensors. \n",
    "        Without allocating more memory Pytorch will broadcast the row vector down.\n",
    "    4. Take the transpose of the product of the two tensors."
   ]
  },
  {
   "cell_type": "markdown",
   "metadata": {},
   "source": [
    "# 2.3. `times`\n",
    "Write a function `times` which takes a 2D tensor as input and returns the run times of `mul_row_loop` and `mul_row_fast` on this tensor, respectively. Use `time.perf_counter`.\n",
    "\n",
    "Use `torch.ones` to create a 2D tensor of size (1000, 400) full of ones and run `times` on it (there should be more than two orders of magnitude difference)."
   ]
  },
  {
   "cell_type": "code",
   "execution_count": 21,
   "metadata": {},
   "outputs": [
    {
     "name": "stdout",
     "output_type": "stream",
     "text": [
      "0.014772187918424606, 0.00021390500478446484\n"
     ]
    }
   ],
   "source": [
    "from time import perf_counter\n",
    "def times(input_tensor):\n",
    "    t_0 = perf_counter()\n",
    "    mul_row_loop(input_tensor)\n",
    "    time_1 = perf_counter() - t_0\n",
    "    t_0 = perf_counter()\n",
    "    mul_row_fast(input_tensor)\n",
    "    time_2 = perf_counter() - t_0\n",
    "    return time_1, time_2\n",
    "\n",
    "# Uncomment lines below once you implement this function. \n",
    "random_tensor = torch.ones(1000, 400)\n",
    "time_1, time_2 = times(random_tensor)\n",
    "print('{}, {}'.format(time_1, time_2))"
   ]
  },
  {
   "cell_type": "markdown",
   "metadata": {},
   "source": [
    "The vectorized version is 100 times faster."
   ]
  },
  {
   "cell_type": "markdown",
   "metadata": {},
   "source": [
    "# 3. Non-linearities"
   ]
  },
  {
   "cell_type": "markdown",
   "metadata": {},
   "source": [
    "## 3.1. ReLU\n",
    "ReLU (Rectified Linear Unit) is a non-linear activation fuction defined as:\n",
    "\n",
    "$$y = \\mathrm{max}(0,x)$$\n",
    "\n",
    "Define a fully connected neural network `linear_fc_relu` which:\n",
    "- takes 2 dimensional data as input and passes it through linear modules (`torch.nn.Linear`)\n",
    "- has one hidden layer of dimension 5 \n",
    "- has output dimension of 2\n",
    "- has ReLu as an activation function\n",
    "\n",
    "Create a tensor with input data $X$ of size (100, 2) using `torch.randn`. \n",
    "\n",
    "Following the example in https://github.com/Atcold/pytorch-Deep-Learning-Minicourse/blob/master/02-space_stretching.ipynb, visualize the output of passing `X` through the neural network `linear_fc_relu`."
   ]
  },
  {
   "cell_type": "code",
   "execution_count": 9,
   "metadata": {},
   "outputs": [],
   "source": [
    "# Input data\n",
    "X = torch.randn(100, 2)\n",
    "colors = X[:, 0]"
   ]
  },
  {
   "cell_type": "markdown",
   "metadata": {},
   "source": [
    "# Initial scatter plot of the data."
   ]
  },
  {
   "cell_type": "code",
   "execution_count": 10,
   "metadata": {},
   "outputs": [
    {
     "data": {
      "image/png": "[encoded data removed]",
      "text/plain": [
       "<Figure size 720x720 with 1 Axes>"
      ]
     },
     "metadata": {},
     "output_type": "display_data"
    }
   ],
   "source": [
    "show_scatterplot(X, colors, title='f(x)')"
   ]
  },
  {
   "cell_type": "code",
   "execution_count": 11,
   "metadata": {},
   "outputs": [],
   "source": [
    "# create 1-layer neural networks with ReLU activation\n",
    "n_hidden = 5\n",
    "n_output = 2\n",
    "NL =  nn.ReLU()\n",
    "linear_fc_relu = nn.Sequential(\n",
    "            nn.Linear(X.shape[1], n_hidden), \n",
    "            NL, \n",
    "            nn.Linear(n_hidden, n_output)\n",
    "        )"
   ]
  },
  {
   "cell_type": "markdown",
   "metadata": {},
   "source": [
    "# We display the outputs from the 1-layer neural network with initial weights.\n",
    "# First the data is streched by the linear transformation and then \n",
    "# the non-linearity introduced by the ReLu function curves the data."
   ]
  },
  {
   "cell_type": "code",
   "execution_count": 12,
   "metadata": {},
   "outputs": [
    {
     "data": {
      "image/png": "[encoded data removed]",
      "text/plain": [
       "<Figure size 720x720 with 1 Axes>"
      ]
     },
     "metadata": {},
     "output_type": "display_data"
    }
   ],
   "source": [
    "with torch.no_grad():\n",
    "    Y = linear_fc_relu(X)\n",
    "\n",
    "show_scatterplot(Y, colors, title='f(x)')"
   ]
  },
  {
   "cell_type": "markdown",
   "metadata": {},
   "source": [
    "## 3.2. Sigmoid\n",
    "The sigmoid function is another popular choice for a non-linear activation function which maps its input to values in the interval $(0,1)$. It is formally defined as:\n",
    "\n",
    "$$\\sigma(x) = \\frac{1}{1+ e^{-x}}$$\n",
    "\n",
    "Define a new neural network `linear_fc_sigmoid` which is the same architecture as in part `3.1.` but with a sigmoid unit instead of ReLU. \n",
    "\n",
    "Using the same $X$ as in part `3.1`, visualize the output of passing `X` through the neural network `linear_fc_sigmoid`."
   ]
  },
  {
   "cell_type": "code",
   "execution_count": 13,
   "metadata": {},
   "outputs": [],
   "source": [
    "# create 1-layer neural networks with Sigmoid activation\n",
    "NL = nn.Sigmoid()\n",
    "linear_fc_sigmoid = nn.Sequential(\n",
    "            nn.Linear(X.shape[1], n_hidden), \n",
    "            NL, \n",
    "            nn.Linear(n_hidden, n_output)\n",
    "        )"
   ]
  },
  {
   "cell_type": "code",
   "execution_count": 14,
   "metadata": {},
   "outputs": [
    {
     "data": {
      "image/png": "[encoded data removed]",
      "text/plain": [
       "<Figure size 720x720 with 1 Axes>"
      ]
     },
     "metadata": {},
     "output_type": "display_data"
    }
   ],
   "source": [
    "with torch.no_grad():\n",
    "    Y = linear_fc_sigmoid(X)\n",
    "show_scatterplot(Y, colors, title='f(x)')"
   ]
  },
  {
   "cell_type": "markdown",
   "metadata": {},
   "source": [
    "# Non-linearity introduced by the Sigmoid function \"squashes\" the data."
   ]
  },
  {
   "cell_type": "code",
   "execution_count": null,
   "metadata": {},
   "outputs": [],
   "source": []
  }
 ],
 "metadata": {
  "kernelspec": {
   "display_name": "Python 3",
   "language": "python",
   "name": "python3"
  },
  "language_info": {
   "codemirror_mode": {
    "name": "ipython",
    "version": 3
   },
   "file_extension": ".py",
   "mimetype": "text/x-python",
   "name": "python",
   "nbconvert_exporter": "python",
   "pygments_lexer": "ipython3",
   "version": "3.6.6"
  }
 },
 "nbformat": 4,
 "nbformat_minor": 2
}
