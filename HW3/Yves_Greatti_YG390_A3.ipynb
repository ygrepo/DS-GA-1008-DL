{
 "cells": [
  {
   "cell_type": "markdown",
   "metadata": {},
   "source": [
    "## 0. Setup"
   ]
  },
  {
   "cell_type": "code",
   "execution_count": 1,
   "metadata": {
    "collapsed": true
   },
   "outputs": [],
   "source": [
    "# Import dependencies\n",
    "import torch\n",
    "import torch.nn as nn\n",
    "import torch.nn.functional as F\n",
    "import torch.optim as optim\n",
    "from torch.utils.data import DataLoader\n",
    "from torchvision import datasets, transforms\n",
    "import matplotlib.pyplot as plt"
   ]
  },
  {
   "cell_type": "code",
   "execution_count": 2,
   "metadata": {
    "collapsed": true
   },
   "outputs": [],
   "source": [
    "# Set up your device \n",
    "cuda = torch.cuda.is_available()\n",
    "device = torch.device(\"cuda:0\" if cuda else \"cpu\")"
   ]
  },
  {
   "cell_type": "code",
   "execution_count": 3,
   "metadata": {
    "collapsed": true
   },
   "outputs": [],
   "source": [
    "# Set up random seed to 1008. Do not change the random seed.\n",
    "seed = 1008\n",
    "torch.manual_seed(seed)\n",
    "if cuda:\n",
    "    torch.cuda.manual_seed_all(seed)"
   ]
  },
  {
   "cell_type": "markdown",
   "metadata": {},
   "source": [
    "## 1. Data: MNIST\n",
    "#### Load the MNIST training and test dataset using $\\texttt{torch.utils.data.DataLoader}$ and $\\texttt{torchvision.datasets}$. \n",
    "\n",
    "Hint: You might find Alf's notebook useful: https://github.com/Atcold/pytorch-Deep-Learning-Minicourse/blob/master/06-convnet.ipynb"
   ]
  },
  {
   "cell_type": "markdown",
   "metadata": {},
   "source": [
    "### 1.1. Load Training Set [4 pts]"
   ]
  },
  {
   "cell_type": "code",
   "execution_count": 4,
   "metadata": {
    "collapsed": true
   },
   "outputs": [],
   "source": [
    "# Load the MNIST training set with batch size 128, apply data shuffling and normalization\n",
    "batch_size=128\n",
    "train_loader = torch.utils.data.DataLoader(\n",
    "    datasets.MNIST('../data', train=True, download=True,\n",
    "                   transform=transforms.Compose([\n",
    "                       transforms.ToTensor(),\n",
    "                       transforms.Normalize((0.1307,), (0.3081,))\n",
    "                   ])),\n",
    "    batch_size=batch_size, shuffle=True)"
   ]
  },
  {
   "cell_type": "code",
   "execution_count": 5,
   "metadata": {},
   "outputs": [
    {
     "data": {
      "image/png": "[encoded data removed]",
      "text/plain": [
       "<Figure size 1152x432 with 10 Axes>"
      ]
     },
     "metadata": {},
     "output_type": "display_data"
    }
   ],
   "source": [
    "# show some images\n",
    "plt.figure(figsize=(16, 6))\n",
    "for i in range(10):\n",
    "    plt.subplot(2, 5, i + 1)\n",
    "    image, _ = train_loader.dataset.__getitem__(i)\n",
    "    plt.imshow(image.squeeze().numpy())\n",
    "    plt.axis('off');"
   ]
  },
  {
   "cell_type": "markdown",
   "metadata": {},
   "source": [
    "### 1.1. Load Test Set [4 pts]"
   ]
  },
  {
   "cell_type": "code",
   "execution_count": 6,
   "metadata": {
    "collapsed": true
   },
   "outputs": [],
   "source": [
    "# Load the MNIST test set with batch size 128, apply data shuffling and normalization\n",
    "test_loader = torch.utils.data.DataLoader(\n",
    "    datasets.MNIST('../data', train=False, transform=transforms.Compose([\n",
    "                       transforms.ToTensor(),\n",
    "                       transforms.Normalize((0.1307,), (0.3081,))\n",
    "                   ])),\n",
    "    batch_size=batch_size, shuffle=True)"
   ]
  },
  {
   "cell_type": "code",
   "execution_count": 7,
   "metadata": {},
   "outputs": [
    {
     "data": {
      "image/png": "[encoded data removed]",
      "text/plain": [
       "<Figure size 1152x432 with 10 Axes>"
      ]
     },
     "metadata": {},
     "output_type": "display_data"
    }
   ],
   "source": [
    "plt.figure(figsize=(16, 6))\n",
    "for i in range(10):\n",
    "    plt.subplot(2, 5, i + 1)\n",
    "    image, _ = test_loader.dataset.__getitem__(i)\n",
    "    plt.imshow(image.squeeze().numpy())\n",
    "    plt.axis('off');"
   ]
  },
  {
   "cell_type": "markdown",
   "metadata": {},
   "source": [
    "## 2. Models\n",
    "#### You are going to define two convolutional neural networks which are trained to classify MNIST digits"
   ]
  },
  {
   "cell_type": "markdown",
   "metadata": {},
   "source": [
    "### 2.1. CNN without Batch Norm [15 pts]"
   ]
  },
  {
   "cell_type": "code",
   "execution_count": 8,
   "metadata": {
    "collapsed": true
   },
   "outputs": [],
   "source": [
    "# Fill in the values below that make this network valid for MNIST data\n",
    "\n",
    "# conv1_in_ch = TODO\n",
    "# conv2_in_ch = TODO\n",
    "# fc1_in_features = TODO\n",
    "# fc2_in_features = TODO\n",
    "# n_classes = TODO\n",
    "conv1_in_ch = 1\n",
    "conv2_in_ch = 20\n",
    "fc1_in_features = 800\n",
    "fc2_in_features = 500\n",
    "n_classes = 10"
   ]
  },
  {
   "cell_type": "code",
   "execution_count": 9,
   "metadata": {
    "collapsed": true
   },
   "outputs": [],
   "source": [
    "class NetWithoutBatchNorm(nn.Module):\n",
    "    def __init__(self):\n",
    "        super(NetWithoutBatchNorm, self).__init__()\n",
    "        self.conv1 = nn.Conv2d(in_channels=conv1_in_ch, out_channels=20, kernel_size=5, stride=1)\n",
    "        self.conv2 = nn.Conv2d(in_channels=conv2_in_ch, out_channels=50, kernel_size=5, stride=1)\n",
    "        self.fc1 = nn.Linear(in_features=fc1_in_features, out_features=500)\n",
    "        self.fc2 = nn.Linear(in_features=fc2_in_features, out_features=n_classes)\n",
    "\n",
    "    def forward(self, x):\n",
    "        x = F.relu(self.conv1(x))\n",
    "        x = F.max_pool2d(x, kernel_size=2, stride=2)\n",
    "        x = F.relu(self.conv2(x))\n",
    "        x = F.max_pool2d(x, kernel_size=2, stride=2)\n",
    "        x = x.view(-1, fc1_in_features) # reshaping\n",
    "        x = F.relu(self.fc1(x))\n",
    "        x = self.fc2(x)\n",
    "        x = F.log_softmax(x, dim=1)\n",
    "        return x"
   ]
  },
  {
   "cell_type": "markdown",
   "metadata": {},
   "source": [
    "### 2.2. CNN with Batch Norm [15 pts]"
   ]
  },
  {
   "cell_type": "code",
   "execution_count": 10,
   "metadata": {
    "collapsed": true
   },
   "outputs": [],
   "source": [
    "# Fill in the values below that make this network valid for MNIST data\n",
    "\n",
    "# conv1_bn_size = TODO\n",
    "# conv2_bn_size = TODO\n",
    "# fc1_bn_size = TODO\n",
    "conv1_bn_size = 20\n",
    "conv2_bn_size = 50\n",
    "fc1_bn_size = 500"
   ]
  },
  {
   "cell_type": "code",
   "execution_count": 11,
   "metadata": {
    "collapsed": true
   },
   "outputs": [],
   "source": [
    "# Define the CNN with architecture explained in Part 2.2\n",
    "class NetWithBatchNorm(nn.Module):\n",
    "    def __init__(self):\n",
    "        super(NetWithBatchNorm, self).__init__()\n",
    "        self.conv1 = nn.Conv2d(in_channels=conv1_in_ch, out_channels=20, kernel_size=5, stride=1)\n",
    "        self.conv1_bn = nn.BatchNorm2d(conv1_bn_size)\n",
    "        self.conv2 = nn.Conv2d(in_channels=conv2_in_ch, out_channels=50, kernel_size=5, stride=1)\n",
    "        self.conv2_bn = nn.BatchNorm2d(conv2_bn_size)\n",
    "        self.fc1 = nn.Linear(in_features=fc1_in_features, out_features=500)\n",
    "        self.fc1_bn = nn.BatchNorm1d(fc1_bn_size)\n",
    "        self.fc2 = nn.Linear(in_features=fc2_in_features, out_features=n_classes)\n",
    "\n",
    "    def forward(self, x):\n",
    "        x = F.relu(self.conv1_bn(self.conv1(x)))\n",
    "        x = F.max_pool2d(x, kernel_size=2, stride=2)\n",
    "        x = F.relu(self.conv2_bn(self.conv2(x)))\n",
    "        x = F.max_pool2d(x, kernel_size=2, stride=2)\n",
    "        x = x.view(-1, fc1_in_features)\n",
    "        x = F.relu(self.fc1_bn(self.fc1(x)))\n",
    "        x = self.fc2(x)\n",
    "        x = F.log_softmax(x, dim=1)\n",
    "        return x"
   ]
  },
  {
   "cell_type": "markdown",
   "metadata": {},
   "source": [
    "## 3. Training & Evaluation"
   ]
  },
  {
   "cell_type": "markdown",
   "metadata": {},
   "source": [
    "### 3.1. Define training method [15 pts]"
   ]
  },
  {
   "cell_type": "code",
   "execution_count": 12,
   "metadata": {},
   "outputs": [],
   "source": [
    "# perm=torch.arange(0, 784).long()"
   ]
  },
  {
   "cell_type": "code",
   "execution_count": 13,
   "metadata": {
    "collapsed": true
   },
   "outputs": [],
   "source": [
    "def train(model, device, train_loader, optimizer, epoch, log_interval = 100):\n",
    "    # Set model to training mode\n",
    "    model.train()\n",
    "    # Loop through data points\n",
    "    for batch_idx, (data, target) in enumerate(train_loader):\n",
    "    \n",
    "        # Send data and target to device\n",
    "        data, target = data.to(device), target.to(device)\n",
    "\n",
    "        # permute pixels\n",
    "        # data = data.view(-1, 28*28)\n",
    "        # data = data[:, perm]\n",
    "        # data = data.view(-1, 1, 28, 28)\n",
    "        \n",
    "        # Zero out the optimizer\n",
    "        optimizer.zero_grad()\n",
    "        \n",
    "        # Pass data through model\n",
    "        output = model(data)\n",
    "        \n",
    "        # Compute the negative log likelihood loss\n",
    "        loss = F.nll_loss(output, target)\n",
    "        \n",
    "        # Backpropagate loss\n",
    "        loss.backward(retain_graph=True)\n",
    "        \n",
    "        # Make a step with the optimizer\n",
    "        optimizer.step()\n",
    "        \n",
    "        # Print loss (uncomment lines below once implemented)\n",
    "        if batch_idx % log_interval == 0:\n",
    "            print('Train Epoch: {} [{}/{} ({:.0f}%)]\\tLoss: {:.6f}'.format(\n",
    "                epoch, batch_idx * len(data), len(train_loader.dataset),\n",
    "                100. * batch_idx / len(train_loader), loss.item()))"
   ]
  },
  {
   "cell_type": "markdown",
   "metadata": {},
   "source": [
    "### 3.2. Define test method [15 pts]"
   ]
  },
  {
   "cell_type": "code",
   "execution_count": 14,
   "metadata": {
    "collapsed": true
   },
   "outputs": [],
   "source": [
    "# Define test method\n",
    "def test(model, device, test_loader):\n",
    "    # Set model to evaluation mode\n",
    "    model.eval()\n",
    "    \n",
    "    # Variable for the total loss \n",
    "    test_loss = 0\n",
    "    # Counter for the correct predictions\n",
    "    num_correct = 0\n",
    "    \n",
    "    with torch.no_grad():\n",
    "        \n",
    "        # Loop through data points\n",
    "        for data, target in test_loader:\n",
    "        \n",
    "            # Send data to device\n",
    "            data, target = data.to(device), target.to(device)\n",
    "            \n",
    "            # permute pixels\n",
    "            # data = data.view(-1, 28*28)\n",
    "            # data = data[:, perm]\n",
    "            # data = data.view(-1, 1, 28, 28)\n",
    "        \n",
    "            # Pass data through model\n",
    "            output = model(data)\n",
    "            \n",
    "            # Compute the negative log likelihood loss with reduction='sum' and add to total test_loss\n",
    "            test_loss += F.nll_loss(output, target, reduction='sum').item() # sum up batch loss                                                               \n",
    "            \n",
    "            # Get predictions from the model for each data point\n",
    "            pred = output.data.max(1, keepdim=True)[1] # get the index of the max log-probability                                                                 \n",
    "            \n",
    "            # Add number of correct predictions to total num_correct \n",
    "            num_correct += pred.eq(target.data.view_as(pred)).cpu().sum().item()\n",
    "    \n",
    "    # Compute the average test_loss\n",
    "    avg_test_loss = test_loss / len(test_loader.dataset)\n",
    "    \n",
    "    # Print loss (uncomment lines below once implemented)\n",
    "    print('\\nTest set: Average loss: {:.4f}, Accuracy: {}/{} ({:.0f}%)\\n'.format(\n",
    "        avg_test_loss, num_correct, len(test_loader.dataset),\n",
    "        100. * num_correct / len(test_loader.dataset)))"
   ]
  },
  {
   "cell_type": "markdown",
   "metadata": {},
   "source": [
    "### 3.3 Train NetWithoutBatchNorm() [5 pts]"
   ]
  },
  {
   "cell_type": "code",
   "execution_count": 15,
   "metadata": {},
   "outputs": [],
   "source": [
    "# function to count number of parameters\n",
    "def get_n_params(model):\n",
    "    np=0\n",
    "    for p in list(model.parameters()):\n",
    "        np += p.nelement()\n",
    "    return np"
   ]
  },
  {
   "cell_type": "code",
   "execution_count": 16,
   "metadata": {
    "collapsed": true
   },
   "outputs": [
    {
     "name": "stdout",
     "output_type": "stream",
     "text": [
      "Train Epoch: 1 [0/60000 (0%)]\tLoss: 2.312853\n",
      "Train Epoch: 1 [12800/60000 (21%)]\tLoss: 0.508883\n",
      "Train Epoch: 1 [25600/60000 (43%)]\tLoss: 0.338513\n",
      "Train Epoch: 1 [38400/60000 (64%)]\tLoss: 0.321705\n",
      "Train Epoch: 1 [51200/60000 (85%)]\tLoss: 0.222961\n",
      "\n",
      "Test set: Average loss: 0.1602, Accuracy: 9518/10000 (95%)\n",
      "\n",
      "Train Epoch: 2 [0/60000 (0%)]\tLoss: 0.232052\n",
      "Train Epoch: 2 [12800/60000 (21%)]\tLoss: 0.103896\n",
      "Train Epoch: 2 [25600/60000 (43%)]\tLoss: 0.121068\n",
      "Train Epoch: 2 [38400/60000 (64%)]\tLoss: 0.176942\n",
      "Train Epoch: 2 [51200/60000 (85%)]\tLoss: 0.112468\n",
      "\n",
      "Test set: Average loss: 0.0939, Accuracy: 9729/10000 (97%)\n",
      "\n",
      "Train Epoch: 3 [0/60000 (0%)]\tLoss: 0.086948\n",
      "Train Epoch: 3 [12800/60000 (21%)]\tLoss: 0.054974\n",
      "Train Epoch: 3 [25600/60000 (43%)]\tLoss: 0.100744\n",
      "Train Epoch: 3 [38400/60000 (64%)]\tLoss: 0.060711\n",
      "Train Epoch: 3 [51200/60000 (85%)]\tLoss: 0.062609\n",
      "\n",
      "Test set: Average loss: 0.0812, Accuracy: 9752/10000 (98%)\n",
      "\n",
      "Train Epoch: 4 [0/60000 (0%)]\tLoss: 0.027301\n",
      "Train Epoch: 4 [12800/60000 (21%)]\tLoss: 0.056135\n",
      "Train Epoch: 4 [25600/60000 (43%)]\tLoss: 0.037865\n",
      "Train Epoch: 4 [38400/60000 (64%)]\tLoss: 0.039746\n",
      "Train Epoch: 4 [51200/60000 (85%)]\tLoss: 0.078965\n",
      "\n",
      "Test set: Average loss: 0.0625, Accuracy: 9793/10000 (98%)\n",
      "\n",
      "Train Epoch: 5 [0/60000 (0%)]\tLoss: 0.053431\n",
      "Train Epoch: 5 [12800/60000 (21%)]\tLoss: 0.068271\n",
      "Train Epoch: 5 [25600/60000 (43%)]\tLoss: 0.031526\n",
      "Train Epoch: 5 [38400/60000 (64%)]\tLoss: 0.044106\n",
      "Train Epoch: 5 [51200/60000 (85%)]\tLoss: 0.024586\n",
      "\n",
      "Test set: Average loss: 0.0579, Accuracy: 9818/10000 (98%)\n",
      "\n",
      "Train Epoch: 6 [0/60000 (0%)]\tLoss: 0.107286\n",
      "Train Epoch: 6 [12800/60000 (21%)]\tLoss: 0.065251\n",
      "Train Epoch: 6 [25600/60000 (43%)]\tLoss: 0.013385\n",
      "Train Epoch: 6 [38400/60000 (64%)]\tLoss: 0.093089\n",
      "Train Epoch: 6 [51200/60000 (85%)]\tLoss: 0.052964\n",
      "\n",
      "Test set: Average loss: 0.0473, Accuracy: 9837/10000 (98%)\n",
      "\n",
      "Train Epoch: 7 [0/60000 (0%)]\tLoss: 0.079725\n",
      "Train Epoch: 7 [12800/60000 (21%)]\tLoss: 0.075014\n",
      "Train Epoch: 7 [25600/60000 (43%)]\tLoss: 0.082939\n",
      "Train Epoch: 7 [38400/60000 (64%)]\tLoss: 0.075260\n",
      "Train Epoch: 7 [51200/60000 (85%)]\tLoss: 0.071056\n",
      "\n",
      "Test set: Average loss: 0.0418, Accuracy: 9869/10000 (99%)\n",
      "\n",
      "Train Epoch: 8 [0/60000 (0%)]\tLoss: 0.018201\n",
      "Train Epoch: 8 [12800/60000 (21%)]\tLoss: 0.017870\n",
      "Train Epoch: 8 [25600/60000 (43%)]\tLoss: 0.044798\n",
      "Train Epoch: 8 [38400/60000 (64%)]\tLoss: 0.035128\n",
      "Train Epoch: 8 [51200/60000 (85%)]\tLoss: 0.013241\n",
      "\n",
      "Test set: Average loss: 0.0497, Accuracy: 9836/10000 (98%)\n",
      "\n",
      "Train Epoch: 9 [0/60000 (0%)]\tLoss: 0.073147\n",
      "Train Epoch: 9 [12800/60000 (21%)]\tLoss: 0.049970\n",
      "Train Epoch: 9 [25600/60000 (43%)]\tLoss: 0.039872\n",
      "Train Epoch: 9 [38400/60000 (64%)]\tLoss: 0.009831\n",
      "Train Epoch: 9 [51200/60000 (85%)]\tLoss: 0.029314\n",
      "\n",
      "Test set: Average loss: 0.0348, Accuracy: 9884/10000 (99%)\n",
      "\n",
      "Train Epoch: 10 [0/60000 (0%)]\tLoss: 0.015490\n",
      "Train Epoch: 10 [12800/60000 (21%)]\tLoss: 0.026427\n",
      "Train Epoch: 10 [25600/60000 (43%)]\tLoss: 0.035783\n",
      "Train Epoch: 10 [38400/60000 (64%)]\tLoss: 0.017847\n",
      "Train Epoch: 10 [51200/60000 (85%)]\tLoss: 0.006331\n",
      "\n",
      "Test set: Average loss: 0.0340, Accuracy: 9894/10000 (99%)\n",
      "\n"
     ]
    }
   ],
   "source": [
    "# Define model and sent to device\n",
    "model = NetWithoutBatchNorm()\n",
    "model.to(device)\n",
    "\n",
    "# Optimizer: SGD with learning rate of 1e-2 and momentum of 0.5\n",
    "optimizer = optim.SGD(model.parameters(), lr=0.01, momentum=0.5)\n",
    "\n",
    "#print('Number of parameters: {}'.format(get_n_params(model)))\n",
    "\n",
    "# Training loop with 10 epochs\n",
    "for epoch in range(1, 10 + 1):\n",
    "    # Train model\n",
    "    train(model, device, train_loader, optimizer, epoch, log_interval = 100)\n",
    "    \n",
    "    # Test model\n",
    "    test(model, device, test_loader)"
   ]
  },
  {
   "cell_type": "markdown",
   "metadata": {},
   "source": [
    "### 3.4 Train NetWithBatchNorm() [5 pts]"
   ]
  },
  {
   "cell_type": "code",
   "execution_count": 17,
   "metadata": {
    "collapsed": true
   },
   "outputs": [
    {
     "name": "stdout",
     "output_type": "stream",
     "text": [
      "Train Epoch: 1 [0/60000 (0%)]\tLoss: 2.297710\n",
      "Train Epoch: 1 [12800/60000 (21%)]\tLoss: 0.416980\n",
      "Train Epoch: 1 [25600/60000 (43%)]\tLoss: 0.235826\n",
      "Train Epoch: 1 [38400/60000 (64%)]\tLoss: 0.159249\n",
      "Train Epoch: 1 [51200/60000 (85%)]\tLoss: 0.107711\n",
      "\n",
      "Test set: Average loss: 0.1100, Accuracy: 9767/10000 (98%)\n",
      "\n",
      "Train Epoch: 2 [0/60000 (0%)]\tLoss: 0.105451\n",
      "Train Epoch: 2 [12800/60000 (21%)]\tLoss: 0.082919\n",
      "Train Epoch: 2 [25600/60000 (43%)]\tLoss: 0.098036\n",
      "Train Epoch: 2 [38400/60000 (64%)]\tLoss: 0.073616\n",
      "Train Epoch: 2 [51200/60000 (85%)]\tLoss: 0.076266\n",
      "\n",
      "Test set: Average loss: 0.0647, Accuracy: 9849/10000 (98%)\n",
      "\n",
      "Train Epoch: 3 [0/60000 (0%)]\tLoss: 0.084128\n",
      "Train Epoch: 3 [12800/60000 (21%)]\tLoss: 0.081550\n",
      "Train Epoch: 3 [25600/60000 (43%)]\tLoss: 0.043002\n",
      "Train Epoch: 3 [38400/60000 (64%)]\tLoss: 0.062172\n",
      "Train Epoch: 3 [51200/60000 (85%)]\tLoss: 0.057473\n",
      "\n",
      "Test set: Average loss: 0.0548, Accuracy: 9874/10000 (99%)\n",
      "\n",
      "Train Epoch: 4 [0/60000 (0%)]\tLoss: 0.031446\n",
      "Train Epoch: 4 [12800/60000 (21%)]\tLoss: 0.097227\n",
      "Train Epoch: 4 [25600/60000 (43%)]\tLoss: 0.038944\n",
      "Train Epoch: 4 [38400/60000 (64%)]\tLoss: 0.045095\n",
      "Train Epoch: 4 [51200/60000 (85%)]\tLoss: 0.047073\n",
      "\n",
      "Test set: Average loss: 0.0428, Accuracy: 9886/10000 (99%)\n",
      "\n",
      "Train Epoch: 5 [0/60000 (0%)]\tLoss: 0.072891\n",
      "Train Epoch: 5 [12800/60000 (21%)]\tLoss: 0.048691\n",
      "Train Epoch: 5 [25600/60000 (43%)]\tLoss: 0.022268\n",
      "Train Epoch: 5 [38400/60000 (64%)]\tLoss: 0.058612\n",
      "Train Epoch: 5 [51200/60000 (85%)]\tLoss: 0.034955\n",
      "\n",
      "Test set: Average loss: 0.0391, Accuracy: 9897/10000 (99%)\n",
      "\n",
      "Train Epoch: 6 [0/60000 (0%)]\tLoss: 0.056956\n",
      "Train Epoch: 6 [12800/60000 (21%)]\tLoss: 0.066849\n",
      "Train Epoch: 6 [25600/60000 (43%)]\tLoss: 0.085027\n",
      "Train Epoch: 6 [38400/60000 (64%)]\tLoss: 0.032650\n",
      "Train Epoch: 6 [51200/60000 (85%)]\tLoss: 0.086199\n",
      "\n",
      "Test set: Average loss: 0.0356, Accuracy: 9899/10000 (99%)\n",
      "\n",
      "Train Epoch: 7 [0/60000 (0%)]\tLoss: 0.028954\n",
      "Train Epoch: 7 [12800/60000 (21%)]\tLoss: 0.053945\n",
      "Train Epoch: 7 [25600/60000 (43%)]\tLoss: 0.044561\n",
      "Train Epoch: 7 [38400/60000 (64%)]\tLoss: 0.021687\n",
      "Train Epoch: 7 [51200/60000 (85%)]\tLoss: 0.016585\n",
      "\n",
      "Test set: Average loss: 0.0341, Accuracy: 9900/10000 (99%)\n",
      "\n",
      "Train Epoch: 8 [0/60000 (0%)]\tLoss: 0.009382\n",
      "Train Epoch: 8 [12800/60000 (21%)]\tLoss: 0.083831\n",
      "Train Epoch: 8 [25600/60000 (43%)]\tLoss: 0.029730\n",
      "Train Epoch: 8 [38400/60000 (64%)]\tLoss: 0.065138\n",
      "Train Epoch: 8 [51200/60000 (85%)]\tLoss: 0.031923\n",
      "\n",
      "Test set: Average loss: 0.0327, Accuracy: 9903/10000 (99%)\n",
      "\n",
      "Train Epoch: 9 [0/60000 (0%)]\tLoss: 0.027480\n",
      "Train Epoch: 9 [12800/60000 (21%)]\tLoss: 0.012750\n",
      "Train Epoch: 9 [25600/60000 (43%)]\tLoss: 0.021922\n",
      "Train Epoch: 9 [38400/60000 (64%)]\tLoss: 0.029851\n",
      "Train Epoch: 9 [51200/60000 (85%)]\tLoss: 0.020813\n",
      "\n",
      "Test set: Average loss: 0.0303, Accuracy: 9909/10000 (99%)\n",
      "\n",
      "Train Epoch: 10 [0/60000 (0%)]\tLoss: 0.013108\n",
      "Train Epoch: 10 [12800/60000 (21%)]\tLoss: 0.019623\n",
      "Train Epoch: 10 [25600/60000 (43%)]\tLoss: 0.010266\n",
      "Train Epoch: 10 [38400/60000 (64%)]\tLoss: 0.010422\n",
      "Train Epoch: 10 [51200/60000 (85%)]\tLoss: 0.032317\n",
      "\n",
      "Test set: Average loss: 0.0304, Accuracy: 9908/10000 (99%)\n",
      "\n"
     ]
    }
   ],
   "source": [
    "# Deifne model and sent to device\n",
    "model = NetWithBatchNorm()\n",
    "model.to(device)\n",
    "\n",
    "# Optimizer: SGD with learning rate of 1e-2 and momentum of 0.5\n",
    "optimizer = optim.SGD(model.parameters(), lr=0.01, momentum=0.5)\n",
    "\n",
    "# Training loop with 10 epochs\n",
    "for epoch in range(1, 10 + 1):\n",
    "\n",
    "    # Train model\n",
    "    train(model, device, train_loader, optimizer, epoch, log_interval = 100)\n",
    "    \n",
    "    # Test model\n",
    "    test(model, device, test_loader)"
   ]
  },
  {
   "cell_type": "markdown",
   "metadata": {},
   "source": [
    "## 4. Empirically, which of the models achieves higher accuracy faster? [2 pts]"
   ]
  },
  {
   "cell_type": "markdown",
   "metadata": {},
   "source": [
    "Answer: Training with batch normalization achieves higher accuracy faster. The batch normalization version of same cnn reaches 99% of accuracy after less number of epoch compared to the same cnn without batch normalization.\n",
    "Batch normalization reduces the dependencies between layers, and stabilizes the neural network. \n",
    "Some of the benefits are:\n",
    "1. Batch normalization allows each layer of a network to learn by itself more independently of other layers (covariance shift).\n",
    "\n",
    "2. People can use higher learning rates because batch normalization makes sure that’s there is not activation that’s gone too high or too low. The network trains faster.\n",
    "\n",
    "3. It reduces overfitting because it has a slight regularization effect. Similar to dropout it adds some noise to each hidden layer’s activation.\n",
    "\n"
   ]
  },
  {
   "cell_type": "code",
   "execution_count": null,
   "metadata": {},
   "outputs": [],
   "source": []
  }
 ],
 "metadata": {
  "kernelspec": {
   "display_name": "Python 3",
   "language": "python",
   "name": "python3"
  },
  "language_info": {
   "codemirror_mode": {
    "name": "ipython",
    "version": 3
   },
   "file_extension": ".py",
   "mimetype": "text/x-python",
   "name": "python",
   "nbconvert_exporter": "python",
   "pygments_lexer": "ipython3",
   "version": "3.6.7"
  }
 },
 "nbformat": 4,
 "nbformat_minor": 2
}
