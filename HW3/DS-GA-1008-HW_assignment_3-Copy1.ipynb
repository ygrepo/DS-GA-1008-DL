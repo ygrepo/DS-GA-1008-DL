{
 "cells": [
  {
   "cell_type": "markdown",
   "metadata": {},
   "source": [
    "## 0. Setup"
   ]
  },
  {
   "cell_type": "code",
   "execution_count": 1,
   "metadata": {
    "collapsed": true
   },
   "outputs": [],
   "source": [
    "# Import dependencies\n",
    "import torch\n",
    "import torch.nn as nn\n",
    "import torch.nn.functional as F\n",
    "import torch.optim as optim\n",
    "from torch.utils.data import DataLoader\n",
    "from torchvision import datasets, transforms\n",
    "import matplotlib.pyplot as plt"
   ]
  },
  {
   "cell_type": "code",
   "execution_count": 2,
   "metadata": {},
   "outputs": [],
   "source": [
    "from plot_lib import plot_data, plot_model, set_default"
   ]
  },
  {
   "cell_type": "code",
   "execution_count": 3,
   "metadata": {},
   "outputs": [],
   "source": [
    "set_default()"
   ]
  },
  {
   "cell_type": "code",
   "execution_count": 4,
   "metadata": {
    "collapsed": true
   },
   "outputs": [],
   "source": [
    "# Set up your device \n",
    "cuda = torch.cuda.is_available()\n",
    "device = torch.device(\"cuda:0\" if cuda else \"cpu\")"
   ]
  },
  {
   "cell_type": "code",
   "execution_count": 5,
   "metadata": {
    "collapsed": true
   },
   "outputs": [],
   "source": [
    "# Set up random seed to 1008. Do not change the random seed.\n",
    "seed = 1008\n",
    "torch.manual_seed(seed)\n",
    "if cuda:\n",
    "    torch.cuda.manual_seed_all(seed)"
   ]
  },
  {
   "cell_type": "markdown",
   "metadata": {},
   "source": [
    "## 1. Data: MNIST\n",
    "#### Load the MNIST training and test dataset using $\\texttt{torch.utils.data.DataLoader}$ and $\\texttt{torchvision.datasets}$. \n",
    "\n",
    "Hint: You might find Alf's notebook useful: https://github.com/Atcold/pytorch-Deep-Learning-Minicourse/blob/master/06-convnet.ipynb"
   ]
  },
  {
   "cell_type": "markdown",
   "metadata": {},
   "source": [
    "### 1.1. Load Training Set [4 pts]"
   ]
  },
  {
   "cell_type": "code",
   "execution_count": 6,
   "metadata": {
    "collapsed": true
   },
   "outputs": [],
   "source": [
    "# Load the MNIST training set with batch size 128, apply data shuffling and normalization\n",
    "# train_loader = TODO\n",
    "batch_size=128\n",
    "train_loader = torch.utils.data.DataLoader(\n",
    "    datasets.MNIST('../data', train=True, download=True,\n",
    "                   transform=transforms.Compose([\n",
    "                       transforms.ToTensor(),\n",
    "                       transforms.Normalize((0.1307,), (0.3081,))\n",
    "                   ])),\n",
    "    batch_size=batch_size, shuffle=True)"
   ]
  },
  {
   "cell_type": "code",
   "execution_count": 7,
   "metadata": {},
   "outputs": [
    {
     "name": "stdout",
     "output_type": "stream",
     "text": [
      "torch.Size([128, 1, 28, 28])\n",
      "torch.Size([128, 1, 28, 28])\n"
     ]
    }
   ],
   "source": [
    "perm=torch.arange(0, 784).long()\n",
    "for batch_idx, (data, target) in enumerate(train_loader):\n",
    "        # send to device\n",
    "        data, target = data.to(device), target.to(device)\n",
    "        \n",
    "        # permute pixels\n",
    "        print(data.shape)\n",
    "        data = data.view(-1, 28*28)\n",
    "        data = data[:, perm]\n",
    "        data = data.view(-1, 1, 28, 28)\n",
    "        print(data.shape)\n",
    "        break"
   ]
  },
  {
   "cell_type": "code",
   "execution_count": 8,
   "metadata": {},
   "outputs": [
    {
     "data": {
      "text/plain": [
       "torch.Size([128, 800])"
      ]
     },
     "execution_count": 8,
     "metadata": {},
     "output_type": "execute_result"
    }
   ],
   "source": [
    "m = torch.rand([128, 50, 4, 4])\n",
    "m = m.view(-1, 50*4*4)\n",
    "m.shape"
   ]
  },
  {
   "cell_type": "code",
   "execution_count": 9,
   "metadata": {},
   "outputs": [
    {
     "data": {
      "image/png": "[encoded data removed]",
      "text/plain": [
       "<Figure size 1152x432 with 10 Axes>"
      ]
     },
     "metadata": {},
     "output_type": "display_data"
    }
   ],
   "source": [
    "# show some images\n",
    "plt.figure(figsize=(16, 6))\n",
    "for i in range(10):\n",
    "    plt.subplot(2, 5, i + 1)\n",
    "    image, _ = train_loader.dataset.__getitem__(i)\n",
    "    plt.imshow(image.squeeze().numpy())\n",
    "    plt.axis('off');"
   ]
  },
  {
   "cell_type": "markdown",
   "metadata": {},
   "source": [
    "### 1.1. Load Test Set [4 pts]"
   ]
  },
  {
   "cell_type": "code",
   "execution_count": 10,
   "metadata": {
    "collapsed": true
   },
   "outputs": [],
   "source": [
    "# Load the MNIST test set with batch size 128, apply data shuffling and normalization\n",
    "# test_loader = TODO\n",
    "test_loader = torch.utils.data.DataLoader(\n",
    "    datasets.MNIST('../data', train=False, transform=transforms.Compose([\n",
    "                       transforms.ToTensor(),\n",
    "                       transforms.Normalize((0.1307,), (0.3081,))\n",
    "                   ])),\n",
    "    batch_size=batch_size, shuffle=True)"
   ]
  },
  {
   "cell_type": "code",
   "execution_count": 11,
   "metadata": {},
   "outputs": [
    {
     "data": {
      "image/png": "[encoded data removed]",
      "text/plain": [
       "<Figure size 1152x432 with 10 Axes>"
      ]
     },
     "metadata": {},
     "output_type": "display_data"
    }
   ],
   "source": [
    "plt.figure(figsize=(16, 6))\n",
    "for i in range(10):\n",
    "    plt.subplot(2, 5, i + 1)\n",
    "    image, _ = test_loader.dataset.__getitem__(i)\n",
    "    plt.imshow(image.squeeze().numpy())\n",
    "    plt.axis('off');"
   ]
  },
  {
   "cell_type": "markdown",
   "metadata": {},
   "source": [
    "## 2. Models\n",
    "#### You are going to define two convolutional neural networks which are trained to classify MNIST digits"
   ]
  },
  {
   "cell_type": "markdown",
   "metadata": {},
   "source": [
    "### 2.1. CNN without Batch Norm [15 pts]"
   ]
  },
  {
   "cell_type": "code",
   "execution_count": 12,
   "metadata": {
    "collapsed": true
   },
   "outputs": [],
   "source": [
    "# Fill in the values below that make this network valid for MNIST data\n",
    "\n",
    "# conv1_in_ch = TODO\n",
    "# conv2_in_ch = TODO\n",
    "# fc1_in_features = TODO\n",
    "# fc2_in_features = TODO\n",
    "# n_classes = TODO\n",
    "conv1_in_ch = 1\n",
    "conv2_in_ch = 20\n",
    "fc1_in_features = 800\n",
    "fc2_in_features = 500\n",
    "n_classes = 10"
   ]
  },
  {
   "cell_type": "code",
   "execution_count": 13,
   "metadata": {
    "collapsed": true
   },
   "outputs": [],
   "source": [
    "class NetWithoutBatchNorm(nn.Module):\n",
    "    def __init__(self):\n",
    "        super(NetWithoutBatchNorm, self).__init__()\n",
    "        self.conv1 = nn.Conv2d(in_channels=conv1_in_ch, out_channels=20, kernel_size=5, stride=1)\n",
    "        self.conv2 = nn.Conv2d(in_channels=conv2_in_ch, out_channels=50, kernel_size=5, stride=1)\n",
    "        self.fc1 = nn.Linear(in_features=fc1_in_features, out_features=500)\n",
    "        self.fc2 = nn.Linear(in_features=fc2_in_features, out_features=n_classes)\n",
    "\n",
    "    def forward(self, x):\n",
    "        x = F.relu(self.conv1(x))\n",
    "        #print('conv1.{}'.format(x.shape))\n",
    "        x = F.max_pool2d(x, kernel_size=2, stride=2)\n",
    "        #print('pool1.{}'.format(x.shape))\n",
    "        x = F.relu(self.conv2(x))\n",
    "        #print('conv2.{}'.format(x.shape))\n",
    "        x = F.max_pool2d(x, kernel_size=2, stride=2)\n",
    "        #print('pool2.{}'.format(x.shape))\n",
    "        x = x.view(-1, fc1_in_features) # reshaping\n",
    "        #print('reshape.{}'.format(x.shape))\n",
    "        x = F.relu(self.fc1(x))\n",
    "        #print('fc1.{}'.format(x.shape))\n",
    "        x = self.fc2(x)\n",
    "        #print('fc2.{}'.format(x.shape))\n",
    "        # Return the log_softmax of x.\n",
    "        x = F.log_softmax(x, dim=1)\n",
    "        #print('out.{}'.format(x.shape))\n",
    "        return x"
   ]
  },
  {
   "cell_type": "markdown",
   "metadata": {},
   "source": [
    "### 2.2. CNN with Batch Norm [15 pts]"
   ]
  },
  {
   "cell_type": "code",
   "execution_count": 14,
   "metadata": {
    "collapsed": true
   },
   "outputs": [],
   "source": [
    "# Fill in the values below that make this network valid for MNIST data\n",
    "\n",
    "# conv1_bn_size = TODO\n",
    "# conv2_bn_size = TODO\n",
    "# fc1_bn_size = TODO\n",
    "conv1_bn_size = 20\n",
    "conv2_bn_size = 50\n",
    "fc1_bn_size = 500"
   ]
  },
  {
   "cell_type": "code",
   "execution_count": 15,
   "metadata": {
    "collapsed": true
   },
   "outputs": [],
   "source": [
    "# Define the CNN with architecture explained in Part 2.2\n",
    "class NetWithBatchNorm(nn.Module):\n",
    "    def __init__(self):\n",
    "        super(NetWithBatchNorm, self).__init__()\n",
    "        self.conv1 = nn.Conv2d(in_channels=conv1_in_ch, out_channels=20, kernel_size=5, stride=1)\n",
    "        self.conv1_bn = nn.BatchNorm2d(conv1_bn_size)\n",
    "        self.conv2 = nn.Conv2d(in_channels=conv2_in_ch, out_channels=50, kernel_size=5, stride=1)\n",
    "        self.conv2_bn = nn.BatchNorm2d(conv2_bn_size)\n",
    "        self.fc1 = nn.Linear(in_features=fc1_in_features, out_features=500)\n",
    "        self.fc1_bn = nn.BatchNorm1d(fc1_bn_size)\n",
    "        self.fc2 = nn.Linear(in_features=fc2_in_features, out_features=n_classes)\n",
    "\n",
    "    def forward(self, x):\n",
    "        x = F.relu(self.conv1_bn(self.conv1(x)))\n",
    "        x = F.max_pool2d(x, kernel_size=2, stride=2)\n",
    "        x = F.relu(self.conv2_bn(self.conv2(x)))\n",
    "        x = F.max_pool2d(x, kernel_size=2, stride=2)\n",
    "        x = x.view(-1, fc1_in_features)\n",
    "        x = F.relu(self.fc1_bn(self.fc1(x)))\n",
    "        x = self.fc2(x)\n",
    "        x = F.log_softmax(x, dim=1)\n",
    "        return x"
   ]
  },
  {
   "cell_type": "markdown",
   "metadata": {},
   "source": [
    "## 3. Training & Evaluation"
   ]
  },
  {
   "cell_type": "markdown",
   "metadata": {},
   "source": [
    "### 3.1. Define training method [15 pts]"
   ]
  },
  {
   "cell_type": "code",
   "execution_count": 16,
   "metadata": {
    "collapsed": true
   },
   "outputs": [],
   "source": [
    "def train(model, device, train_loader, optimizer, epoch, log_interval = 100):\n",
    "    # Set model to training mode\n",
    "    model.train()\n",
    "    # Loop through data points\n",
    "    for batch_idx, (data, target) in enumerate(train_loader):\n",
    "        #pass # remove once implemented\n",
    "    \n",
    "        # Send data and target to device\n",
    "        # TODO\n",
    "        data, target = data.to(device), target.to(device)\n",
    "\n",
    "        # Zero out the optimizer\n",
    "        # TODO\n",
    "        optimizer.zero_grad()\n",
    "        \n",
    "        # Pass data through model\n",
    "        # TODO\n",
    "        output = model(data)\n",
    "        \n",
    "        # Compute the negative log likelihood loss\n",
    "        # TODO\n",
    "        loss = F.nll_loss(output, target)\n",
    "        \n",
    "        # Backpropagate loss\n",
    "        # TODO\n",
    "        loss.backward(retain_graph=True)\n",
    "        \n",
    "        # Make a step with the optimizer\n",
    "        # TODO\n",
    "        optimizer.step()\n",
    "        \n",
    "        loss = F.nll_loss(output, target)\n",
    "        loss.backward()\n",
    "        optimizer.step()\n",
    "        \n",
    "        # Print loss (uncomment lines below once implemented)\n",
    "        if batch_idx % log_interval == 0:\n",
    "            print('Train Epoch: {} [{}/{} ({:.0f}%)]\\tLoss: {:.6f}'.format(\n",
    "                epoch, batch_idx * len(data), len(train_loader.dataset),\n",
    "                100. * batch_idx / len(train_loader), loss.item()))"
   ]
  },
  {
   "cell_type": "markdown",
   "metadata": {},
   "source": [
    "### 3.2. Define test method [15 pts]"
   ]
  },
  {
   "cell_type": "code",
   "execution_count": 17,
   "metadata": {
    "collapsed": true
   },
   "outputs": [],
   "source": [
    "# Define test method\n",
    "def test(model, device, test_loader):\n",
    "    # Set model to evaluation mode\n",
    "    model.eval()\n",
    "    \n",
    "    # Variable for the total loss \n",
    "    test_loss = 0\n",
    "    # Counter for the correct predictions\n",
    "    num_correct = 0\n",
    "    \n",
    "    with torch.no_grad():\n",
    "        \n",
    "        # Loop through data points\n",
    "        for data, target in test_loader:\n",
    "            #pass # remove once implemented\n",
    "        \n",
    "            # Send data to device\n",
    "            # TODO\n",
    "            data, target = data.to(device), target.to(device)\n",
    "            \n",
    "            # Pass data through model\n",
    "            # TODO \n",
    "            output = model(data)\n",
    "            \n",
    "            # Compute the negative log likelihood loss with reduction='sum' and add to total test_loss\n",
    "            # TODO\n",
    "            test_loss += F.nll_loss(output, target, reduction='sum').item() # sum up batch loss                                                               \n",
    "            \n",
    "            # Get predictions from the model for each data point\n",
    "            # TODO \n",
    "            pred = output.data.max(1, keepdim=True)[1] # get the index of the max log-probability                                                                 \n",
    "            \n",
    "            # Add number of correct predictions to total num_correct \n",
    "            # TODO\n",
    "            num_correct += pred.eq(target.data.view_as(pred)).cpu().sum().item()\n",
    "    \n",
    "    # Compute the average test_loss\n",
    "    # avg_test_loss = TODO\n",
    "    avg_test_loss = test_loss / len(test_loader.dataset)\n",
    "    \n",
    "    # Print loss (uncomment lines below once implemented)\n",
    "    print('\\nTest set: Average loss: {:.4f}, Accuracy: {}/{} ({:.0f}%)\\n'.format(\n",
    "        avg_test_loss, num_correct, len(test_loader.dataset),\n",
    "        100. * num_correct / len(test_loader.dataset)))"
   ]
  },
  {
   "cell_type": "markdown",
   "metadata": {},
   "source": [
    "### 3.3 Train NetWithoutBatchNorm() [5 pts]"
   ]
  },
  {
   "cell_type": "code",
   "execution_count": 18,
   "metadata": {},
   "outputs": [],
   "source": [
    "input_size  = 28*28   # images are 28x28 pixels\n",
    "output_size = 10      # there are 10 classes\n",
    "device = torch.device(\"cuda:0\" if torch.cuda.is_available() else \"cpu\")"
   ]
  },
  {
   "cell_type": "code",
   "execution_count": 19,
   "metadata": {},
   "outputs": [],
   "source": [
    "# function to count number of parameters\n",
    "def get_n_params(model):\n",
    "    np=0\n",
    "    for p in list(model.parameters()):\n",
    "        np += p.nelement()\n",
    "    return np"
   ]
  },
  {
   "cell_type": "code",
   "execution_count": 20,
   "metadata": {
    "collapsed": true
   },
   "outputs": [
    {
     "name": "stdout",
     "output_type": "stream",
     "text": [
      "Train Epoch: 1 [0/60000 (0%)]\tLoss: 2.302849\n",
      "Train Epoch: 1 [12800/60000 (21%)]\tLoss: 0.255462\n",
      "Train Epoch: 1 [25600/60000 (43%)]\tLoss: 0.143739\n",
      "Train Epoch: 1 [38400/60000 (64%)]\tLoss: 0.084562\n",
      "Train Epoch: 1 [51200/60000 (85%)]\tLoss: 0.075587\n",
      "\n",
      "Test set: Average loss: 0.0846, Accuracy: 9741/10000 (97%)\n",
      "\n",
      "Train Epoch: 2 [0/60000 (0%)]\tLoss: 0.045605\n",
      "Train Epoch: 2 [12800/60000 (21%)]\tLoss: 0.070006\n",
      "Train Epoch: 2 [25600/60000 (43%)]\tLoss: 0.053492\n",
      "Train Epoch: 2 [38400/60000 (64%)]\tLoss: 0.026246\n",
      "Train Epoch: 2 [51200/60000 (85%)]\tLoss: 0.050918\n",
      "\n",
      "Test set: Average loss: 0.0533, Accuracy: 9814/10000 (98%)\n",
      "\n",
      "Train Epoch: 3 [0/60000 (0%)]\tLoss: 0.066914\n",
      "Train Epoch: 3 [12800/60000 (21%)]\tLoss: 0.024432\n",
      "Train Epoch: 3 [25600/60000 (43%)]\tLoss: 0.068900\n",
      "Train Epoch: 3 [38400/60000 (64%)]\tLoss: 0.053196\n",
      "Train Epoch: 3 [51200/60000 (85%)]\tLoss: 0.094871\n",
      "\n",
      "Test set: Average loss: 0.0345, Accuracy: 9887/10000 (99%)\n",
      "\n",
      "Train Epoch: 4 [0/60000 (0%)]\tLoss: 0.086901\n",
      "Train Epoch: 4 [12800/60000 (21%)]\tLoss: 0.074650\n",
      "Train Epoch: 4 [25600/60000 (43%)]\tLoss: 0.025173\n",
      "Train Epoch: 4 [38400/60000 (64%)]\tLoss: 0.075243\n",
      "Train Epoch: 4 [51200/60000 (85%)]\tLoss: 0.010852\n",
      "\n",
      "Test set: Average loss: 0.0430, Accuracy: 9854/10000 (99%)\n",
      "\n",
      "Train Epoch: 5 [0/60000 (0%)]\tLoss: 0.047541\n",
      "Train Epoch: 5 [12800/60000 (21%)]\tLoss: 0.023203\n",
      "Train Epoch: 5 [25600/60000 (43%)]\tLoss: 0.023190\n",
      "Train Epoch: 5 [38400/60000 (64%)]\tLoss: 0.043772\n",
      "Train Epoch: 5 [51200/60000 (85%)]\tLoss: 0.014012\n",
      "\n",
      "Test set: Average loss: 0.0289, Accuracy: 9908/10000 (99%)\n",
      "\n",
      "Train Epoch: 6 [0/60000 (0%)]\tLoss: 0.065799\n",
      "Train Epoch: 6 [12800/60000 (21%)]\tLoss: 0.008355\n",
      "Train Epoch: 6 [25600/60000 (43%)]\tLoss: 0.029366\n",
      "Train Epoch: 6 [38400/60000 (64%)]\tLoss: 0.007442\n",
      "Train Epoch: 6 [51200/60000 (85%)]\tLoss: 0.005769\n",
      "\n",
      "Test set: Average loss: 0.0324, Accuracy: 9896/10000 (99%)\n",
      "\n",
      "Train Epoch: 7 [0/60000 (0%)]\tLoss: 0.008621\n",
      "Train Epoch: 7 [12800/60000 (21%)]\tLoss: 0.039622\n",
      "Train Epoch: 7 [25600/60000 (43%)]\tLoss: 0.003722\n",
      "Train Epoch: 7 [38400/60000 (64%)]\tLoss: 0.008428\n",
      "Train Epoch: 7 [51200/60000 (85%)]\tLoss: 0.050871\n",
      "\n",
      "Test set: Average loss: 0.0302, Accuracy: 9904/10000 (99%)\n",
      "\n",
      "Train Epoch: 8 [0/60000 (0%)]\tLoss: 0.009352\n",
      "Train Epoch: 8 [12800/60000 (21%)]\tLoss: 0.013329\n",
      "Train Epoch: 8 [25600/60000 (43%)]\tLoss: 0.003410\n",
      "Train Epoch: 8 [38400/60000 (64%)]\tLoss: 0.030936\n",
      "Train Epoch: 8 [51200/60000 (85%)]\tLoss: 0.009873\n",
      "\n",
      "Test set: Average loss: 0.0296, Accuracy: 9899/10000 (99%)\n",
      "\n",
      "Train Epoch: 9 [0/60000 (0%)]\tLoss: 0.003106\n",
      "Train Epoch: 9 [12800/60000 (21%)]\tLoss: 0.013969\n",
      "Train Epoch: 9 [25600/60000 (43%)]\tLoss: 0.003748\n",
      "Train Epoch: 9 [38400/60000 (64%)]\tLoss: 0.009174\n",
      "Train Epoch: 9 [51200/60000 (85%)]\tLoss: 0.003079\n",
      "\n",
      "Test set: Average loss: 0.0277, Accuracy: 9918/10000 (99%)\n",
      "\n",
      "Train Epoch: 10 [0/60000 (0%)]\tLoss: 0.004777\n",
      "Train Epoch: 10 [12800/60000 (21%)]\tLoss: 0.006497\n",
      "Train Epoch: 10 [25600/60000 (43%)]\tLoss: 0.004119\n",
      "Train Epoch: 10 [38400/60000 (64%)]\tLoss: 0.014009\n",
      "Train Epoch: 10 [51200/60000 (85%)]\tLoss: 0.011118\n",
      "\n",
      "Test set: Average loss: 0.0268, Accuracy: 9916/10000 (99%)\n",
      "\n"
     ]
    }
   ],
   "source": [
    "# Define model and sent to device\n",
    "# model = TODO\n",
    "model = NetWithoutBatchNorm()\n",
    "model.to(device)\n",
    "\n",
    "# Optimizer: SGD with learning rate of 1e-2 and momentum of 0.5\n",
    "# optimizer = TODO\n",
    "optimizer = optim.SGD(model.parameters(), lr=0.01, momentum=0.5)\n",
    "#print('Number of parameters: {}'.format(get_n_params(model)))\n",
    "\n",
    "# Training loop with 10 epochs\n",
    "for epoch in range(1, 10 + 1):\n",
    "    #pass # remove once implemented\n",
    "\n",
    "    # Train model\n",
    "    # TODO\n",
    "    train(model, device, train_loader, optimizer, epoch, log_interval = 100)\n",
    "    \n",
    "    # Test model\n",
    "    # TODO\n",
    "    test(model, device, test_loader)"
   ]
  },
  {
   "cell_type": "markdown",
   "metadata": {},
   "source": [
    "### 3.4 Train NetWithBatchNorm() [5 pts]"
   ]
  },
  {
   "cell_type": "code",
   "execution_count": 21,
   "metadata": {
    "collapsed": true
   },
   "outputs": [
    {
     "name": "stdout",
     "output_type": "stream",
     "text": [
      "Train Epoch: 1 [0/60000 (0%)]\tLoss: 2.301361\n",
      "Train Epoch: 1 [12800/60000 (21%)]\tLoss: 0.187349\n",
      "Train Epoch: 1 [25600/60000 (43%)]\tLoss: 0.097265\n",
      "Train Epoch: 1 [38400/60000 (64%)]\tLoss: 0.036330\n",
      "Train Epoch: 1 [51200/60000 (85%)]\tLoss: 0.081355\n",
      "\n",
      "Test set: Average loss: 0.0665, Accuracy: 9808/10000 (98%)\n",
      "\n",
      "Train Epoch: 2 [0/60000 (0%)]\tLoss: 0.065125\n",
      "Train Epoch: 2 [12800/60000 (21%)]\tLoss: 0.057599\n",
      "Train Epoch: 2 [25600/60000 (43%)]\tLoss: 0.087038\n",
      "Train Epoch: 2 [38400/60000 (64%)]\tLoss: 0.040142\n",
      "Train Epoch: 2 [51200/60000 (85%)]\tLoss: 0.022705\n",
      "\n",
      "Test set: Average loss: 0.0450, Accuracy: 9857/10000 (99%)\n",
      "\n",
      "Train Epoch: 3 [0/60000 (0%)]\tLoss: 0.038587\n",
      "Train Epoch: 3 [12800/60000 (21%)]\tLoss: 0.026741\n",
      "Train Epoch: 3 [25600/60000 (43%)]\tLoss: 0.069394\n",
      "Train Epoch: 3 [38400/60000 (64%)]\tLoss: 0.068644\n",
      "Train Epoch: 3 [51200/60000 (85%)]\tLoss: 0.033803\n",
      "\n",
      "Test set: Average loss: 0.0377, Accuracy: 9882/10000 (99%)\n",
      "\n",
      "Train Epoch: 4 [0/60000 (0%)]\tLoss: 0.019977\n",
      "Train Epoch: 4 [12800/60000 (21%)]\tLoss: 0.015817\n",
      "Train Epoch: 4 [25600/60000 (43%)]\tLoss: 0.029940\n",
      "Train Epoch: 4 [38400/60000 (64%)]\tLoss: 0.012936\n",
      "Train Epoch: 4 [51200/60000 (85%)]\tLoss: 0.020104\n",
      "\n",
      "Test set: Average loss: 0.0317, Accuracy: 9901/10000 (99%)\n",
      "\n",
      "Train Epoch: 5 [0/60000 (0%)]\tLoss: 0.026409\n",
      "Train Epoch: 5 [12800/60000 (21%)]\tLoss: 0.018974\n",
      "Train Epoch: 5 [25600/60000 (43%)]\tLoss: 0.007392\n",
      "Train Epoch: 5 [38400/60000 (64%)]\tLoss: 0.022962\n",
      "Train Epoch: 5 [51200/60000 (85%)]\tLoss: 0.013656\n",
      "\n",
      "Test set: Average loss: 0.0305, Accuracy: 9909/10000 (99%)\n",
      "\n",
      "Train Epoch: 6 [0/60000 (0%)]\tLoss: 0.055413\n",
      "Train Epoch: 6 [12800/60000 (21%)]\tLoss: 0.016732\n",
      "Train Epoch: 6 [25600/60000 (43%)]\tLoss: 0.078005\n",
      "Train Epoch: 6 [38400/60000 (64%)]\tLoss: 0.022558\n",
      "Train Epoch: 6 [51200/60000 (85%)]\tLoss: 0.030638\n",
      "\n",
      "Test set: Average loss: 0.0316, Accuracy: 9906/10000 (99%)\n",
      "\n",
      "Train Epoch: 7 [0/60000 (0%)]\tLoss: 0.028127\n",
      "Train Epoch: 7 [12800/60000 (21%)]\tLoss: 0.007705\n",
      "Train Epoch: 7 [25600/60000 (43%)]\tLoss: 0.004919\n",
      "Train Epoch: 7 [38400/60000 (64%)]\tLoss: 0.009848\n",
      "Train Epoch: 7 [51200/60000 (85%)]\tLoss: 0.015517\n",
      "\n",
      "Test set: Average loss: 0.0271, Accuracy: 9917/10000 (99%)\n",
      "\n",
      "Train Epoch: 8 [0/60000 (0%)]\tLoss: 0.010457\n",
      "Train Epoch: 8 [12800/60000 (21%)]\tLoss: 0.008228\n",
      "Train Epoch: 8 [25600/60000 (43%)]\tLoss: 0.007915\n",
      "Train Epoch: 8 [38400/60000 (64%)]\tLoss: 0.016081\n",
      "Train Epoch: 8 [51200/60000 (85%)]\tLoss: 0.024255\n",
      "\n",
      "Test set: Average loss: 0.0258, Accuracy: 9909/10000 (99%)\n",
      "\n",
      "Train Epoch: 9 [0/60000 (0%)]\tLoss: 0.014187\n",
      "Train Epoch: 9 [12800/60000 (21%)]\tLoss: 0.004552\n",
      "Train Epoch: 9 [25600/60000 (43%)]\tLoss: 0.025842\n",
      "Train Epoch: 9 [38400/60000 (64%)]\tLoss: 0.006537\n",
      "Train Epoch: 9 [51200/60000 (85%)]\tLoss: 0.019729\n",
      "\n",
      "Test set: Average loss: 0.0256, Accuracy: 9912/10000 (99%)\n",
      "\n",
      "Train Epoch: 10 [0/60000 (0%)]\tLoss: 0.005185\n",
      "Train Epoch: 10 [12800/60000 (21%)]\tLoss: 0.008007\n",
      "Train Epoch: 10 [25600/60000 (43%)]\tLoss: 0.008234\n",
      "Train Epoch: 10 [38400/60000 (64%)]\tLoss: 0.018370\n",
      "Train Epoch: 10 [51200/60000 (85%)]\tLoss: 0.021152\n",
      "\n",
      "Test set: Average loss: 0.0239, Accuracy: 9920/10000 (99%)\n",
      "\n"
     ]
    }
   ],
   "source": [
    "# Deifne model and sent to device\n",
    "# model = TODO\n",
    "model = NetWithBatchNorm()\n",
    "model.to(device)\n",
    "\n",
    "# Optimizer: SGD with learning rate of 1e-2 and momentum of 0.5\n",
    "# optimizer = TODO\n",
    "optimizer = optim.SGD(model.parameters(), lr=0.01, momentum=0.5)\n",
    "\n",
    "# Training loop with 10 epochs\n",
    "for epoch in range(1, 10 + 1):\n",
    "    #pass # remove once implemented\n",
    "    \n",
    "    # Train model\n",
    "    train(model, device, train_loader, optimizer, epoch, log_interval = 100)\n",
    "    \n",
    "    # Test model\n",
    "    # TODO\n",
    "    test(model, device, test_loader)"
   ]
  },
  {
   "cell_type": "markdown",
   "metadata": {},
   "source": [
    "## 4. Empirically, which of the models achieves higher accuracy faster? [2 pts]"
   ]
  },
  {
   "cell_type": "markdown",
   "metadata": {},
   "source": [
    "Answer: "
   ]
  }
 ],
 "metadata": {
  "kernelspec": {
   "display_name": "Python 3",
   "language": "python",
   "name": "python3"
  },
  "language_info": {
   "codemirror_mode": {
    "name": "ipython",
    "version": 3
   },
   "file_extension": ".py",
   "mimetype": "text/x-python",
   "name": "python",
   "nbconvert_exporter": "python",
   "pygments_lexer": "ipython3",
   "version": "3.6.7"
  }
 },
 "nbformat": 4,
 "nbformat_minor": 2
}
