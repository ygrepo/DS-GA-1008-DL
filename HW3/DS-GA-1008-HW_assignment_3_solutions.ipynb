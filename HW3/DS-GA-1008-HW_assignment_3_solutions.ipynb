{
 "cells": [
  {
   "cell_type": "markdown",
   "metadata": {},
   "source": [
    "## 0. Setup"
   ]
  },
  {
   "cell_type": "code",
   "execution_count": 1,
   "metadata": {
    "collapsed": true
   },
   "outputs": [],
   "source": [
    "# Import dependencies\n",
    "import torch\n",
    "import torch.nn as nn\n",
    "import torch.nn.functional as F\n",
    "import torch.optim as optim\n",
    "from torch.utils.data import DataLoader\n",
    "from torchvision import datasets, transforms"
   ]
  },
  {
   "cell_type": "code",
   "execution_count": 2,
   "metadata": {
    "collapsed": true
   },
   "outputs": [],
   "source": [
    "# Set up your device \n",
    "cuda = torch.cuda.is_available()\n",
    "device = torch.device(\"cuda:0\" if cuda else \"cpu\")"
   ]
  },
  {
   "cell_type": "code",
   "execution_count": 3,
   "metadata": {
    "collapsed": true
   },
   "outputs": [],
   "source": [
    "# Set up random seed to 1008. Do not change the random seed.\n",
    "seed = 1008\n",
    "torch.manual_seed(seed)\n",
    "if cuda:\n",
    "    torch.cuda.manual_seed_all(seed)"
   ]
  },
  {
   "cell_type": "markdown",
   "metadata": {},
   "source": [
    "## 1. Data: MNIST\n",
    "#### Load the MNIST training and test dataset using $\\texttt{torch.utils.data.DataLoader}$ and $\\texttt{torchvision.datasets}$. \n",
    "\n",
    "Hint: You might find Alf's notebook useful: https://github.com/Atcold/pytorch-Deep-Learning-Minicourse/blob/master/06-convnet.ipynb"
   ]
  },
  {
   "cell_type": "markdown",
   "metadata": {},
   "source": [
    "### 1.1. Load Training Set [4 pts]"
   ]
  },
  {
   "cell_type": "code",
   "execution_count": 4,
   "metadata": {
    "collapsed": true
   },
   "outputs": [],
   "source": [
    "# Load the MNIST training set with batch size 128, apply data shuffling and normalization\n",
    "train_loader = DataLoader(\n",
    "    datasets.MNIST('.', train=True, download=True,\n",
    "                   transform=transforms.Compose([\n",
    "                       transforms.ToTensor(),\n",
    "                       transforms.Normalize((0.1307,), (0.3081,))\n",
    "                   ])),\n",
    "    batch_size=128, shuffle=True)"
   ]
  },
  {
   "cell_type": "markdown",
   "metadata": {},
   "source": [
    "### 1.1. Load Test Set [4 pts]"
   ]
  },
  {
   "cell_type": "code",
   "execution_count": 5,
   "metadata": {
    "collapsed": true
   },
   "outputs": [],
   "source": [
    "# Load the MNIST test set with batch size 128, apply data shuffling and normalization\n",
    "test_loader = DataLoader(\n",
    "    datasets.MNIST('.', train=False, transform=transforms.Compose([\n",
    "                       transforms.ToTensor(),\n",
    "                       transforms.Normalize((0.1307,), (0.3081,))\n",
    "                   ])),\n",
    "    batch_size=128, shuffle=True)"
   ]
  },
  {
   "cell_type": "markdown",
   "metadata": {},
   "source": [
    "## 2. Models\n",
    "#### You are going to define two convolutional neural networks which are trained to classify MNIST digits"
   ]
  },
  {
   "cell_type": "markdown",
   "metadata": {},
   "source": [
    "### 2.1. CNN without Batch Norm [15 pts]"
   ]
  },
  {
   "cell_type": "code",
   "execution_count": 6,
   "metadata": {
    "collapsed": true
   },
   "outputs": [],
   "source": [
    "# Fill in the values below that make this network valid for MNIST data\n",
    "conv1_in_ch = 1\n",
    "conv2_in_ch = 20\n",
    "fc1_in_features = 4*4*50\n",
    "fc2_in_features = 500\n",
    "n_classes = 10"
   ]
  },
  {
   "cell_type": "code",
   "execution_count": 7,
   "metadata": {
    "collapsed": true
   },
   "outputs": [],
   "source": [
    "# Define the CNN with architecture explained in Part 2.1\n",
    "class NetWithoutBatchNorm(nn.Module):\n",
    "    def __init__(self):\n",
    "        super(NetWithoutBatchNorm, self).__init__()\n",
    "        self.conv1 = nn.Conv2d(in_channels=conv1_in_ch, out_channels=20, kernel_size=5, stride=1)\n",
    "        self.conv2 = nn.Conv2d(in_channels=20, out_channels=50, kernel_size=5, stride=1)\n",
    "        self.fc1 = nn.Linear(in_features=fc1_in_features, out_features=500)\n",
    "        self.fc2 = nn.Linear(in_features=fc2_in_features, out_features=n_classes)\n",
    "\n",
    "    def forward(self, x):\n",
    "        x = F.relu(self.conv1(x))\n",
    "        x = F.max_pool2d(x, kernel_size=2, stride=2)\n",
    "        x = F.relu(self.conv2(x))\n",
    "        x = F.max_pool2d(x, kernel_size=2, stride=2)\n",
    "        x = x.view(-1, fc1_in_features)\n",
    "        x = F.relu(self.fc1(x))\n",
    "        x = self.fc2(x)\n",
    "        return F.log_softmax(x, dim=1)"
   ]
  },
  {
   "cell_type": "markdown",
   "metadata": {},
   "source": [
    "### 2.2. CNN with Batch Norm [15 pts]"
   ]
  },
  {
   "cell_type": "code",
   "execution_count": 14,
   "metadata": {
    "collapsed": true
   },
   "outputs": [],
   "source": [
    "# Fill in the values below that make this network valid for MNIST data\n",
    "conv1_bn_size = 20\n",
    "conv2_bn_size = 50\n",
    "fc1_bn_size = 500"
   ]
  },
  {
   "cell_type": "code",
   "execution_count": 15,
   "metadata": {
    "collapsed": true
   },
   "outputs": [],
   "source": [
    "# Define the CNN with architecture explained in Part 2.2\n",
    "class NetWithBatchNorm(nn.Module):\n",
    "    def __init__(self):\n",
    "        super(NetWithBatchNorm, self).__init__()\n",
    "        self.conv1 = nn.Conv2d(in_channels=conv1_in_ch, out_channels=20, kernel_size=5, stride=1)\n",
    "        self.conv1_bn = nn.BatchNorm2d(conv1_bn_size)\n",
    "        self.conv2 = nn.Conv2d(in_channels=20, out_channels=50, kernel_size=5, stride=1)\n",
    "        self.conv2_bn = nn.BatchNorm2d(conv2_bn_size)\n",
    "        self.fc1 = nn.Linear(in_features=fc1_in_features, out_features=500)\n",
    "        self.fc1_bn = nn.BatchNorm1d(fc1_bn_size)\n",
    "        self.fc2 = nn.Linear(in_features=fc2_in_features, out_features=n_classes)\n",
    "        \n",
    "    def forward(self, x):\n",
    "        x = F.relu(self.conv1_bn(self.conv1(x)))\n",
    "        x = F.max_pool2d(x, 2, 2)\n",
    "        x = F.relu(self.conv2_bn(self.conv2(x)))\n",
    "        x = F.max_pool2d(x, 2, 2)\n",
    "        x = x.view(-1, fc1_in_features)\n",
    "        x = F.relu(self.fc1_bn(self.fc1(x)))\n",
    "        x = self.fc2(x)\n",
    "        return F.log_softmax(x, dim=1)"
   ]
  },
  {
   "cell_type": "markdown",
   "metadata": {},
   "source": [
    "## 3. Training & Evaluation"
   ]
  },
  {
   "cell_type": "markdown",
   "metadata": {},
   "source": [
    "### 3.1. Define training method [10 pts]"
   ]
  },
  {
   "cell_type": "code",
   "execution_count": 10,
   "metadata": {
    "collapsed": true
   },
   "outputs": [],
   "source": [
    "def train(model, device, train_loader, optimizer, epoch, log_interval = 100):\n",
    "    # Set model to training mode\n",
    "    model.train()\n",
    "    # Loop through data points\n",
    "    for batch_idx, (data, target) in enumerate(train_loader):\n",
    "        # Send data to device\n",
    "        data, target = data.to(device), target.to(device)\n",
    "        # Zero out the ortimizer\n",
    "        optimizer.zero_grad()\n",
    "        # Pass data through model\n",
    "        output = model(data)\n",
    "        # Compute the negative log likelihood loss with reduction='mean'\n",
    "        loss = F.nll_loss(output, target, reduction='mean')\n",
    "        # Backpropagate loss\n",
    "        loss.backward()\n",
    "        # Make a step with the optimizer\n",
    "        optimizer.step()\n",
    "        # Print loss (uncomment lines below once implemented)\n",
    "        if batch_idx % log_interval == 0:\n",
    "            print('Train Epoch: {} [{}/{} ({:.0f}%)]\\tLoss: {:.6f}'.format(\n",
    "                epoch, batch_idx * len(data), len(train_loader.dataset),\n",
    "                100. * batch_idx / len(train_loader), loss.item()))"
   ]
  },
  {
   "cell_type": "markdown",
   "metadata": {},
   "source": [
    "### 3.2. Define test method [10 pts]"
   ]
  },
  {
   "cell_type": "code",
   "execution_count": 11,
   "metadata": {
    "collapsed": true
   },
   "outputs": [],
   "source": [
    "# Define test method\n",
    "def test(model, device, test_loader):\n",
    "    # Set model to evaluation mode\n",
    "    model.eval()\n",
    "    # Variable for the total loss \n",
    "    test_loss = 0\n",
    "    # Counter for the correct predictions\n",
    "    num_correct = 0\n",
    "    \n",
    "    with torch.no_grad():\n",
    "        # Loop through data points\n",
    "        for data, target in test_loader:\n",
    "            # Send data to device\n",
    "            data, target = data.to(device), target.to(device)\n",
    "            # Pass data through model\n",
    "            output = model(data)\n",
    "            # Compute the negative log likelihood loss and add to total test_loss\n",
    "            test_loss += F.nll_loss(output, target, reduction='sum').item() # sum up batch loss\n",
    "            # Get predictions from the model \n",
    "            pred = output.argmax(dim=1, keepdim=True) # get the index of the max log-probability\n",
    "            # Add number of correct predictions to total num_correct \n",
    "            num_correct += pred.eq(target.view_as(pred)).sum().item()\n",
    "\n",
    "    # Compute the average test_loss\n",
    "    avg_test_loss = test_loss/len(test_loader.dataset)\n",
    "    \n",
    "    # Print loss (uncomment lines below once implemented)\n",
    "    print('\\nTest set: Average loss: {:.4f}, Accuracy: {}/{} ({:.0f}%)\\n'.format(\n",
    "        avg_test_loss, num_correct, len(test_loader.dataset),\n",
    "        100. * num_correct / len(test_loader.dataset)))"
   ]
  },
  {
   "cell_type": "markdown",
   "metadata": {},
   "source": [
    "### 3.3. Train NetWithoutBatchNorm() [5 pts]"
   ]
  },
  {
   "cell_type": "code",
   "execution_count": 13,
   "metadata": {},
   "outputs": [
    {
     "name": "stdout",
     "output_type": "stream",
     "text": [
      "Train Epoch: 1 [0/60000 (0%)]\tLoss: 2.309417\n",
      "Train Epoch: 1 [12800/60000 (21%)]\tLoss: 0.447374\n",
      "Train Epoch: 1 [25600/60000 (43%)]\tLoss: 0.329669\n",
      "Train Epoch: 1 [38400/60000 (64%)]\tLoss: 0.250969\n",
      "Train Epoch: 1 [51200/60000 (85%)]\tLoss: 0.186181\n",
      "\n",
      "Test set: Average loss: 0.1536, Accuracy: 9553/10000 (96%)\n",
      "\n",
      "Train Epoch: 2 [0/60000 (0%)]\tLoss: 0.163953\n",
      "Train Epoch: 2 [12800/60000 (21%)]\tLoss: 0.123472\n",
      "Train Epoch: 2 [25600/60000 (43%)]\tLoss: 0.220358\n",
      "Train Epoch: 2 [38400/60000 (64%)]\tLoss: 0.088984\n",
      "Train Epoch: 2 [51200/60000 (85%)]\tLoss: 0.189963\n",
      "\n",
      "Test set: Average loss: 0.0913, Accuracy: 9716/10000 (97%)\n",
      "\n",
      "Train Epoch: 3 [0/60000 (0%)]\tLoss: 0.065210\n",
      "Train Epoch: 3 [12800/60000 (21%)]\tLoss: 0.058500\n",
      "Train Epoch: 3 [25600/60000 (43%)]\tLoss: 0.074236\n",
      "Train Epoch: 3 [38400/60000 (64%)]\tLoss: 0.171956\n",
      "Train Epoch: 3 [51200/60000 (85%)]\tLoss: 0.072311\n",
      "\n",
      "Test set: Average loss: 0.0750, Accuracy: 9748/10000 (97%)\n",
      "\n",
      "Train Epoch: 4 [0/60000 (0%)]\tLoss: 0.093876\n",
      "Train Epoch: 4 [12800/60000 (21%)]\tLoss: 0.125871\n",
      "Train Epoch: 4 [25600/60000 (43%)]\tLoss: 0.057625\n",
      "Train Epoch: 4 [38400/60000 (64%)]\tLoss: 0.111248\n",
      "Train Epoch: 4 [51200/60000 (85%)]\tLoss: 0.065373\n",
      "\n",
      "Test set: Average loss: 0.0598, Accuracy: 9826/10000 (98%)\n",
      "\n",
      "Train Epoch: 5 [0/60000 (0%)]\tLoss: 0.055361\n",
      "Train Epoch: 5 [12800/60000 (21%)]\tLoss: 0.070531\n",
      "Train Epoch: 5 [25600/60000 (43%)]\tLoss: 0.149714\n",
      "Train Epoch: 5 [38400/60000 (64%)]\tLoss: 0.018876\n",
      "Train Epoch: 5 [51200/60000 (85%)]\tLoss: 0.024785\n",
      "\n",
      "Test set: Average loss: 0.0561, Accuracy: 9814/10000 (98%)\n",
      "\n",
      "Train Epoch: 6 [0/60000 (0%)]\tLoss: 0.073527\n",
      "Train Epoch: 6 [12800/60000 (21%)]\tLoss: 0.035725\n",
      "Train Epoch: 6 [25600/60000 (43%)]\tLoss: 0.041250\n",
      "Train Epoch: 6 [38400/60000 (64%)]\tLoss: 0.129071\n",
      "Train Epoch: 6 [51200/60000 (85%)]\tLoss: 0.110468\n",
      "\n",
      "Test set: Average loss: 0.0572, Accuracy: 9823/10000 (98%)\n",
      "\n",
      "Train Epoch: 7 [0/60000 (0%)]\tLoss: 0.019441\n",
      "Train Epoch: 7 [12800/60000 (21%)]\tLoss: 0.013319\n",
      "Train Epoch: 7 [25600/60000 (43%)]\tLoss: 0.035908\n",
      "Train Epoch: 7 [38400/60000 (64%)]\tLoss: 0.076573\n",
      "Train Epoch: 7 [51200/60000 (85%)]\tLoss: 0.056501\n",
      "\n",
      "Test set: Average loss: 0.0393, Accuracy: 9880/10000 (99%)\n",
      "\n",
      "Train Epoch: 8 [0/60000 (0%)]\tLoss: 0.010837\n",
      "Train Epoch: 8 [12800/60000 (21%)]\tLoss: 0.048566\n",
      "Train Epoch: 8 [25600/60000 (43%)]\tLoss: 0.020478\n",
      "Train Epoch: 8 [38400/60000 (64%)]\tLoss: 0.083023\n",
      "Train Epoch: 8 [51200/60000 (85%)]\tLoss: 0.082539\n",
      "\n",
      "Test set: Average loss: 0.0412, Accuracy: 9873/10000 (99%)\n",
      "\n",
      "Train Epoch: 9 [0/60000 (0%)]\tLoss: 0.025235\n",
      "Train Epoch: 9 [12800/60000 (21%)]\tLoss: 0.007815\n",
      "Train Epoch: 9 [25600/60000 (43%)]\tLoss: 0.042635\n",
      "Train Epoch: 9 [38400/60000 (64%)]\tLoss: 0.062595\n",
      "Train Epoch: 9 [51200/60000 (85%)]\tLoss: 0.034240\n",
      "\n",
      "Test set: Average loss: 0.0437, Accuracy: 9851/10000 (99%)\n",
      "\n",
      "Train Epoch: 10 [0/60000 (0%)]\tLoss: 0.054371\n",
      "Train Epoch: 10 [12800/60000 (21%)]\tLoss: 0.027831\n",
      "Train Epoch: 10 [25600/60000 (43%)]\tLoss: 0.012779\n",
      "Train Epoch: 10 [38400/60000 (64%)]\tLoss: 0.059425\n",
      "Train Epoch: 10 [51200/60000 (85%)]\tLoss: 0.016878\n",
      "\n",
      "Test set: Average loss: 0.0348, Accuracy: 9882/10000 (99%)\n",
      "\n"
     ]
    }
   ],
   "source": [
    "# Deifne model and sent to device\n",
    "model = NetWithoutBatchNorm().to(device)\n",
    "\n",
    "# Optimizer: SGD with learning rate of 1e-2 and momentum of 0.5\n",
    "optimizer = optim.SGD(model.parameters(), lr=1e-2, momentum=0.5)\n",
    "\n",
    "# Training loop with 10 epochs\n",
    "for epoch in range(1, 10 + 1):\n",
    "    train(model, device, train_loader, optimizer, epoch)\n",
    "    test(model, device, test_loader)"
   ]
  },
  {
   "cell_type": "markdown",
   "metadata": {},
   "source": [
    "### 3.4. Train NetWithBatchNorm() [5 pts]"
   ]
  },
  {
   "cell_type": "code",
   "execution_count": 16,
   "metadata": {},
   "outputs": [
    {
     "name": "stdout",
     "output_type": "stream",
     "text": [
      "Train Epoch: 1 [0/60000 (0%)]\tLoss: 2.337959\n",
      "Train Epoch: 1 [12800/60000 (21%)]\tLoss: 0.444562\n",
      "Train Epoch: 1 [25600/60000 (43%)]\tLoss: 0.246622\n",
      "Train Epoch: 1 [38400/60000 (64%)]\tLoss: 0.142846\n",
      "Train Epoch: 1 [51200/60000 (85%)]\tLoss: 0.134608\n",
      "\n",
      "Test set: Average loss: 0.1109, Accuracy: 9774/10000 (98%)\n",
      "\n",
      "Train Epoch: 2 [0/60000 (0%)]\tLoss: 0.152096\n",
      "Train Epoch: 2 [12800/60000 (21%)]\tLoss: 0.126667\n",
      "Train Epoch: 2 [25600/60000 (43%)]\tLoss: 0.129275\n",
      "Train Epoch: 2 [38400/60000 (64%)]\tLoss: 0.106859\n",
      "Train Epoch: 2 [51200/60000 (85%)]\tLoss: 0.106906\n",
      "\n",
      "Test set: Average loss: 0.0676, Accuracy: 9828/10000 (98%)\n",
      "\n",
      "Train Epoch: 3 [0/60000 (0%)]\tLoss: 0.037076\n",
      "Train Epoch: 3 [12800/60000 (21%)]\tLoss: 0.025126\n",
      "Train Epoch: 3 [25600/60000 (43%)]\tLoss: 0.042153\n",
      "Train Epoch: 3 [38400/60000 (64%)]\tLoss: 0.037372\n",
      "Train Epoch: 3 [51200/60000 (85%)]\tLoss: 0.087559\n",
      "\n",
      "Test set: Average loss: 0.0533, Accuracy: 9860/10000 (99%)\n",
      "\n",
      "Train Epoch: 4 [0/60000 (0%)]\tLoss: 0.085375\n",
      "Train Epoch: 4 [12800/60000 (21%)]\tLoss: 0.040422\n",
      "Train Epoch: 4 [25600/60000 (43%)]\tLoss: 0.056829\n",
      "Train Epoch: 4 [38400/60000 (64%)]\tLoss: 0.085153\n",
      "Train Epoch: 4 [51200/60000 (85%)]\tLoss: 0.088060\n",
      "\n",
      "Test set: Average loss: 0.0446, Accuracy: 9876/10000 (99%)\n",
      "\n",
      "Train Epoch: 5 [0/60000 (0%)]\tLoss: 0.057198\n",
      "Train Epoch: 5 [12800/60000 (21%)]\tLoss: 0.089823\n",
      "Train Epoch: 5 [25600/60000 (43%)]\tLoss: 0.027746\n",
      "Train Epoch: 5 [38400/60000 (64%)]\tLoss: 0.078555\n",
      "Train Epoch: 5 [51200/60000 (85%)]\tLoss: 0.056676\n",
      "\n",
      "Test set: Average loss: 0.0391, Accuracy: 9894/10000 (99%)\n",
      "\n",
      "Train Epoch: 6 [0/60000 (0%)]\tLoss: 0.033217\n",
      "Train Epoch: 6 [12800/60000 (21%)]\tLoss: 0.027793\n",
      "Train Epoch: 6 [25600/60000 (43%)]\tLoss: 0.012913\n",
      "Train Epoch: 6 [38400/60000 (64%)]\tLoss: 0.023097\n",
      "Train Epoch: 6 [51200/60000 (85%)]\tLoss: 0.028029\n",
      "\n",
      "Test set: Average loss: 0.0368, Accuracy: 9898/10000 (99%)\n",
      "\n",
      "Train Epoch: 7 [0/60000 (0%)]\tLoss: 0.026378\n",
      "Train Epoch: 7 [12800/60000 (21%)]\tLoss: 0.015056\n",
      "Train Epoch: 7 [25600/60000 (43%)]\tLoss: 0.042849\n",
      "Train Epoch: 7 [38400/60000 (64%)]\tLoss: 0.034671\n",
      "Train Epoch: 7 [51200/60000 (85%)]\tLoss: 0.040302\n",
      "\n",
      "Test set: Average loss: 0.0321, Accuracy: 9917/10000 (99%)\n",
      "\n",
      "Train Epoch: 8 [0/60000 (0%)]\tLoss: 0.053499\n",
      "Train Epoch: 8 [12800/60000 (21%)]\tLoss: 0.029056\n",
      "Train Epoch: 8 [25600/60000 (43%)]\tLoss: 0.028987\n",
      "Train Epoch: 8 [38400/60000 (64%)]\tLoss: 0.034542\n",
      "Train Epoch: 8 [51200/60000 (85%)]\tLoss: 0.017085\n",
      "\n",
      "Test set: Average loss: 0.0333, Accuracy: 9906/10000 (99%)\n",
      "\n",
      "Train Epoch: 9 [0/60000 (0%)]\tLoss: 0.059148\n",
      "Train Epoch: 9 [12800/60000 (21%)]\tLoss: 0.009123\n",
      "Train Epoch: 9 [25600/60000 (43%)]\tLoss: 0.012797\n",
      "Train Epoch: 9 [38400/60000 (64%)]\tLoss: 0.019693\n",
      "Train Epoch: 9 [51200/60000 (85%)]\tLoss: 0.026315\n",
      "\n",
      "Test set: Average loss: 0.0299, Accuracy: 9914/10000 (99%)\n",
      "\n",
      "Train Epoch: 10 [0/60000 (0%)]\tLoss: 0.009209\n",
      "Train Epoch: 10 [12800/60000 (21%)]\tLoss: 0.017928\n",
      "Train Epoch: 10 [25600/60000 (43%)]\tLoss: 0.022348\n",
      "Train Epoch: 10 [38400/60000 (64%)]\tLoss: 0.041230\n",
      "Train Epoch: 10 [51200/60000 (85%)]\tLoss: 0.009377\n",
      "\n",
      "Test set: Average loss: 0.0275, Accuracy: 9923/10000 (99%)\n",
      "\n"
     ]
    }
   ],
   "source": [
    "# Deifne model and sent to device\n",
    "model = NetWithBatchNorm().to(device)\n",
    "\n",
    "# Optimizer: SGD with learning rate of 1e-2 and momentum of 0.5\n",
    "optimizer = optim.SGD(model.parameters(), lr=1e-2, momentum=0.5)\n",
    "\n",
    "# Training loop with 10 epochs\n",
    "for epoch in range(1, 10 + 1):\n",
    "    train(model, device, train_loader, optimizer, epoch)\n",
    "    test(model, device, test_loader)"
   ]
  },
  {
   "cell_type": "markdown",
   "metadata": {},
   "source": [
    "## 4. Empirically, which of the models achieves higher accuracy faster? [2 pts]"
   ]
  },
  {
   "cell_type": "markdown",
   "metadata": {},
   "source": [
    "Answer: NetWithBatchNorm()"
   ]
  }
 ],
 "metadata": {
  "kernelspec": {
   "display_name": "Python 3",
   "language": "python",
   "name": "python3"
  },
  "language_info": {
   "codemirror_mode": {
    "name": "ipython",
    "version": 3
   },
   "file_extension": ".py",
   "mimetype": "text/x-python",
   "name": "python",
   "nbconvert_exporter": "python",
   "pygments_lexer": "ipython3",
   "version": "3.6.7"
  }
 },
 "nbformat": 4,
 "nbformat_minor": 2
}
