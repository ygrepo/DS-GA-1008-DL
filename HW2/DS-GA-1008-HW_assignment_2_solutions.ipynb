{
 "cells": [
  {
   "cell_type": "markdown",
   "metadata": {},
   "source": [
    "## 0. Setup"
   ]
  },
  {
   "cell_type": "code",
   "execution_count": 1,
   "metadata": {
    "collapsed": true
   },
   "outputs": [],
   "source": [
    "# Import dependencies\n",
    "import torch\n",
    "import torch.nn as nn\n",
    "from plot_lib import set_default, show_scatterplot, plot_bases\n",
    "from matplotlib.pyplot import plot, title, axis, scatter, show"
   ]
  },
  {
   "cell_type": "code",
   "execution_count": 2,
   "metadata": {
    "collapsed": true
   },
   "outputs": [],
   "source": [
    "# Set up your device \n",
    "cuda = torch.cuda.is_available()\n",
    "device = torch.device(\"cuda:0\" if cuda else \"cpu\")"
   ]
  },
  {
   "cell_type": "code",
   "execution_count": 3,
   "metadata": {
    "collapsed": true
   },
   "outputs": [],
   "source": [
    "# Set up random seed to 1008. Do not change the random seed.\n",
    "seed = 1008\n",
    "torch.manual_seed(seed)\n",
    "if cuda:\n",
    "    torch.cuda.manual_seed_all(seed)"
   ]
  },
  {
   "cell_type": "markdown",
   "metadata": {},
   "source": [
    "## 1. Data generation\n",
    "#### You'll be creating data points that are generated from a particular function."
   ]
  },
  {
   "cell_type": "markdown",
   "metadata": {},
   "source": [
    "### 1.1 Quadratic: $y = f(x) = x^2$ (2 pts)"
   ]
  },
  {
   "cell_type": "code",
   "execution_count": 4,
   "metadata": {
    "collapsed": true
   },
   "outputs": [],
   "source": [
    "# Implement the function below\n",
    "def quadratic_data_generator(n_samples):\n",
    "    \"\"\"\n",
    "    Generate: \n",
    "    1) tensor x of size (n_samples, 1) \n",
    "    with values uniformly distributed in the interval (-1, 1] \n",
    "    using torch.rand()\n",
    "    2) tensor y of size (n_samples, 1) \n",
    "    equal to x^2 using torch.pow() \n",
    "    \n",
    "    The function should return: x, y\n",
    "    \"\"\"\n",
    "    # x = TODO\n",
    "    # y = TODO\n",
    "    # return x.to(device), y.to(device)\n",
    "    \n",
    "def quadratic_data_generator(n_samples):\n",
    "    \"\"\"\n",
    "    Generate: \n",
    "    1) tensor x of size (n_samples, 1) \n",
    "    with values uniformly distributed in the interval (-1, 1] \n",
    "    using torch.rand()\n",
    "    2) tensor y of size (n_samples, 1) \n",
    "    equal to x^2 using torch.pow() \n",
    "    \n",
    "    The function should return: x, y\n",
    "    \"\"\"\n",
    "    x = (-1 -1) * torch.rand(n_samples, 1)  + 1\n",
    "    y = torch.pow(x, 2)\n",
    "    return x.to(device), y.to(device)"
   ]
  },
  {
   "cell_type": "code",
   "execution_count": 5,
   "metadata": {
    "collapsed": true
   },
   "outputs": [],
   "source": [
    "# Generate the data with n_samples = 128\n",
    "# x_quadr, y_quadr = TODO\n",
    "x_quadr, y_quadr = quadratic_data_generator(128)"
   ]
  },
  {
   "cell_type": "code",
   "execution_count": 6,
   "metadata": {},
   "outputs": [
    {
     "data": {
      "image/png": "[encoded data removed]",
      "text/plain": [
       "<matplotlib.figure.Figure at 0x117f0b9b0>"
      ]
     },
     "metadata": {},
     "output_type": "display_data"
    }
   ],
   "source": [
    "# Visualize the data\n",
    "# TODO\n",
    "scatter(x_quadr, y_quadr)\n",
    "show()"
   ]
  },
  {
   "cell_type": "markdown",
   "metadata": {},
   "source": [
    "### 1.2 Cubic: $y = f(x) = x^3 - 0.5x$ (2 pts)"
   ]
  },
  {
   "cell_type": "code",
   "execution_count": 7,
   "metadata": {
    "collapsed": true
   },
   "outputs": [],
   "source": [
    "# Implement the function below\n",
    "def cubic_data_generator(n_samples):\n",
    "    \"\"\"\n",
    "    Generate: \n",
    "    1) tensor x of size (n_samples, 1) \n",
    "    with values uniformly distributed in the interval (-1, 1] \n",
    "    using torch.rand()\n",
    "    2) tensor y of size (n_samples, 1) \n",
    "    equal to (x^3 - 0.5x) using torch.pow() and torch.mul() \n",
    "    \n",
    "    The function should return: x, y\n",
    "    \"\"\"\n",
    "    # x = TODO\n",
    "    # y = TODO\n",
    "    # return x.to(device), y.to(device)\n",
    "\n",
    "def cubic_data_generator(n_samples):\n",
    "    \"\"\"\n",
    "    Generate: \n",
    "    1) tensor x of size (n_samples, 1) \n",
    "    with values uniformly distributed in the interval (-1, 1] \n",
    "    using torch.rand()\n",
    "    2) tensor y of size (n_samples, 1) \n",
    "    equal to (x^3 - 0.5x) using torch.pow() and torch.mul() \n",
    "    \n",
    "    The function should return: x, y\n",
    "    \"\"\"\n",
    "    x = (-1 -1) * torch.rand(n_samples, 1)  + 1  \n",
    "    y = torch.pow(x, 3) - 0.5 * x\n",
    "    return x.to(device), y.to(device)"
   ]
  },
  {
   "cell_type": "code",
   "execution_count": 8,
   "metadata": {
    "collapsed": true
   },
   "outputs": [],
   "source": [
    "# Generate the data with n_samples = 128\n",
    "# x_cubic, y_cubic = TODO\n",
    "x_cubic, y_cubic = cubic_data_generator(128)"
   ]
  },
  {
   "cell_type": "code",
   "execution_count": 9,
   "metadata": {},
   "outputs": [
    {
     "data": {
      "image/png": "[encoded data removed]",
      "text/plain": [
       "<matplotlib.figure.Figure at 0x11823cc18>"
      ]
     },
     "metadata": {},
     "output_type": "display_data"
    }
   ],
   "source": [
    "# Visualize the data \n",
    "# TODO\n",
    "scatter(x_cubic,y_cubic)\n",
    "show()"
   ]
  },
  {
   "cell_type": "markdown",
   "metadata": {},
   "source": [
    "### 1.3 Sine: $y = f(x) = \\sin(2.5x)$ (2 pts)"
   ]
  },
  {
   "cell_type": "code",
   "execution_count": 10,
   "metadata": {
    "collapsed": true
   },
   "outputs": [],
   "source": [
    "# Implement the function below\n",
    "def sine_data_generator(n_samples):\n",
    "    \"\"\"\n",
    "    Generate: \n",
    "    1) tensor x of size (n_samples, 1) \n",
    "    with values uniformly distributed in the interval (-1, 1] \n",
    "    using torch.rand()\n",
    "    2) tensor y of size (n_samples, 1) \n",
    "    equal to sin(2.5 * x) using torch.sin() \n",
    "    \n",
    "    The function should return: x, y\n",
    "    \"\"\"\n",
    "    # x = TODO\n",
    "    # y = TODO\n",
    "    # return x.to(device), y.to(device)\n",
    "\n",
    "def sine_data_generator(n_samples):\n",
    "    \"\"\"\n",
    "    Generate: \n",
    "    1) tensor x of size (n_samples, 1) \n",
    "    with values uniformly distributed in the interval (-1, 1] \n",
    "    using torch.rand()\n",
    "    2) tensor y of size (n_samples, 1) \n",
    "    equal to sin(2.5 * x) using torch.sin() \n",
    "    \n",
    "    The function should return: x, y\n",
    "    \"\"\"\n",
    "    x = (-1 -1) * torch.rand(n_samples, 1)  + 1  \n",
    "    y = torch.sin(2.5 * x)\n",
    "    return x.to(device), y.to(device)"
   ]
  },
  {
   "cell_type": "code",
   "execution_count": 11,
   "metadata": {
    "collapsed": true
   },
   "outputs": [],
   "source": [
    "# Generate the data with n_samples = 128\n",
    "# x_sine, y_sine = TODO\n",
    "x_sine, y_sine = sine_data_generator(n_samples=128)"
   ]
  },
  {
   "cell_type": "code",
   "execution_count": 12,
   "metadata": {},
   "outputs": [
    {
     "data": {
      "image/png": "[encoded data removed]",
      "text/plain": [
       "<matplotlib.figure.Figure at 0x11825f048>"
      ]
     },
     "metadata": {},
     "output_type": "display_data"
    }
   ],
   "source": [
    "# Visualize the data \n",
    "# TODO\n",
    "scatter(x_sine, y_sine)\n",
    "show()"
   ]
  },
  {
   "cell_type": "markdown",
   "metadata": {},
   "source": [
    "### 1.4 Absolute value: $y = f(x) = |x|$ (2 pts)"
   ]
  },
  {
   "cell_type": "code",
   "execution_count": 13,
   "metadata": {
    "collapsed": true
   },
   "outputs": [],
   "source": [
    "# Implement the function below\n",
    "def abs_data_generator(n_samples):\n",
    "    \"\"\"\n",
    "    Generate: \n",
    "    1) tensor x of size (n_samples, 1) \n",
    "    with values uniformly distributed in the interval (-1, 1] \n",
    "    using torch.rand()\n",
    "    2) tensor y of size (n_samples, 1) \n",
    "    equal to |x| using torch.abs() \n",
    "    \n",
    "    The function should return: x, y\n",
    "    \"\"\"\n",
    "    # x = TODO\n",
    "    # y = TODO\n",
    "    # return x.to(device), y.to(device)\n",
    "\n",
    "def abs_data_generator(n_samples):\n",
    "    \"\"\"\n",
    "    Generate: \n",
    "    1) tensor x of size (n_samples, 1) \n",
    "    with values uniformly distributed in the interval (-1, 1] \n",
    "    using torch.rand()\n",
    "    2) tensor y of size (n_samples, 1) \n",
    "    equal to |x| using torch.abs() \n",
    "    \n",
    "    The function should return: x, y\n",
    "    \"\"\"\n",
    "    x = (-1 -1) * torch.rand(n_samples, 1)  + 1  \n",
    "    y = torch.abs(x)\n",
    "    return x.to(device), y.to(device)"
   ]
  },
  {
   "cell_type": "code",
   "execution_count": 14,
   "metadata": {
    "collapsed": true
   },
   "outputs": [],
   "source": [
    "# Generate the data with n_samples = 128\n",
    "# x_abs, y_abs = TODO\n",
    "x_abs, y_abs = abs_data_generator(n_samples=128)"
   ]
  },
  {
   "cell_type": "code",
   "execution_count": 15,
   "metadata": {},
   "outputs": [
    {
     "data": {
      "image/png": "[encoded data removed]",
      "text/plain": [
       "<matplotlib.figure.Figure at 0x117f9eb00>"
      ]
     },
     "metadata": {},
     "output_type": "display_data"
    }
   ],
   "source": [
    "# Visualize the data \n",
    "# TOOD\n",
    "scatter(x_abs, y_abs)\n",
    "show()"
   ]
  },
  {
   "cell_type": "markdown",
   "metadata": {},
   "source": [
    "### 1.5 Heavyside Step Function: $y = f(x) = \\begin{cases} 0, & x < 0 \\\\ 1, & x \\geq 0 \\end{cases}$ (2 pts)"
   ]
  },
  {
   "cell_type": "code",
   "execution_count": 16,
   "metadata": {
    "collapsed": true
   },
   "outputs": [],
   "source": [
    "# Implement the function below\n",
    "def hs_data_generator(n_samples):\n",
    "    \"\"\"\n",
    "    Generate: \n",
    "    1) tensor x of size (n_samples, 1) \n",
    "    with values uniformly distributed in the interval (-1, 1] \n",
    "    using torch.rand()\n",
    "    2) tensor y of size (n_samples, 1) \n",
    "    equal to the Heavyside Step Function using a condition.\n",
    "    Make sure that y is a torch.FloatTensor.\n",
    "    \n",
    "    The function should return: x, y\n",
    "    \"\"\"\n",
    "    # x = TODO\n",
    "    # y = TODO\n",
    "    # return x.to(device), y.to(device)\n",
    "\n",
    "def hs_data_generator(n_samples):\n",
    "    \"\"\"\n",
    "    Generate: \n",
    "    1) tensor x of size (n_samples, 1) \n",
    "    with values uniformly distributed in the interval (-1, 1] \n",
    "    using torch.rand()\n",
    "    2) tensor y of size (n_samples, 1) \n",
    "    equal to the Heavyside Step Function using a condition.\n",
    "    Make sure that y is a torch.FloatTensor.\n",
    "    \n",
    "    The function should return: x, y\n",
    "    \"\"\"\n",
    "    x = (-1 -1) * torch.rand(n_samples, 1)  + 1  \n",
    "    y = (x >= 0).type(torch.FloatTensor)\n",
    "    return x.to(device), y.to(device)"
   ]
  },
  {
   "cell_type": "code",
   "execution_count": 17,
   "metadata": {
    "collapsed": true
   },
   "outputs": [],
   "source": [
    "# Generate the data with n_samples = 128\n",
    "# x, y = TODO\n",
    "x_hs, y_hs = hs_data_generator(n_samples=128)"
   ]
  },
  {
   "cell_type": "code",
   "execution_count": 18,
   "metadata": {},
   "outputs": [
    {
     "data": {
      "image/png": "[encoded data removed]",
      "text/plain": [
       "<matplotlib.figure.Figure at 0x11827fbe0>"
      ]
     },
     "metadata": {},
     "output_type": "display_data"
    }
   ],
   "source": [
    "# Visualize the data \n",
    "scatter(x_hs, y_hs)\n",
    "show()"
   ]
  },
  {
   "cell_type": "markdown",
   "metadata": {},
   "source": [
    "## 2. Models\n",
    "#### You are going to approximate the functions above with fully connected models of different depths.  "
   ]
  },
  {
   "cell_type": "markdown",
   "metadata": {},
   "source": [
    "### 2.1. Dimensionality (2 pts)\n",
    "The models you define below will be predicting $y$ from $x$ and will use the data generated in Part 1 as training data. Fill in the input and output dimensions for each of the models.\n",
    "\n",
    "Hint: These dimensions are independent from the number of samples. "
   ]
  },
  {
   "cell_type": "code",
   "execution_count": 19,
   "metadata": {
    "collapsed": true
   },
   "outputs": [],
   "source": [
    "# input_dim = TODO\n",
    "# output_dim = TODO\n",
    "input_dim = 1\n",
    "output_dim = 1"
   ]
  },
  {
   "cell_type": "markdown",
   "metadata": {},
   "source": [
    "### 2.2. No Hidden (3 pts)\n",
    "Define a model with a single linear module `torch.nn.Linear(input_dim, output_dim)` and no non-linearity."
   ]
  },
  {
   "cell_type": "code",
   "execution_count": 20,
   "metadata": {
    "collapsed": true
   },
   "outputs": [],
   "source": [
    "class Linear_0H(nn.Module):\n",
    "    def __init__(self):\n",
    "        super(Linear_0H, self).__init__()\n",
    "        \n",
    "        # Layers\n",
    "        # TODO\n",
    "        pass\n",
    "\n",
    "    def forward(self, code):\n",
    "        # TODO\n",
    "        pass\n",
    "\n",
    "class Linear_0H(nn.Module):\n",
    "    def __init__(self):\n",
    "        super(Linear_0H, self).__init__()\n",
    "\n",
    "        # Layers\n",
    "        self.fc = nn.Linear(input_dim, output_dim)\n",
    "\n",
    "    def forward(self, x):\n",
    "        return self.fc(x)"
   ]
  },
  {
   "cell_type": "markdown",
   "metadata": {},
   "source": [
    "### 2.2. One Hidden (5 pts)\n",
    "Define a model with a single hidden layer of size 3, one ReLU non-linearity, input and output dimensions of 1.\n",
    "Use `nn.Sequential()` for defining the layers.\n",
    "\n",
    "Hint: Architecture should be `nn.Linear(intput_dim, 3)` -> `nn.ReLU()` -> `nn.Linear(3, output_dim)`"
   ]
  },
  {
   "cell_type": "code",
   "execution_count": 21,
   "metadata": {
    "collapsed": true
   },
   "outputs": [],
   "source": [
    "class Linear_1H(nn.Module):\n",
    "    def __init__(self):\n",
    "        super(Linear_1H, self).__init__()\n",
    "        \n",
    "        # Layers\n",
    "        # TODO\n",
    "        pass\n",
    "\n",
    "    def forward(self, x):\n",
    "        # TODO\n",
    "        pass\n",
    "    \n",
    "class Linear_1H(nn.Module):\n",
    "    def __init__(self):\n",
    "        super(Linear_1H, self).__init__()\n",
    "\n",
    "        # Layers\n",
    "        self.fc = nn.Sequential(\n",
    "            nn.Linear(input_dim, 3),\n",
    "            nn.ReLU(),\n",
    "            nn.Linear(3, output_dim)\n",
    "        )\n",
    "\n",
    "    def forward(self, x):\n",
    "        return self.fc(x)"
   ]
  },
  {
   "cell_type": "markdown",
   "metadata": {},
   "source": [
    "### 2.3. Two Hidden (5 pts)\n",
    "Define a model with a two hidden layers of size 3, two ReLU non-linearities, input and output dimensions of 1.\n",
    "Use `nn.Sequential()` for defining the layers.\n",
    "\n",
    "Hint: Architecture should be `nn.Linear(input_dim,3)` -> `nn.ReLU()` -> `nn.Linear(3,3)` -> `nn.ReLU()` -> `nn.Linear(3, output_dim)`"
   ]
  },
  {
   "cell_type": "code",
   "execution_count": 22,
   "metadata": {
    "collapsed": true
   },
   "outputs": [],
   "source": [
    "class Linear_2H(nn.Module):\n",
    "    def __init__(self):\n",
    "        # TODO \n",
    "        pass\n",
    "\n",
    "    def forward(self, x):\n",
    "        # TODO\n",
    "        pass\n",
    "\n",
    "class Linear_2H(nn.Module):\n",
    "    def __init__(self):\n",
    "        super(Linear_2H, self).__init__()\n",
    "\n",
    "        # Layers\n",
    "        self.fc = nn.Sequential(\n",
    "            nn.Linear(input_dim,3),\n",
    "            nn.ReLU(),\n",
    "            nn.Linear(3,3),\n",
    "            nn.ReLU(),\n",
    "            nn.Linear(3,output_dim)\n",
    "        )\n",
    "\n",
    "    def forward(self, x):\n",
    "        return self.fc(x)"
   ]
  },
  {
   "cell_type": "markdown",
   "metadata": {},
   "source": [
    "## 3. Training"
   ]
  },
  {
   "cell_type": "markdown",
   "metadata": {},
   "source": [
    "### 3.1 Train method (8 pts)\n",
    "You are going to implement a training method which takes a model, number of epochs, and training data as input and returns the (detached) predicitons from the last epoch. "
   ]
  },
  {
   "cell_type": "code",
   "execution_count": 23,
   "metadata": {
    "collapsed": true
   },
   "outputs": [],
   "source": [
    "# Training function\n",
    "def train(model, epochs, x, y):\n",
    "    # Set model to training mode\n",
    "    # model.train()\n",
    "    \n",
    "    # Define Mean Squared Error as loss function using nn.MSELoss()\n",
    "    # critereon = TODO\n",
    "    \n",
    "    # Define the SGD optimizer with step size 0.01 using torch.optim.SGD()\n",
    "    # optimizer = TODO\n",
    "    \n",
    "    # Training loop\n",
    "    for epoch in range(epochs):\n",
    "        # Forward data through model \n",
    "        # y_pred = TODO\n",
    "        \n",
    "        # Compute the loss \n",
    "        # loss = TODO \n",
    "        \n",
    "        # Zero-out the optimizer \n",
    "        # TODO\n",
    "        \n",
    "        # Backpropagate loss\n",
    "        # TODO\n",
    "        \n",
    "        # Make a step with the optimizer\n",
    "        # TODO\n",
    "        \n",
    "        # Uncomment lines below once you implement the code above\n",
    "        # Print out loss every 100 epochs \n",
    "        # if (epoch+1) % 100 == 0:\n",
    "        #     print('Epoch {} loss: {}'.format(epoch+1, loss.item()))\n",
    "        \n",
    "        # Uncomment lines below once you implement the code above\n",
    "        # Early stopping based \n",
    "        # if loss.item() < 1e-2:\n",
    "        #    break    \n",
    "        \n",
    "        pass # remove once implemented\n",
    "    \n",
    "    # Return predictions from the last epoch.\n",
    "    # Uncomment line below once you implement\n",
    "    # return y_pred.detach()\n",
    "\n",
    "def train(model, epochs, x, y, loss_threshold=1e-2):\n",
    "    # Set model to training mode\n",
    "    model.train()\n",
    "    # Define loss function\n",
    "    critereon = nn.MSELoss()\n",
    "    # Define the SGD optimizer with step size 0.01\n",
    "    optimizer = torch.optim.SGD(model.parameters(), lr=0.01)\n",
    "    for epoch in range(epochs):\n",
    "        # Forward data through model \n",
    "        y_pred = model(x)\n",
    "        # Compute the loss \n",
    "        loss = critereon(y_pred, y)\n",
    "        # Zero-out the optimizer \n",
    "        optimizer.zero_grad()\n",
    "        # Backpropagate loss\n",
    "        loss.backward()\n",
    "        # Make a step with the optimizer\n",
    "        optimizer.step()\n",
    "        # Print out loss every 100 epochs \n",
    "        if epoch == 0 or (epoch+1) % 100 == 0:\n",
    "            print('Epoch {} loss: {}'.format(epoch+1, loss.item()))\n",
    "        # Early stopping based on training loss\n",
    "        if loss.item() < 1e-2:\n",
    "            print('Epoch {} loss: {}'.format(epoch+1, loss.item()))\n",
    "            break\n",
    "    # Return predictions from the last epoch. Make sure you detach them from the computational graph.\n",
    "    return y_pred.detach()"
   ]
  },
  {
   "cell_type": "markdown",
   "metadata": {},
   "source": [
    "### 3.2. `Linear_0H` (5 pts)"
   ]
  },
  {
   "cell_type": "code",
   "execution_count": 24,
   "metadata": {
    "collapsed": true
   },
   "outputs": [],
   "source": [
    "# Define model\n",
    "model_0H = Linear_0H().to(device)"
   ]
  },
  {
   "cell_type": "code",
   "execution_count": 25,
   "metadata": {},
   "outputs": [
    {
     "name": "stdout",
     "output_type": "stream",
     "text": [
      "Epoch 1 loss: 1.2468349933624268\n",
      "Epoch 100 loss: 0.17356650531291962\n",
      "Epoch 200 loss: 0.10184863954782486\n",
      "Epoch 300 loss: 0.0878414735198021\n",
      "Epoch 400 loss: 0.08447939157485962\n",
      "Epoch 500 loss: 0.0836586132645607\n",
      "Epoch 600 loss: 0.08345799148082733\n",
      "Epoch 700 loss: 0.08340895175933838\n",
      "Epoch 800 loss: 0.08339696377515793\n",
      "Epoch 900 loss: 0.08339403569698334\n",
      "Epoch 1000 loss: 0.08339332044124603\n",
      "Epoch 1100 loss: 0.0833931416273117\n",
      "Epoch 1200 loss: 0.08339309692382812\n",
      "Epoch 1300 loss: 0.08339308947324753\n",
      "Epoch 1400 loss: 0.08339308202266693\n",
      "Epoch 1500 loss: 0.08339308202266693\n",
      "Epoch 1600 loss: 0.08339308202266693\n",
      "Epoch 1700 loss: 0.08339308202266693\n",
      "Epoch 1800 loss: 0.08339308947324753\n",
      "Epoch 1900 loss: 0.08339308947324753\n",
      "Epoch 2000 loss: 0.08339308202266693\n",
      "Epoch 2100 loss: 0.08339308202266693\n",
      "Epoch 2200 loss: 0.08339308202266693\n",
      "Epoch 2300 loss: 0.08339308202266693\n",
      "Epoch 2400 loss: 0.08339308202266693\n",
      "Epoch 2500 loss: 0.08339308202266693\n",
      "Epoch 2600 loss: 0.08339308202266693\n",
      "Epoch 2700 loss: 0.08339308202266693\n",
      "Epoch 2800 loss: 0.08339308202266693\n",
      "Epoch 2900 loss: 0.08339308202266693\n",
      "Epoch 3000 loss: 0.08339308202266693\n",
      "Epoch 3100 loss: 0.08339308202266693\n",
      "Epoch 3200 loss: 0.08339308202266693\n",
      "Epoch 3300 loss: 0.08339308202266693\n",
      "Epoch 3400 loss: 0.08339308202266693\n",
      "Epoch 3500 loss: 0.08339308202266693\n",
      "Epoch 3600 loss: 0.08339308202266693\n",
      "Epoch 3700 loss: 0.08339308202266693\n",
      "Epoch 3800 loss: 0.08339308202266693\n",
      "Epoch 3900 loss: 0.08339308202266693\n",
      "Epoch 4000 loss: 0.08339308202266693\n",
      "Epoch 4100 loss: 0.08339308202266693\n",
      "Epoch 4200 loss: 0.08339308202266693\n",
      "Epoch 4300 loss: 0.08339308202266693\n",
      "Epoch 4400 loss: 0.08339308202266693\n",
      "Epoch 4500 loss: 0.08339308202266693\n",
      "Epoch 4600 loss: 0.08339308202266693\n",
      "Epoch 4700 loss: 0.08339308202266693\n",
      "Epoch 4800 loss: 0.08339308202266693\n",
      "Epoch 4900 loss: 0.08339308202266693\n",
      "Epoch 5000 loss: 0.08339308202266693\n",
      "Epoch 5100 loss: 0.08339308202266693\n",
      "Epoch 5200 loss: 0.08339308202266693\n",
      "Epoch 5300 loss: 0.08339308202266693\n",
      "Epoch 5400 loss: 0.08339308202266693\n",
      "Epoch 5500 loss: 0.08339308202266693\n",
      "Epoch 5600 loss: 0.08339308202266693\n",
      "Epoch 5700 loss: 0.08339308202266693\n",
      "Epoch 5800 loss: 0.08339308202266693\n",
      "Epoch 5900 loss: 0.08339308202266693\n",
      "Epoch 6000 loss: 0.08339308202266693\n",
      "Epoch 6100 loss: 0.08339308202266693\n",
      "Epoch 6200 loss: 0.08339308202266693\n",
      "Epoch 6300 loss: 0.08339308202266693\n",
      "Epoch 6400 loss: 0.08339308202266693\n",
      "Epoch 6500 loss: 0.08339308202266693\n",
      "Epoch 6600 loss: 0.08339308202266693\n",
      "Epoch 6700 loss: 0.08339308202266693\n",
      "Epoch 6800 loss: 0.08339308202266693\n",
      "Epoch 6900 loss: 0.08339308202266693\n",
      "Epoch 7000 loss: 0.08339308202266693\n",
      "Epoch 7100 loss: 0.08339308202266693\n",
      "Epoch 7200 loss: 0.08339308202266693\n",
      "Epoch 7300 loss: 0.08339308202266693\n",
      "Epoch 7400 loss: 0.08339308202266693\n",
      "Epoch 7500 loss: 0.08339308202266693\n",
      "Epoch 7600 loss: 0.08339308202266693\n",
      "Epoch 7700 loss: 0.08339308202266693\n",
      "Epoch 7800 loss: 0.08339308202266693\n",
      "Epoch 7900 loss: 0.08339308202266693\n",
      "Epoch 8000 loss: 0.08339308202266693\n",
      "Epoch 8100 loss: 0.08339308202266693\n",
      "Epoch 8200 loss: 0.08339308202266693\n",
      "Epoch 8300 loss: 0.08339308202266693\n",
      "Epoch 8400 loss: 0.08339308202266693\n",
      "Epoch 8500 loss: 0.08339308202266693\n",
      "Epoch 8600 loss: 0.08339308202266693\n",
      "Epoch 8700 loss: 0.08339308202266693\n",
      "Epoch 8800 loss: 0.08339308202266693\n",
      "Epoch 8900 loss: 0.08339308202266693\n",
      "Epoch 9000 loss: 0.08339308202266693\n",
      "Epoch 9100 loss: 0.08339308202266693\n",
      "Epoch 9200 loss: 0.08339308202266693\n",
      "Epoch 9300 loss: 0.08339308202266693\n",
      "Epoch 9400 loss: 0.08339308202266693\n",
      "Epoch 9500 loss: 0.08339308202266693\n",
      "Epoch 9600 loss: 0.08339308202266693\n",
      "Epoch 9700 loss: 0.08339308202266693\n",
      "Epoch 9800 loss: 0.08339308202266693\n",
      "Epoch 9900 loss: 0.08339308202266693\n",
      "Epoch 10000 loss: 0.08339308202266693\n"
     ]
    }
   ],
   "source": [
    "# Train model on quadratic data for 10000 epochs and loss_threshold 1e-2\n",
    "y_pred = train(model_0H, epochs=10000, x=x_quadr, y=y_quadr, loss_threshold=1e-2)"
   ]
  },
  {
   "cell_type": "code",
   "execution_count": 26,
   "metadata": {},
   "outputs": [
    {
     "data": {
      "image/png": "[encoded data removed]",
      "text/plain": [
       "<matplotlib.figure.Figure at 0x1184a9400>"
      ]
     },
     "metadata": {},
     "output_type": "display_data"
    }
   ],
   "source": [
    "# Plot predictions vs actual data\n",
    "# TODO\n",
    "scatter(x_quadr, y_quadr)\n",
    "scatter(x_quadr, y_pred)\n",
    "show()"
   ]
  },
  {
   "cell_type": "code",
   "execution_count": 72,
   "metadata": {
    "collapsed": true
   },
   "outputs": [],
   "source": [
    "# Define model\n",
    "model_0H = Linear_0H().to(device)"
   ]
  },
  {
   "cell_type": "code",
   "execution_count": 73,
   "metadata": {},
   "outputs": [
    {
     "name": "stdout",
     "output_type": "stream",
     "text": [
      "Epoch 1 loss: 0.3183514475822449\n",
      "Epoch 100 loss: 0.10247151553630829\n",
      "Epoch 200 loss: 0.043828628957271576\n",
      "Epoch 300 loss: 0.027465898543596268\n",
      "Epoch 400 loss: 0.022886840626597404\n",
      "Epoch 500 loss: 0.021605167537927628\n",
      "Epoch 600 loss: 0.021246423944830894\n",
      "Epoch 700 loss: 0.021146012470126152\n",
      "Epoch 800 loss: 0.021117907017469406\n",
      "Epoch 900 loss: 0.021110039204359055\n",
      "Epoch 1000 loss: 0.021107837557792664\n",
      "Epoch 1100 loss: 0.021107221022248268\n",
      "Epoch 1200 loss: 0.02110704779624939\n",
      "Epoch 1300 loss: 0.02110699936747551\n",
      "Epoch 1400 loss: 0.021106986328959465\n",
      "Epoch 1500 loss: 0.021106982603669167\n",
      "Epoch 1600 loss: 0.021106980741024017\n",
      "Epoch 1700 loss: 0.021106980741024017\n",
      "Epoch 1800 loss: 0.021106980741024017\n",
      "Epoch 1900 loss: 0.021106980741024017\n",
      "Epoch 2000 loss: 0.021106980741024017\n",
      "Epoch 2100 loss: 0.021106980741024017\n",
      "Epoch 2200 loss: 0.021106980741024017\n",
      "Epoch 2300 loss: 0.021106980741024017\n",
      "Epoch 2400 loss: 0.021106980741024017\n",
      "Epoch 2500 loss: 0.021106980741024017\n",
      "Epoch 2600 loss: 0.021106980741024017\n",
      "Epoch 2700 loss: 0.021106980741024017\n",
      "Epoch 2800 loss: 0.021106980741024017\n",
      "Epoch 2900 loss: 0.021106980741024017\n",
      "Epoch 3000 loss: 0.021106980741024017\n",
      "Epoch 3100 loss: 0.021106980741024017\n",
      "Epoch 3200 loss: 0.021106980741024017\n",
      "Epoch 3300 loss: 0.021106980741024017\n",
      "Epoch 3400 loss: 0.021106980741024017\n",
      "Epoch 3500 loss: 0.021106980741024017\n",
      "Epoch 3600 loss: 0.021106980741024017\n",
      "Epoch 3700 loss: 0.021106980741024017\n",
      "Epoch 3800 loss: 0.021106980741024017\n",
      "Epoch 3900 loss: 0.021106980741024017\n",
      "Epoch 4000 loss: 0.021106980741024017\n",
      "Epoch 4100 loss: 0.021106980741024017\n",
      "Epoch 4200 loss: 0.021106980741024017\n",
      "Epoch 4300 loss: 0.021106980741024017\n",
      "Epoch 4400 loss: 0.021106980741024017\n",
      "Epoch 4500 loss: 0.021106980741024017\n",
      "Epoch 4600 loss: 0.021106980741024017\n",
      "Epoch 4700 loss: 0.021106980741024017\n",
      "Epoch 4800 loss: 0.021106980741024017\n",
      "Epoch 4900 loss: 0.021106980741024017\n",
      "Epoch 5000 loss: 0.021106980741024017\n",
      "Epoch 5100 loss: 0.021106980741024017\n",
      "Epoch 5200 loss: 0.021106980741024017\n",
      "Epoch 5300 loss: 0.021106980741024017\n",
      "Epoch 5400 loss: 0.021106980741024017\n",
      "Epoch 5500 loss: 0.021106980741024017\n",
      "Epoch 5600 loss: 0.021106980741024017\n",
      "Epoch 5700 loss: 0.021106980741024017\n",
      "Epoch 5800 loss: 0.021106980741024017\n",
      "Epoch 5900 loss: 0.021106980741024017\n",
      "Epoch 6000 loss: 0.021106980741024017\n",
      "Epoch 6100 loss: 0.021106980741024017\n",
      "Epoch 6200 loss: 0.021106980741024017\n",
      "Epoch 6300 loss: 0.021106980741024017\n",
      "Epoch 6400 loss: 0.021106980741024017\n",
      "Epoch 6500 loss: 0.021106980741024017\n",
      "Epoch 6600 loss: 0.021106980741024017\n",
      "Epoch 6700 loss: 0.021106980741024017\n",
      "Epoch 6800 loss: 0.021106980741024017\n",
      "Epoch 6900 loss: 0.021106980741024017\n",
      "Epoch 7000 loss: 0.021106980741024017\n",
      "Epoch 7100 loss: 0.021106980741024017\n",
      "Epoch 7200 loss: 0.021106980741024017\n",
      "Epoch 7300 loss: 0.021106980741024017\n",
      "Epoch 7400 loss: 0.021106980741024017\n",
      "Epoch 7500 loss: 0.021106980741024017\n",
      "Epoch 7600 loss: 0.021106980741024017\n",
      "Epoch 7700 loss: 0.021106980741024017\n",
      "Epoch 7800 loss: 0.021106980741024017\n",
      "Epoch 7900 loss: 0.021106980741024017\n",
      "Epoch 8000 loss: 0.021106980741024017\n",
      "Epoch 8100 loss: 0.021106980741024017\n",
      "Epoch 8200 loss: 0.021106980741024017\n",
      "Epoch 8300 loss: 0.021106980741024017\n",
      "Epoch 8400 loss: 0.021106980741024017\n",
      "Epoch 8500 loss: 0.021106980741024017\n",
      "Epoch 8600 loss: 0.021106980741024017\n",
      "Epoch 8700 loss: 0.021106980741024017\n",
      "Epoch 8800 loss: 0.021106980741024017\n",
      "Epoch 8900 loss: 0.021106980741024017\n",
      "Epoch 9000 loss: 0.021106980741024017\n",
      "Epoch 9100 loss: 0.021106980741024017\n",
      "Epoch 9200 loss: 0.021106980741024017\n",
      "Epoch 9300 loss: 0.021106980741024017\n",
      "Epoch 9400 loss: 0.021106980741024017\n",
      "Epoch 9500 loss: 0.021106980741024017\n",
      "Epoch 9600 loss: 0.021106980741024017\n",
      "Epoch 9700 loss: 0.021106980741024017\n",
      "Epoch 9800 loss: 0.021106980741024017\n",
      "Epoch 9900 loss: 0.021106980741024017\n",
      "Epoch 10000 loss: 0.021106980741024017\n"
     ]
    }
   ],
   "source": [
    "# Train model on cubic data for 10000 epochs and loss_threshold=1e-2\n",
    "y_pred = train(model_0H, epochs=10000, x=x_cubic, y=y_cubic, loss_threshold=1e-2)"
   ]
  },
  {
   "cell_type": "code",
   "execution_count": 74,
   "metadata": {},
   "outputs": [
    {
     "data": {
      "image/png": "[encoded data removed]",
      "text/plain": [
       "<matplotlib.figure.Figure at 0x1183d54a8>"
      ]
     },
     "metadata": {},
     "output_type": "display_data"
    }
   ],
   "source": [
    "# Plot predictions vs actual data\n",
    "# TODO\n",
    "scatter(x_cubic, y_cubic)\n",
    "scatter(x_cubic, y_pred)\n",
    "show()"
   ]
  },
  {
   "cell_type": "code",
   "execution_count": 30,
   "metadata": {
    "collapsed": true
   },
   "outputs": [],
   "source": [
    "# Define model\n",
    "model_0H = Linear_0H().to(device)"
   ]
  },
  {
   "cell_type": "code",
   "execution_count": 31,
   "metadata": {},
   "outputs": [
    {
     "name": "stdout",
     "output_type": "stream",
     "text": [
      "Epoch 1 loss: 0.6671091318130493\n",
      "Epoch 100 loss: 0.1326790601015091\n",
      "Epoch 200 loss: 0.088028185069561\n",
      "Epoch 300 loss: 0.07874548435211182\n",
      "Epoch 400 loss: 0.07651438564062119\n",
      "Epoch 500 loss: 0.07597192376852036\n",
      "Epoch 600 loss: 0.07583992928266525\n",
      "Epoch 700 loss: 0.07580780237913132\n",
      "Epoch 800 loss: 0.07579999417066574\n",
      "Epoch 900 loss: 0.07579808682203293\n",
      "Epoch 1000 loss: 0.07579762488603592\n",
      "Epoch 1100 loss: 0.07579751312732697\n",
      "Epoch 1200 loss: 0.07579748332500458\n",
      "Epoch 1300 loss: 0.07579747587442398\n",
      "Epoch 1400 loss: 0.07579747587442398\n",
      "Epoch 1500 loss: 0.07579747587442398\n",
      "Epoch 1600 loss: 0.07579747587442398\n",
      "Epoch 1700 loss: 0.07579747587442398\n",
      "Epoch 1800 loss: 0.07579747587442398\n",
      "Epoch 1900 loss: 0.07579747587442398\n",
      "Epoch 2000 loss: 0.07579747587442398\n",
      "Epoch 2100 loss: 0.07579747587442398\n",
      "Epoch 2200 loss: 0.07579747587442398\n",
      "Epoch 2300 loss: 0.07579747587442398\n",
      "Epoch 2400 loss: 0.07579747587442398\n",
      "Epoch 2500 loss: 0.07579747587442398\n",
      "Epoch 2600 loss: 0.07579747587442398\n",
      "Epoch 2700 loss: 0.07579747587442398\n",
      "Epoch 2800 loss: 0.07579747587442398\n",
      "Epoch 2900 loss: 0.07579747587442398\n",
      "Epoch 3000 loss: 0.07579747587442398\n",
      "Epoch 3100 loss: 0.07579747587442398\n",
      "Epoch 3200 loss: 0.07579747587442398\n",
      "Epoch 3300 loss: 0.07579747587442398\n",
      "Epoch 3400 loss: 0.07579747587442398\n",
      "Epoch 3500 loss: 0.07579747587442398\n",
      "Epoch 3600 loss: 0.07579747587442398\n",
      "Epoch 3700 loss: 0.07579747587442398\n",
      "Epoch 3800 loss: 0.07579747587442398\n",
      "Epoch 3900 loss: 0.07579747587442398\n",
      "Epoch 4000 loss: 0.07579747587442398\n",
      "Epoch 4100 loss: 0.07579747587442398\n",
      "Epoch 4200 loss: 0.07579747587442398\n",
      "Epoch 4300 loss: 0.07579747587442398\n",
      "Epoch 4400 loss: 0.07579747587442398\n",
      "Epoch 4500 loss: 0.07579747587442398\n",
      "Epoch 4600 loss: 0.07579747587442398\n",
      "Epoch 4700 loss: 0.07579747587442398\n",
      "Epoch 4800 loss: 0.07579747587442398\n",
      "Epoch 4900 loss: 0.07579747587442398\n",
      "Epoch 5000 loss: 0.07579747587442398\n",
      "Epoch 5100 loss: 0.07579747587442398\n",
      "Epoch 5200 loss: 0.07579747587442398\n",
      "Epoch 5300 loss: 0.07579747587442398\n",
      "Epoch 5400 loss: 0.07579747587442398\n",
      "Epoch 5500 loss: 0.07579747587442398\n",
      "Epoch 5600 loss: 0.07579747587442398\n",
      "Epoch 5700 loss: 0.07579747587442398\n",
      "Epoch 5800 loss: 0.07579747587442398\n",
      "Epoch 5900 loss: 0.07579747587442398\n",
      "Epoch 6000 loss: 0.07579747587442398\n",
      "Epoch 6100 loss: 0.07579747587442398\n",
      "Epoch 6200 loss: 0.07579747587442398\n",
      "Epoch 6300 loss: 0.07579747587442398\n",
      "Epoch 6400 loss: 0.07579747587442398\n",
      "Epoch 6500 loss: 0.07579747587442398\n",
      "Epoch 6600 loss: 0.07579747587442398\n",
      "Epoch 6700 loss: 0.07579747587442398\n",
      "Epoch 6800 loss: 0.07579747587442398\n",
      "Epoch 6900 loss: 0.07579747587442398\n",
      "Epoch 7000 loss: 0.07579747587442398\n",
      "Epoch 7100 loss: 0.07579747587442398\n",
      "Epoch 7200 loss: 0.07579747587442398\n",
      "Epoch 7300 loss: 0.07579747587442398\n",
      "Epoch 7400 loss: 0.07579747587442398\n",
      "Epoch 7500 loss: 0.07579747587442398\n",
      "Epoch 7600 loss: 0.07579747587442398\n",
      "Epoch 7700 loss: 0.07579747587442398\n",
      "Epoch 7800 loss: 0.07579747587442398\n",
      "Epoch 7900 loss: 0.07579747587442398\n",
      "Epoch 8000 loss: 0.07579747587442398\n",
      "Epoch 8100 loss: 0.07579747587442398\n",
      "Epoch 8200 loss: 0.07579747587442398\n",
      "Epoch 8300 loss: 0.07579747587442398\n",
      "Epoch 8400 loss: 0.07579747587442398\n",
      "Epoch 8500 loss: 0.07579747587442398\n",
      "Epoch 8600 loss: 0.07579747587442398\n",
      "Epoch 8700 loss: 0.07579747587442398\n",
      "Epoch 8800 loss: 0.07579747587442398\n",
      "Epoch 8900 loss: 0.07579747587442398\n",
      "Epoch 9000 loss: 0.07579747587442398\n",
      "Epoch 9100 loss: 0.07579747587442398\n",
      "Epoch 9200 loss: 0.07579747587442398\n",
      "Epoch 9300 loss: 0.07579747587442398\n",
      "Epoch 9400 loss: 0.07579747587442398\n",
      "Epoch 9500 loss: 0.07579747587442398\n",
      "Epoch 9600 loss: 0.07579747587442398\n",
      "Epoch 9700 loss: 0.07579747587442398\n",
      "Epoch 9800 loss: 0.07579747587442398\n",
      "Epoch 9900 loss: 0.07579747587442398\n",
      "Epoch 10000 loss: 0.07579747587442398\n"
     ]
    }
   ],
   "source": [
    "# Train model on sine data for 10000 epochs and loss_threshold=1e-2\n",
    "y_pred = train(model_0H, epochs=10000, x=x_sine, y=y_sine, loss_threshold=1e-2)"
   ]
  },
  {
   "cell_type": "code",
   "execution_count": 32,
   "metadata": {},
   "outputs": [
    {
     "data": {
      "image/png": "[encoded data removed]",
      "text/plain": [
       "<matplotlib.figure.Figure at 0x1185b5240>"
      ]
     },
     "metadata": {},
     "output_type": "display_data"
    }
   ],
   "source": [
    "# Plot predictions vs actual data\n",
    "# TODO\n",
    "scatter(x_sine, y_sine)\n",
    "scatter(x_sine, y_pred)\n",
    "show()"
   ]
  },
  {
   "cell_type": "code",
   "execution_count": 33,
   "metadata": {
    "collapsed": true
   },
   "outputs": [],
   "source": [
    "# Define model\n",
    "model_0H = Linear_0H().to(device)"
   ]
  },
  {
   "cell_type": "code",
   "execution_count": 34,
   "metadata": {},
   "outputs": [
    {
     "name": "stdout",
     "output_type": "stream",
     "text": [
      "Epoch 1 loss: 0.5330982208251953\n",
      "Epoch 100 loss: 0.15037932991981506\n",
      "Epoch 200 loss: 0.09508303552865982\n",
      "Epoch 300 loss: 0.08208439499139786\n",
      "Epoch 400 loss: 0.07886815071105957\n",
      "Epoch 500 loss: 0.07806941866874695\n",
      "Epoch 600 loss: 0.07787100225687027\n",
      "Epoch 700 loss: 0.07782171666622162\n",
      "Epoch 800 loss: 0.07780947536230087\n",
      "Epoch 900 loss: 0.07780643552541733\n",
      "Epoch 1000 loss: 0.07780567556619644\n",
      "Epoch 1100 loss: 0.07780548930168152\n",
      "Epoch 1200 loss: 0.07780543714761734\n",
      "Epoch 1300 loss: 0.07780542969703674\n",
      "Epoch 1400 loss: 0.07780542969703674\n",
      "Epoch 1500 loss: 0.07780542969703674\n",
      "Epoch 1600 loss: 0.07780542969703674\n",
      "Epoch 1700 loss: 0.07780542969703674\n",
      "Epoch 1800 loss: 0.07780542969703674\n",
      "Epoch 1900 loss: 0.07780542969703674\n",
      "Epoch 2000 loss: 0.07780542969703674\n",
      "Epoch 2100 loss: 0.07780542969703674\n",
      "Epoch 2200 loss: 0.07780542969703674\n",
      "Epoch 2300 loss: 0.07780542969703674\n",
      "Epoch 2400 loss: 0.07780542969703674\n",
      "Epoch 2500 loss: 0.07780542969703674\n",
      "Epoch 2600 loss: 0.07780542969703674\n",
      "Epoch 2700 loss: 0.07780542969703674\n",
      "Epoch 2800 loss: 0.07780542969703674\n",
      "Epoch 2900 loss: 0.07780542969703674\n",
      "Epoch 3000 loss: 0.07780542969703674\n",
      "Epoch 3100 loss: 0.07780542969703674\n",
      "Epoch 3200 loss: 0.07780542969703674\n",
      "Epoch 3300 loss: 0.07780542969703674\n",
      "Epoch 3400 loss: 0.07780542969703674\n",
      "Epoch 3500 loss: 0.07780542969703674\n",
      "Epoch 3600 loss: 0.07780542969703674\n",
      "Epoch 3700 loss: 0.07780542969703674\n",
      "Epoch 3800 loss: 0.07780542969703674\n",
      "Epoch 3900 loss: 0.07780542969703674\n",
      "Epoch 4000 loss: 0.07780542969703674\n",
      "Epoch 4100 loss: 0.07780542969703674\n",
      "Epoch 4200 loss: 0.07780542969703674\n",
      "Epoch 4300 loss: 0.07780542969703674\n",
      "Epoch 4400 loss: 0.07780542969703674\n",
      "Epoch 4500 loss: 0.07780542969703674\n",
      "Epoch 4600 loss: 0.07780542969703674\n",
      "Epoch 4700 loss: 0.07780542969703674\n",
      "Epoch 4800 loss: 0.07780542969703674\n",
      "Epoch 4900 loss: 0.07780542969703674\n",
      "Epoch 5000 loss: 0.07780542969703674\n",
      "Epoch 5100 loss: 0.07780542969703674\n",
      "Epoch 5200 loss: 0.07780542969703674\n",
      "Epoch 5300 loss: 0.07780542969703674\n",
      "Epoch 5400 loss: 0.07780542969703674\n",
      "Epoch 5500 loss: 0.07780542969703674\n",
      "Epoch 5600 loss: 0.07780542969703674\n",
      "Epoch 5700 loss: 0.07780542969703674\n",
      "Epoch 5800 loss: 0.07780542969703674\n",
      "Epoch 5900 loss: 0.07780542969703674\n",
      "Epoch 6000 loss: 0.07780542969703674\n",
      "Epoch 6100 loss: 0.07780542969703674\n",
      "Epoch 6200 loss: 0.07780542969703674\n",
      "Epoch 6300 loss: 0.07780542969703674\n",
      "Epoch 6400 loss: 0.07780542969703674\n",
      "Epoch 6500 loss: 0.07780542969703674\n",
      "Epoch 6600 loss: 0.07780542969703674\n",
      "Epoch 6700 loss: 0.07780542969703674\n",
      "Epoch 6800 loss: 0.07780542969703674\n",
      "Epoch 6900 loss: 0.07780542969703674\n",
      "Epoch 7000 loss: 0.07780542969703674\n",
      "Epoch 7100 loss: 0.07780542969703674\n",
      "Epoch 7200 loss: 0.07780542969703674\n",
      "Epoch 7300 loss: 0.07780542969703674\n",
      "Epoch 7400 loss: 0.07780542969703674\n",
      "Epoch 7500 loss: 0.07780542969703674\n",
      "Epoch 7600 loss: 0.07780542969703674\n",
      "Epoch 7700 loss: 0.07780542969703674\n",
      "Epoch 7800 loss: 0.07780542969703674\n",
      "Epoch 7900 loss: 0.07780542969703674\n",
      "Epoch 8000 loss: 0.07780542969703674\n",
      "Epoch 8100 loss: 0.07780542969703674\n",
      "Epoch 8200 loss: 0.07780542969703674\n",
      "Epoch 8300 loss: 0.07780542969703674\n",
      "Epoch 8400 loss: 0.07780542969703674\n",
      "Epoch 8500 loss: 0.07780542969703674\n",
      "Epoch 8600 loss: 0.07780542969703674\n",
      "Epoch 8700 loss: 0.07780542969703674\n",
      "Epoch 8800 loss: 0.07780542969703674\n",
      "Epoch 8900 loss: 0.07780542969703674\n",
      "Epoch 9000 loss: 0.07780542969703674\n",
      "Epoch 9100 loss: 0.07780542969703674\n",
      "Epoch 9200 loss: 0.07780542969703674\n",
      "Epoch 9300 loss: 0.07780542969703674\n",
      "Epoch 9400 loss: 0.07780542969703674\n",
      "Epoch 9500 loss: 0.07780542969703674\n",
      "Epoch 9600 loss: 0.07780542969703674\n",
      "Epoch 9700 loss: 0.07780542969703674\n",
      "Epoch 9800 loss: 0.07780542969703674\n",
      "Epoch 9900 loss: 0.07780542969703674\n",
      "Epoch 10000 loss: 0.07780542969703674\n"
     ]
    }
   ],
   "source": [
    "# Train model on abosulte value data for 10000 epochs and loss_threshold 1e-2\n",
    "y_pred = train(model_0H, epochs=10000, x=x_abs, y=y_abs, loss_threshold=1e-2)"
   ]
  },
  {
   "cell_type": "code",
   "execution_count": 35,
   "metadata": {},
   "outputs": [
    {
     "data": {
      "image/png": "[encoded data removed]",
      "text/plain": [
       "<matplotlib.figure.Figure at 0x11866e748>"
      ]
     },
     "metadata": {},
     "output_type": "display_data"
    }
   ],
   "source": [
    "# Plot predictions vs actual data\n",
    "# TODO\n",
    "scatter(x_abs, y_abs)\n",
    "scatter(x_abs, y_pred)\n",
    "show()"
   ]
  },
  {
   "cell_type": "code",
   "execution_count": 36,
   "metadata": {
    "collapsed": true
   },
   "outputs": [],
   "source": [
    "# Define model\n",
    "model_0H = Linear_0H().to(device)"
   ]
  },
  {
   "cell_type": "code",
   "execution_count": 37,
   "metadata": {},
   "outputs": [
    {
     "name": "stdout",
     "output_type": "stream",
     "text": [
      "Epoch 1 loss: 0.4656562805175781\n",
      "Epoch 100 loss: 0.09716232866048813\n",
      "Epoch 200 loss: 0.0655442625284195\n",
      "Epoch 300 loss: 0.05900765210390091\n",
      "Epoch 400 loss: 0.057461217045784\n",
      "Epoch 500 loss: 0.05709146708250046\n",
      "Epoch 600 loss: 0.05700299143791199\n",
      "Epoch 700 loss: 0.05698181688785553\n",
      "Epoch 800 loss: 0.05697675049304962\n",
      "Epoch 900 loss: 0.05697553977370262\n",
      "Epoch 1000 loss: 0.05697524920105934\n",
      "Epoch 1100 loss: 0.05697517842054367\n",
      "Epoch 1200 loss: 0.05697515979409218\n",
      "Epoch 1300 loss: 0.05697515979409218\n",
      "Epoch 1400 loss: 0.05697515606880188\n",
      "Epoch 1500 loss: 0.05697515606880188\n",
      "Epoch 1600 loss: 0.05697515606880188\n",
      "Epoch 1700 loss: 0.05697515606880188\n",
      "Epoch 1800 loss: 0.05697515606880188\n",
      "Epoch 1900 loss: 0.05697515606880188\n",
      "Epoch 2000 loss: 0.05697515606880188\n",
      "Epoch 2100 loss: 0.05697515606880188\n",
      "Epoch 2200 loss: 0.05697515606880188\n",
      "Epoch 2300 loss: 0.05697515606880188\n",
      "Epoch 2400 loss: 0.05697515606880188\n",
      "Epoch 2500 loss: 0.05697515606880188\n",
      "Epoch 2600 loss: 0.05697515606880188\n",
      "Epoch 2700 loss: 0.05697515606880188\n",
      "Epoch 2800 loss: 0.05697515606880188\n",
      "Epoch 2900 loss: 0.05697515606880188\n",
      "Epoch 3000 loss: 0.05697515606880188\n",
      "Epoch 3100 loss: 0.05697515606880188\n",
      "Epoch 3200 loss: 0.05697515606880188\n",
      "Epoch 3300 loss: 0.05697515606880188\n",
      "Epoch 3400 loss: 0.05697515606880188\n",
      "Epoch 3500 loss: 0.05697515606880188\n",
      "Epoch 3600 loss: 0.05697515606880188\n",
      "Epoch 3700 loss: 0.05697515606880188\n",
      "Epoch 3800 loss: 0.05697515606880188\n",
      "Epoch 3900 loss: 0.05697515606880188\n",
      "Epoch 4000 loss: 0.05697515606880188\n",
      "Epoch 4100 loss: 0.05697515606880188\n",
      "Epoch 4200 loss: 0.05697515606880188\n",
      "Epoch 4300 loss: 0.05697515606880188\n",
      "Epoch 4400 loss: 0.05697515606880188\n",
      "Epoch 4500 loss: 0.05697515606880188\n",
      "Epoch 4600 loss: 0.05697515606880188\n",
      "Epoch 4700 loss: 0.05697515606880188\n",
      "Epoch 4800 loss: 0.05697515606880188\n",
      "Epoch 4900 loss: 0.05697515606880188\n",
      "Epoch 5000 loss: 0.05697515606880188\n",
      "Epoch 5100 loss: 0.05697515606880188\n",
      "Epoch 5200 loss: 0.05697515606880188\n",
      "Epoch 5300 loss: 0.05697515606880188\n",
      "Epoch 5400 loss: 0.05697515606880188\n",
      "Epoch 5500 loss: 0.05697515606880188\n",
      "Epoch 5600 loss: 0.05697515606880188\n",
      "Epoch 5700 loss: 0.05697515606880188\n",
      "Epoch 5800 loss: 0.05697515606880188\n",
      "Epoch 5900 loss: 0.05697515606880188\n",
      "Epoch 6000 loss: 0.05697515606880188\n",
      "Epoch 6100 loss: 0.05697515606880188\n",
      "Epoch 6200 loss: 0.05697515606880188\n",
      "Epoch 6300 loss: 0.05697515606880188\n",
      "Epoch 6400 loss: 0.05697515606880188\n",
      "Epoch 6500 loss: 0.05697515606880188\n",
      "Epoch 6600 loss: 0.05697515606880188\n",
      "Epoch 6700 loss: 0.05697515606880188\n",
      "Epoch 6800 loss: 0.05697515606880188\n",
      "Epoch 6900 loss: 0.05697515606880188\n",
      "Epoch 7000 loss: 0.05697515606880188\n",
      "Epoch 7100 loss: 0.05697515606880188\n",
      "Epoch 7200 loss: 0.05697515606880188\n",
      "Epoch 7300 loss: 0.05697515606880188\n",
      "Epoch 7400 loss: 0.05697515606880188\n",
      "Epoch 7500 loss: 0.05697515606880188\n",
      "Epoch 7600 loss: 0.05697515606880188\n",
      "Epoch 7700 loss: 0.05697515606880188\n",
      "Epoch 7800 loss: 0.05697515606880188\n",
      "Epoch 7900 loss: 0.05697515606880188\n",
      "Epoch 8000 loss: 0.05697515606880188\n",
      "Epoch 8100 loss: 0.05697515606880188\n",
      "Epoch 8200 loss: 0.05697515606880188\n",
      "Epoch 8300 loss: 0.05697515606880188\n",
      "Epoch 8400 loss: 0.05697515606880188\n",
      "Epoch 8500 loss: 0.05697515606880188\n",
      "Epoch 8600 loss: 0.05697515606880188\n",
      "Epoch 8700 loss: 0.05697515606880188\n",
      "Epoch 8800 loss: 0.05697515606880188\n",
      "Epoch 8900 loss: 0.05697515606880188\n",
      "Epoch 9000 loss: 0.05697515606880188\n",
      "Epoch 9100 loss: 0.05697515606880188\n",
      "Epoch 9200 loss: 0.05697515606880188\n",
      "Epoch 9300 loss: 0.05697515606880188\n",
      "Epoch 9400 loss: 0.05697515606880188\n",
      "Epoch 9500 loss: 0.05697515606880188\n",
      "Epoch 9600 loss: 0.05697515606880188\n",
      "Epoch 9700 loss: 0.05697515606880188\n",
      "Epoch 9800 loss: 0.05697515606880188\n",
      "Epoch 9900 loss: 0.05697515606880188\n",
      "Epoch 10000 loss: 0.05697515606880188\n"
     ]
    }
   ],
   "source": [
    "# Train model on Heavyside Step Function data for 10000 epochs and loss_threshold 1e-2\n",
    "y_pred = train(model_0H, epochs=10000, x=x_hs, y=y_hs, loss_threshold=1e-2)"
   ]
  },
  {
   "cell_type": "code",
   "execution_count": 38,
   "metadata": {},
   "outputs": [
    {
     "data": {
      "image/png": "[encoded data removed]",
      "text/plain": [
       "<matplotlib.figure.Figure at 0x118675160>"
      ]
     },
     "metadata": {},
     "output_type": "display_data"
    }
   ],
   "source": [
    "# Plot predictions vs actual data\n",
    "# TODO\n",
    "scatter(x_hs, y_hs)\n",
    "scatter(x_hs, y_pred)\n",
    "show()"
   ]
  },
  {
   "cell_type": "markdown",
   "metadata": {},
   "source": [
    "### 3.3. `Linear_1H` (5 pts)"
   ]
  },
  {
   "cell_type": "code",
   "execution_count": 39,
   "metadata": {
    "collapsed": true
   },
   "outputs": [],
   "source": [
    "# Define model\n",
    "model_1H = Linear_1H().to(device)"
   ]
  },
  {
   "cell_type": "code",
   "execution_count": 40,
   "metadata": {},
   "outputs": [
    {
     "name": "stdout",
     "output_type": "stream",
     "text": [
      "Epoch 1 loss: 0.29369524121284485\n",
      "Epoch 100 loss: 0.037239983677864075\n",
      "Epoch 200 loss: 0.031469833105802536\n",
      "Epoch 300 loss: 0.02732311561703682\n",
      "Epoch 400 loss: 0.023670455440878868\n",
      "Epoch 500 loss: 0.020531177520751953\n",
      "Epoch 600 loss: 0.017817357555031776\n",
      "Epoch 700 loss: 0.015474325977265835\n",
      "Epoch 800 loss: 0.013475255109369755\n",
      "Epoch 900 loss: 0.0117959501221776\n",
      "Epoch 1000 loss: 0.0103977732360363\n",
      "Epoch 1033 loss: 0.00999172031879425\n"
     ]
    }
   ],
   "source": [
    "# Train model on quadratic data for 10000 epochs and loss threshold 1e-2\n",
    "model_1H = Linear_1H().to(device)\n",
    "y_pred = train(model_1H, epochs=10000, x=x_quadr, y=y_quadr, loss_threshold=1e-2)"
   ]
  },
  {
   "cell_type": "code",
   "execution_count": 41,
   "metadata": {},
   "outputs": [
    {
     "data": {
      "image/png": "[encoded data removed]",
      "text/plain": [
       "<matplotlib.figure.Figure at 0x1187f65c0>"
      ]
     },
     "metadata": {},
     "output_type": "display_data"
    }
   ],
   "source": [
    "# Plot predictions vs actual data\n",
    "# TODO\n",
    "scatter(x_quadr, y_quadr)\n",
    "scatter(x_quadr, y_pred)\n",
    "show()"
   ]
  },
  {
   "cell_type": "code",
   "execution_count": 42,
   "metadata": {
    "collapsed": true
   },
   "outputs": [],
   "source": [
    "# Define model\n",
    "model_1H = Linear_1H().to(device)"
   ]
  },
  {
   "cell_type": "code",
   "execution_count": 43,
   "metadata": {},
   "outputs": [
    {
     "name": "stdout",
     "output_type": "stream",
     "text": [
      "Epoch 1 loss: 0.02326345257461071\n",
      "Epoch 100 loss: 0.021592173725366592\n",
      "Epoch 200 loss: 0.021409058943390846\n",
      "Epoch 300 loss: 0.021267710253596306\n",
      "Epoch 400 loss: 0.02114020846784115\n",
      "Epoch 500 loss: 0.02102329581975937\n",
      "Epoch 600 loss: 0.020914793014526367\n",
      "Epoch 700 loss: 0.02081194519996643\n",
      "Epoch 800 loss: 0.020712878555059433\n",
      "Epoch 900 loss: 0.020617498084902763\n",
      "Epoch 1000 loss: 0.02052322030067444\n",
      "Epoch 1100 loss: 0.020428918302059174\n",
      "Epoch 1200 loss: 0.020334387198090553\n",
      "Epoch 1300 loss: 0.020244481042027473\n",
      "Epoch 1400 loss: 0.02015904150903225\n",
      "Epoch 1500 loss: 0.0200724508613348\n",
      "Epoch 1600 loss: 0.01998397521674633\n",
      "Epoch 1700 loss: 0.019893163815140724\n",
      "Epoch 1800 loss: 0.019799649715423584\n",
      "Epoch 1900 loss: 0.019713807851076126\n",
      "Epoch 2000 loss: 0.019627494737505913\n",
      "Epoch 2100 loss: 0.019538789987564087\n",
      "Epoch 2200 loss: 0.019447466358542442\n",
      "Epoch 2300 loss: 0.019358212128281593\n",
      "Epoch 2400 loss: 0.01927005685865879\n",
      "Epoch 2500 loss: 0.019186945632100105\n",
      "Epoch 2600 loss: 0.01910184882581234\n",
      "Epoch 2700 loss: 0.019014624878764153\n",
      "Epoch 2800 loss: 0.01892518810927868\n",
      "Epoch 2900 loss: 0.018833482638001442\n",
      "Epoch 3000 loss: 0.018745388835668564\n",
      "Epoch 3100 loss: 0.018656140193343163\n",
      "Epoch 3200 loss: 0.018564950674772263\n",
      "Epoch 3300 loss: 0.018474049866199493\n",
      "Epoch 3400 loss: 0.01838637702167034\n",
      "Epoch 3500 loss: 0.018297748640179634\n",
      "Epoch 3600 loss: 0.018214141950011253\n",
      "Epoch 3700 loss: 0.018129386007785797\n",
      "Epoch 3800 loss: 0.018043488264083862\n",
      "Epoch 3900 loss: 0.017956476658582687\n",
      "Epoch 4000 loss: 0.017877602949738503\n",
      "Epoch 4100 loss: 0.01780225895345211\n",
      "Epoch 4200 loss: 0.01772652007639408\n",
      "Epoch 4300 loss: 0.01765032671391964\n",
      "Epoch 4400 loss: 0.017573649063706398\n",
      "Epoch 4500 loss: 0.017502261325716972\n",
      "Epoch 4600 loss: 0.01743101328611374\n",
      "Epoch 4700 loss: 0.01736077107489109\n",
      "Epoch 4800 loss: 0.017294595018029213\n",
      "Epoch 4900 loss: 0.017228540033102036\n",
      "Epoch 5000 loss: 0.017162511125206947\n",
      "Epoch 5100 loss: 0.017096439376473427\n",
      "Epoch 5200 loss: 0.01703028753399849\n",
      "Epoch 5300 loss: 0.01696404069662094\n",
      "Epoch 5400 loss: 0.016897698864340782\n",
      "Epoch 5500 loss: 0.016831278800964355\n",
      "Epoch 5600 loss: 0.016764799132943153\n",
      "Epoch 5700 loss: 0.01670561544597149\n",
      "Epoch 5800 loss: 0.016648923978209496\n",
      "Epoch 5900 loss: 0.016592882573604584\n",
      "Epoch 6000 loss: 0.016537310555577278\n",
      "Epoch 6100 loss: 0.016482079401612282\n",
      "Epoch 6200 loss: 0.016427109017968178\n",
      "Epoch 6300 loss: 0.01637234352529049\n",
      "Epoch 6400 loss: 0.016317754983901978\n",
      "Epoch 6500 loss: 0.016263330355286598\n",
      "Epoch 6600 loss: 0.01620906963944435\n",
      "Epoch 6700 loss: 0.016154978424310684\n",
      "Epoch 6800 loss: 0.01610107161104679\n",
      "Epoch 6900 loss: 0.01604774221777916\n",
      "Epoch 7000 loss: 0.01599842682480812\n",
      "Epoch 7100 loss: 0.015949595719575882\n",
      "Epoch 7200 loss: 0.015901153907179832\n",
      "Epoch 7300 loss: 0.015853049233555794\n",
      "Epoch 7400 loss: 0.015805251896381378\n",
      "Epoch 7500 loss: 0.01575775071978569\n",
      "Epoch 7600 loss: 0.015710540115833282\n",
      "Epoch 7700 loss: 0.01566362753510475\n",
      "Epoch 7800 loss: 0.015617020428180695\n",
      "Epoch 7900 loss: 0.015570727176964283\n",
      "Epoch 8000 loss: 0.01552676223218441\n",
      "Epoch 8100 loss: 0.015484633855521679\n",
      "Epoch 8200 loss: 0.0154430465772748\n",
      "Epoch 8300 loss: 0.015401916578412056\n",
      "Epoch 8400 loss: 0.015361188910901546\n",
      "Epoch 8500 loss: 0.015322031453251839\n",
      "Epoch 8600 loss: 0.015284829773008823\n",
      "Epoch 8700 loss: 0.01524832472205162\n",
      "Epoch 8800 loss: 0.015212354250252247\n",
      "Epoch 8900 loss: 0.015176825225353241\n",
      "Epoch 9000 loss: 0.015142702497541904\n",
      "Epoch 9100 loss: 0.015110334381461143\n",
      "Epoch 9200 loss: 0.01507868617773056\n",
      "Epoch 9300 loss: 0.015047569759190083\n",
      "Epoch 9400 loss: 0.015016873367130756\n",
      "Epoch 9500 loss: 0.014986897818744183\n",
      "Epoch 9600 loss: 0.01495889201760292\n",
      "Epoch 9700 loss: 0.01493164710700512\n",
      "Epoch 9800 loss: 0.014904932118952274\n",
      "Epoch 9900 loss: 0.014878618530929089\n",
      "Epoch 10000 loss: 0.014852630905807018\n"
     ]
    }
   ],
   "source": [
    "# Train model on cubic data for 10000 epochs and loss_threshold 1e-2\n",
    "y_pred = train(model_1H, epochs=10000, x=x_cubic, y=y_cubic, loss_threshold=1e-2)"
   ]
  },
  {
   "cell_type": "code",
   "execution_count": 44,
   "metadata": {},
   "outputs": [
    {
     "data": {
      "image/png": "[encoded data removed]",
      "text/plain": [
       "<matplotlib.figure.Figure at 0x11885f390>"
      ]
     },
     "metadata": {},
     "output_type": "display_data"
    }
   ],
   "source": [
    "# Plot predictions vs actual data\n",
    "# TODO\n",
    "scatter(x_cubic, y_cubic)\n",
    "scatter(x_cubic, y_pred)\n",
    "show()"
   ]
  },
  {
   "cell_type": "code",
   "execution_count": 45,
   "metadata": {
    "collapsed": true
   },
   "outputs": [],
   "source": [
    "# Define model\n",
    "model_1H = Linear_1H().to(device)"
   ]
  },
  {
   "cell_type": "code",
   "execution_count": 46,
   "metadata": {},
   "outputs": [
    {
     "name": "stdout",
     "output_type": "stream",
     "text": [
      "Epoch 1 loss: 0.944812536239624\n",
      "Epoch 100 loss: 0.3506821095943451\n",
      "Epoch 200 loss: 0.16411104798316956\n",
      "Epoch 300 loss: 0.07938691228628159\n",
      "Epoch 400 loss: 0.055042557418346405\n",
      "Epoch 500 loss: 0.049881353974342346\n",
      "Epoch 600 loss: 0.048916447907686234\n",
      "Epoch 700 loss: 0.048737071454524994\n",
      "Epoch 800 loss: 0.04869576543569565\n",
      "Epoch 900 loss: 0.04867851734161377\n",
      "Epoch 1000 loss: 0.048665862530469894\n",
      "Epoch 1100 loss: 0.04865434393286705\n",
      "Epoch 1200 loss: 0.04864329472184181\n",
      "Epoch 1300 loss: 0.04863251373171806\n",
      "Epoch 1400 loss: 0.04862191900610924\n",
      "Epoch 1500 loss: 0.04861146956682205\n",
      "Epoch 1600 loss: 0.04860115796327591\n",
      "Epoch 1700 loss: 0.04859096184372902\n",
      "Epoch 1800 loss: 0.04858088120818138\n",
      "Epoch 1900 loss: 0.0485708974301815\n",
      "Epoch 2000 loss: 0.048561010509729385\n",
      "Epoch 2100 loss: 0.048551224172115326\n",
      "Epoch 2200 loss: 0.04854152724146843\n",
      "Epoch 2300 loss: 0.048531923443078995\n",
      "Epoch 2400 loss: 0.048522405326366425\n",
      "Epoch 2500 loss: 0.048512980341911316\n",
      "Epoch 2600 loss: 0.048503629863262177\n",
      "Epoch 2700 loss: 0.0484943762421608\n",
      "Epoch 2800 loss: 0.048485200852155685\n",
      "Epoch 2900 loss: 0.04847610741853714\n",
      "Epoch 3000 loss: 0.04846709221601486\n",
      "Epoch 3100 loss: 0.04845815151929855\n",
      "Epoch 3200 loss: 0.04844929650425911\n",
      "Epoch 3300 loss: 0.048440515995025635\n",
      "Epoch 3400 loss: 0.048431798815727234\n",
      "Epoch 3500 loss: 0.0484231598675251\n",
      "Epoch 3600 loss: 0.04841459169983864\n",
      "Epoch 3700 loss: 0.04840609058737755\n",
      "Epoch 3800 loss: 0.048397667706012726\n",
      "Epoch 3900 loss: 0.04838930070400238\n",
      "Epoch 4000 loss: 0.04838100075721741\n",
      "Epoch 4100 loss: 0.048372767865657806\n",
      "Epoch 4200 loss: 0.04836459457874298\n",
      "Epoch 4300 loss: 0.04835648089647293\n",
      "Epoch 4400 loss: 0.048348426818847656\n",
      "Epoch 4500 loss: 0.048340436071157455\n",
      "Epoch 4600 loss: 0.04833250120282173\n",
      "Epoch 4700 loss: 0.048324622213840485\n",
      "Epoch 4800 loss: 0.048316795378923416\n",
      "Epoch 4900 loss: 0.048309020698070526\n",
      "Epoch 5000 loss: 0.04830130189657211\n",
      "Epoch 5100 loss: 0.04829363152384758\n",
      "Epoch 5200 loss: 0.04828600585460663\n",
      "Epoch 5300 loss: 0.04827842488884926\n",
      "Epoch 5400 loss: 0.048270899802446365\n",
      "Epoch 5500 loss: 0.04826341196894646\n",
      "Epoch 5600 loss: 0.04825597628951073\n",
      "Epoch 5700 loss: 0.04824857786297798\n",
      "Epoch 5800 loss: 0.04824122413992882\n",
      "Epoch 5900 loss: 0.04823390766978264\n",
      "Epoch 6000 loss: 0.04822663217782974\n",
      "Epoch 6100 loss: 0.04821939021348953\n",
      "Epoch 6200 loss: 0.048212192952632904\n",
      "Epoch 6300 loss: 0.048205021768808365\n",
      "Epoch 6400 loss: 0.04819788411259651\n",
      "Epoch 6500 loss: 0.048190779983997345\n",
      "Epoch 6600 loss: 0.048183709383010864\n",
      "Epoch 6700 loss: 0.04817666858434677\n",
      "Epoch 6800 loss: 0.048169657588005066\n",
      "Epoch 6900 loss: 0.04816266894340515\n",
      "Epoch 7000 loss: 0.04815571382641792\n",
      "Epoch 7100 loss: 0.048148781061172485\n",
      "Epoch 7200 loss: 0.048141878098249435\n",
      "Epoch 7300 loss: 0.04813499376177788\n",
      "Epoch 7400 loss: 0.04812812805175781\n",
      "Epoch 7500 loss: 0.04812128096818924\n",
      "Epoch 7600 loss: 0.04811445623636246\n",
      "Epoch 7700 loss: 0.04810764640569687\n",
      "Epoch 7800 loss: 0.04810085520148277\n",
      "Epoch 7900 loss: 0.04809407517313957\n",
      "Epoch 8000 loss: 0.04808731749653816\n",
      "Epoch 8100 loss: 0.04808057099580765\n",
      "Epoch 8200 loss: 0.04807382822036743\n",
      "Epoch 8300 loss: 0.048067107796669006\n",
      "Epoch 8400 loss: 0.04806038737297058\n",
      "Epoch 8500 loss: 0.04805368185043335\n",
      "Epoch 8600 loss: 0.04804697632789612\n",
      "Epoch 8700 loss: 0.04804028943181038\n",
      "Epoch 8800 loss: 0.04803360253572464\n",
      "Epoch 8900 loss: 0.0480269193649292\n",
      "Epoch 9000 loss: 0.04802023246884346\n",
      "Epoch 9100 loss: 0.04801354557275772\n",
      "Epoch 9200 loss: 0.048006873577833176\n",
      "Epoch 9300 loss: 0.048000190407037735\n",
      "Epoch 9400 loss: 0.047993503510951996\n",
      "Epoch 9500 loss: 0.04798681661486626\n",
      "Epoch 9600 loss: 0.04798012226819992\n",
      "Epoch 9700 loss: 0.04797342047095299\n",
      "Epoch 9800 loss: 0.04796671122312546\n",
      "Epoch 9900 loss: 0.04795999825000763\n",
      "Epoch 10000 loss: 0.047953274101018906\n"
     ]
    }
   ],
   "source": [
    "# Train model on sine data for 10000 epochs and loss_threshold 1e-2\n",
    "model_1H = Linear_1H().to(device)\n",
    "y_pred = train(model_1H, epochs=10000, x=x_sine, y=y_sine, loss_threshold=1e-2)"
   ]
  },
  {
   "cell_type": "code",
   "execution_count": 47,
   "metadata": {},
   "outputs": [
    {
     "data": {
      "image/png": "[encoded data removed]",
      "text/plain": [
       "<matplotlib.figure.Figure at 0x11898c1d0>"
      ]
     },
     "metadata": {},
     "output_type": "display_data"
    }
   ],
   "source": [
    "# Plot predictions vs actual data\n",
    "# TODO\n",
    "scatter(x_sine, y_sine)\n",
    "scatter(x_sine, y_pred)\n",
    "show()"
   ]
  },
  {
   "cell_type": "code",
   "execution_count": 48,
   "metadata": {
    "collapsed": true
   },
   "outputs": [],
   "source": [
    "# Define model\n",
    "model_1H = Linear_1H().to(device)"
   ]
  },
  {
   "cell_type": "code",
   "execution_count": 49,
   "metadata": {},
   "outputs": [
    {
     "name": "stdout",
     "output_type": "stream",
     "text": [
      "Epoch 1 loss: 0.1630920171737671\n",
      "Epoch 100 loss: 0.09986266493797302\n",
      "Epoch 200 loss: 0.08258388936519623\n",
      "Epoch 300 loss: 0.07456786930561066\n",
      "Epoch 400 loss: 0.07006202638149261\n",
      "Epoch 500 loss: 0.06702208518981934\n",
      "Epoch 600 loss: 0.0646287351846695\n",
      "Epoch 700 loss: 0.062474776059389114\n",
      "Epoch 800 loss: 0.0604441836476326\n",
      "Epoch 900 loss: 0.05845120549201965\n",
      "Epoch 1000 loss: 0.056437067687511444\n",
      "Epoch 1100 loss: 0.05440977215766907\n",
      "Epoch 1200 loss: 0.052364449948072433\n",
      "Epoch 1300 loss: 0.05034048855304718\n",
      "Epoch 1400 loss: 0.0483328215777874\n",
      "Epoch 1500 loss: 0.046281199902296066\n",
      "Epoch 1600 loss: 0.044175926595926285\n",
      "Epoch 1700 loss: 0.042044129222631454\n",
      "Epoch 1800 loss: 0.03992729261517525\n",
      "Epoch 1900 loss: 0.03779752552509308\n",
      "Epoch 2000 loss: 0.035675082355737686\n",
      "Epoch 2100 loss: 0.03358190506696701\n",
      "Epoch 2200 loss: 0.031509850174188614\n",
      "Epoch 2300 loss: 0.02946479059755802\n",
      "Epoch 2400 loss: 0.027474062517285347\n",
      "Epoch 2500 loss: 0.02553972415626049\n",
      "Epoch 2600 loss: 0.023664921522140503\n",
      "Epoch 2700 loss: 0.02186448872089386\n",
      "Epoch 2800 loss: 0.020153706893324852\n",
      "Epoch 2900 loss: 0.01846499741077423\n",
      "Epoch 3000 loss: 0.016705835238099098\n",
      "Epoch 3100 loss: 0.015067456290125847\n",
      "Epoch 3200 loss: 0.013560318388044834\n",
      "Epoch 3300 loss: 0.012207805179059505\n",
      "Epoch 3400 loss: 0.010974930599331856\n",
      "Epoch 3491 loss: 0.00999698881059885\n"
     ]
    }
   ],
   "source": [
    "# Train model on abosulte value data for 10000 epochs and loss_threshold 1e-2\n",
    "model_1H = Linear_1H().to(device)\n",
    "y_pred = train(model_1H, epochs=10000, x=x_abs, y=y_abs, loss_threshold=1e-2)"
   ]
  },
  {
   "cell_type": "code",
   "execution_count": 50,
   "metadata": {},
   "outputs": [
    {
     "data": {
      "image/png": "[encoded data removed]",
      "text/plain": [
       "<matplotlib.figure.Figure at 0x118a4afd0>"
      ]
     },
     "metadata": {},
     "output_type": "display_data"
    }
   ],
   "source": [
    "# Plot predictions vs actual data\n",
    "# TODO\n",
    "scatter(x_abs, y_abs)\n",
    "scatter(x_abs, y_pred)\n",
    "show()"
   ]
  },
  {
   "cell_type": "code",
   "execution_count": 51,
   "metadata": {
    "collapsed": true
   },
   "outputs": [],
   "source": [
    "# Define model\n",
    "model_1H = Linear_1H().to(device)"
   ]
  },
  {
   "cell_type": "code",
   "execution_count": 52,
   "metadata": {},
   "outputs": [
    {
     "name": "stdout",
     "output_type": "stream",
     "text": [
      "Epoch 1 loss: 0.37206709384918213\n",
      "Epoch 100 loss: 0.24555858969688416\n",
      "Epoch 200 loss: 0.1663413792848587\n",
      "Epoch 300 loss: 0.10682795196771622\n",
      "Epoch 400 loss: 0.07262493669986725\n",
      "Epoch 500 loss: 0.0571763701736927\n",
      "Epoch 600 loss: 0.05120844021439552\n",
      "Epoch 700 loss: 0.048830095678567886\n",
      "Epoch 800 loss: 0.04769482463598251\n",
      "Epoch 900 loss: 0.046970777213573456\n",
      "Epoch 1000 loss: 0.04634878784418106\n",
      "Epoch 1100 loss: 0.04574217647314072\n",
      "Epoch 1200 loss: 0.04512188583612442\n",
      "Epoch 1300 loss: 0.044495001435279846\n",
      "Epoch 1400 loss: 0.04383905604481697\n",
      "Epoch 1500 loss: 0.04316350817680359\n",
      "Epoch 1600 loss: 0.0424576960504055\n",
      "Epoch 1700 loss: 0.041768234223127365\n",
      "Epoch 1800 loss: 0.04107121005654335\n",
      "Epoch 1900 loss: 0.040384333580732346\n",
      "Epoch 2000 loss: 0.03970682993531227\n",
      "Epoch 2100 loss: 0.03902945667505264\n",
      "Epoch 2200 loss: 0.03834638372063637\n",
      "Epoch 2300 loss: 0.037659600377082825\n",
      "Epoch 2400 loss: 0.03700047358870506\n",
      "Epoch 2500 loss: 0.03637130931019783\n",
      "Epoch 2600 loss: 0.035766519606113434\n",
      "Epoch 2700 loss: 0.035190556198358536\n",
      "Epoch 2800 loss: 0.03463214263319969\n",
      "Epoch 2900 loss: 0.034082841128110886\n",
      "Epoch 3000 loss: 0.03354363888502121\n",
      "Epoch 3100 loss: 0.03301142901182175\n",
      "Epoch 3200 loss: 0.032485321164131165\n",
      "Epoch 3300 loss: 0.03196609392762184\n",
      "Epoch 3400 loss: 0.03145429491996765\n",
      "Epoch 3500 loss: 0.030950304120779037\n",
      "Epoch 3600 loss: 0.030455928295850754\n",
      "Epoch 3700 loss: 0.02997002936899662\n",
      "Epoch 3800 loss: 0.029492976143956184\n",
      "Epoch 3900 loss: 0.029025103896856308\n",
      "Epoch 4000 loss: 0.028566960245370865\n",
      "Epoch 4100 loss: 0.028118833899497986\n",
      "Epoch 4200 loss: 0.027679601684212685\n",
      "Epoch 4300 loss: 0.02725020982325077\n",
      "Epoch 4400 loss: 0.02683105878531933\n",
      "Epoch 4500 loss: 0.026422422379255295\n",
      "Epoch 4600 loss: 0.02602454647421837\n",
      "Epoch 4700 loss: 0.025637365877628326\n",
      "Epoch 4800 loss: 0.025260234251618385\n",
      "Epoch 4900 loss: 0.024893466383218765\n",
      "Epoch 5000 loss: 0.024537011981010437\n",
      "Epoch 5100 loss: 0.024190766736865044\n",
      "Epoch 5200 loss: 0.023854585364460945\n",
      "Epoch 5300 loss: 0.02352815680205822\n",
      "Epoch 5400 loss: 0.023210523650050163\n",
      "Epoch 5500 loss: 0.02290170267224312\n",
      "Epoch 5600 loss: 0.02260148897767067\n",
      "Epoch 5700 loss: 0.022309746593236923\n",
      "Epoch 5800 loss: 0.022026367485523224\n",
      "Epoch 5900 loss: 0.021751247346401215\n",
      "Epoch 6000 loss: 0.021484239026904106\n",
      "Epoch 6100 loss: 0.021225227043032646\n",
      "Epoch 6200 loss: 0.020974094048142433\n",
      "Epoch 6300 loss: 0.020730705931782722\n",
      "Epoch 6400 loss: 0.020494939759373665\n",
      "Epoch 6500 loss: 0.02026667445898056\n",
      "Epoch 6600 loss: 0.020045792683959007\n",
      "Epoch 6700 loss: 0.019831473007798195\n",
      "Epoch 6800 loss: 0.019624978303909302\n",
      "Epoch 6900 loss: 0.019426027312874794\n",
      "Epoch 7000 loss: 0.01923278346657753\n",
      "Epoch 7100 loss: 0.019045062363147736\n",
      "Epoch 7200 loss: 0.018862728029489517\n",
      "Epoch 7300 loss: 0.018685631453990936\n",
      "Epoch 7400 loss: 0.018515806645154953\n",
      "Epoch 7500 loss: 0.018353937193751335\n",
      "Epoch 7600 loss: 0.018197236582636833\n",
      "Epoch 7700 loss: 0.018045272678136826\n",
      "Epoch 7800 loss: 0.01789768785238266\n",
      "Epoch 7900 loss: 0.017754055559635162\n",
      "Epoch 8000 loss: 0.017613984644412994\n",
      "Epoch 8100 loss: 0.01747727394104004\n",
      "Epoch 8200 loss: 0.017343832179903984\n",
      "Epoch 8300 loss: 0.01721353270113468\n",
      "Epoch 8400 loss: 0.01708628609776497\n",
      "Epoch 8500 loss: 0.016962021589279175\n",
      "Epoch 8600 loss: 0.016840657219290733\n",
      "Epoch 8700 loss: 0.016722148284316063\n",
      "Epoch 8800 loss: 0.016606446355581284\n",
      "Epoch 8900 loss: 0.01649349555373192\n",
      "Epoch 9000 loss: 0.016383258625864983\n",
      "Epoch 9100 loss: 0.016275692731142044\n",
      "Epoch 9200 loss: 0.016170764341950417\n",
      "Epoch 9300 loss: 0.016068438068032265\n",
      "Epoch 9400 loss: 0.015968678519129753\n",
      "Epoch 9500 loss: 0.015871448442339897\n",
      "Epoch 9600 loss: 0.015776721760630608\n",
      "Epoch 9700 loss: 0.015684451907873154\n",
      "Epoch 9800 loss: 0.015595578588545322\n",
      "Epoch 9900 loss: 0.01550960261374712\n",
      "Epoch 10000 loss: 0.015425502322614193\n"
     ]
    }
   ],
   "source": [
    "# Train model on Heavyside Step Function data for 10000 epochs and loss_threshold 1e-2\n",
    "y_pred = train(model_1H, epochs=10000, x=x_hs, y=y_hs, loss_threshold=1e-2)"
   ]
  },
  {
   "cell_type": "code",
   "execution_count": 53,
   "metadata": {},
   "outputs": [
    {
     "data": {
      "image/png": "[encoded data removed]",
      "text/plain": [
       "<matplotlib.figure.Figure at 0x118a4a2b0>"
      ]
     },
     "metadata": {},
     "output_type": "display_data"
    }
   ],
   "source": [
    "# Plot predictions vs actual data\n",
    "# TODO\n",
    "scatter(x_hs, y_hs)\n",
    "scatter(x_hs, y_pred)\n",
    "show()"
   ]
  },
  {
   "cell_type": "markdown",
   "metadata": {},
   "source": [
    "### 3.3. `Linear_2H` (5 pts)"
   ]
  },
  {
   "cell_type": "code",
   "execution_count": 54,
   "metadata": {
    "collapsed": true
   },
   "outputs": [],
   "source": [
    "# Define model\n",
    "model_2H = Linear_2H().to(device)"
   ]
  },
  {
   "cell_type": "code",
   "execution_count": 55,
   "metadata": {},
   "outputs": [
    {
     "name": "stdout",
     "output_type": "stream",
     "text": [
      "Epoch 1 loss: 0.11018136888742447\n",
      "Epoch 100 loss: 0.08275007456541061\n",
      "Epoch 200 loss: 0.07801922410726547\n",
      "Epoch 300 loss: 0.0758230909705162\n",
      "Epoch 400 loss: 0.07408882677555084\n",
      "Epoch 500 loss: 0.07208172231912613\n",
      "Epoch 600 loss: 0.06984509527683258\n",
      "Epoch 700 loss: 0.06745930016040802\n",
      "Epoch 800 loss: 0.06501969695091248\n",
      "Epoch 900 loss: 0.0626625269651413\n",
      "Epoch 1000 loss: 0.06045495718717575\n",
      "Epoch 1100 loss: 0.05854027345776558\n",
      "Epoch 1200 loss: 0.056934624910354614\n",
      "Epoch 1300 loss: 0.05552045628428459\n",
      "Epoch 1400 loss: 0.05432114750146866\n",
      "Epoch 1500 loss: 0.053272709250450134\n",
      "Epoch 1600 loss: 0.05229134485125542\n",
      "Epoch 1700 loss: 0.051368486136198044\n",
      "Epoch 1800 loss: 0.05045609921216965\n",
      "Epoch 1900 loss: 0.049514997750520706\n",
      "Epoch 2000 loss: 0.04852614551782608\n",
      "Epoch 2100 loss: 0.0474805012345314\n",
      "Epoch 2200 loss: 0.046378470957279205\n",
      "Epoch 2300 loss: 0.045202769339084625\n",
      "Epoch 2400 loss: 0.043944187462329865\n",
      "Epoch 2500 loss: 0.04259449616074562\n",
      "Epoch 2600 loss: 0.04115413874387741\n",
      "Epoch 2700 loss: 0.03962666541337967\n",
      "Epoch 2800 loss: 0.03801129758358002\n",
      "Epoch 2900 loss: 0.03631117194890976\n",
      "Epoch 3000 loss: 0.03455089405179024\n",
      "Epoch 3100 loss: 0.032738275825977325\n",
      "Epoch 3200 loss: 0.030877580866217613\n",
      "Epoch 3300 loss: 0.028991777449846268\n",
      "Epoch 3400 loss: 0.02713056094944477\n",
      "Epoch 3500 loss: 0.025297416374087334\n",
      "Epoch 3600 loss: 0.02349468320608139\n",
      "Epoch 3700 loss: 0.021750327199697495\n",
      "Epoch 3800 loss: 0.02008245512843132\n",
      "Epoch 3900 loss: 0.018530501052737236\n",
      "Epoch 4000 loss: 0.017098795622587204\n",
      "Epoch 4100 loss: 0.015791475772857666\n",
      "Epoch 4200 loss: 0.014584340155124664\n",
      "Epoch 4300 loss: 0.013474823907017708\n",
      "Epoch 4400 loss: 0.012444771826267242\n",
      "Epoch 4500 loss: 0.011503796093165874\n",
      "Epoch 4600 loss: 0.010659236460924149\n",
      "Epoch 4687 loss: 0.009997284039855003\n"
     ]
    }
   ],
   "source": [
    "# Train model on quadratic data for 10000 epochs and loss_threshold 1e-2\n",
    "y_pred = train(model_2H, epochs=10000, x=x_quadr, y=y_quadr, loss_threshold=1e-2)"
   ]
  },
  {
   "cell_type": "code",
   "execution_count": 56,
   "metadata": {},
   "outputs": [
    {
     "data": {
      "image/png": "[encoded data removed]",
      "text/plain": [
       "<matplotlib.figure.Figure at 0x118a456d8>"
      ]
     },
     "metadata": {},
     "output_type": "display_data"
    }
   ],
   "source": [
    "# Plot predictions vs actual data\n",
    "# TODO\n",
    "scatter(x_quadr, y_quadr)\n",
    "scatter(x_quadr, y_pred)\n",
    "show()"
   ]
  },
  {
   "cell_type": "code",
   "execution_count": 57,
   "metadata": {
    "collapsed": true
   },
   "outputs": [],
   "source": [
    "# Define model\n",
    "model_2H = Linear_2H().to(device)"
   ]
  },
  {
   "cell_type": "code",
   "execution_count": 58,
   "metadata": {},
   "outputs": [
    {
     "name": "stdout",
     "output_type": "stream",
     "text": [
      "Epoch 1 loss: 0.3362402617931366\n",
      "Epoch 100 loss: 0.01967744342982769\n",
      "Epoch 200 loss: 0.018749728798866272\n",
      "Epoch 300 loss: 0.01868061162531376\n",
      "Epoch 400 loss: 0.018617138266563416\n",
      "Epoch 500 loss: 0.01855483651161194\n",
      "Epoch 600 loss: 0.018493078649044037\n",
      "Epoch 700 loss: 0.018431518226861954\n",
      "Epoch 800 loss: 0.01836981065571308\n",
      "Epoch 900 loss: 0.018307654187083244\n",
      "Epoch 1000 loss: 0.018245039507746696\n",
      "Epoch 1100 loss: 0.018182482570409775\n",
      "Epoch 1200 loss: 0.018121032044291496\n",
      "Epoch 1300 loss: 0.018059905618429184\n",
      "Epoch 1400 loss: 0.017998838797211647\n",
      "Epoch 1500 loss: 0.017937781289219856\n",
      "Epoch 1600 loss: 0.017877738922834396\n",
      "Epoch 1700 loss: 0.01781788095831871\n",
      "Epoch 1800 loss: 0.017757754772901535\n",
      "Epoch 1900 loss: 0.017697161063551903\n",
      "Epoch 2000 loss: 0.017636068165302277\n",
      "Epoch 2100 loss: 0.017574358731508255\n",
      "Epoch 2200 loss: 0.017511840909719467\n",
      "Epoch 2300 loss: 0.017448436468839645\n",
      "Epoch 2400 loss: 0.017384078353643417\n",
      "Epoch 2500 loss: 0.017318809404969215\n",
      "Epoch 2600 loss: 0.017252901569008827\n",
      "Epoch 2700 loss: 0.017186515033245087\n",
      "Epoch 2800 loss: 0.01711910218000412\n",
      "Epoch 2900 loss: 0.017050422728061676\n",
      "Epoch 3000 loss: 0.016981996595859528\n",
      "Epoch 3100 loss: 0.016913067549467087\n",
      "Epoch 3200 loss: 0.016843095421791077\n",
      "Epoch 3300 loss: 0.016771860420703888\n",
      "Epoch 3400 loss: 0.016699185594916344\n",
      "Epoch 3500 loss: 0.016624942421913147\n",
      "Epoch 3600 loss: 0.016549712046980858\n",
      "Epoch 3700 loss: 0.016473710536956787\n",
      "Epoch 3800 loss: 0.016395892947912216\n",
      "Epoch 3900 loss: 0.016316194087266922\n",
      "Epoch 4000 loss: 0.016234666109085083\n",
      "Epoch 4100 loss: 0.016150934621691704\n",
      "Epoch 4200 loss: 0.016065329313278198\n",
      "Epoch 4300 loss: 0.015978826209902763\n",
      "Epoch 4400 loss: 0.015890486538410187\n",
      "Epoch 4500 loss: 0.015800025314092636\n",
      "Epoch 4600 loss: 0.01570744998753071\n",
      "Epoch 4700 loss: 0.015612732619047165\n",
      "Epoch 4800 loss: 0.015515572391450405\n",
      "Epoch 4900 loss: 0.015415459871292114\n",
      "Epoch 5000 loss: 0.015312813222408295\n",
      "Epoch 5100 loss: 0.015207068994641304\n",
      "Epoch 5200 loss: 0.01509797852486372\n",
      "Epoch 5300 loss: 0.014986340887844563\n",
      "Epoch 5400 loss: 0.014870649203658104\n",
      "Epoch 5500 loss: 0.014750611037015915\n",
      "Epoch 5600 loss: 0.014627429656684399\n",
      "Epoch 5700 loss: 0.014500563032925129\n",
      "Epoch 5800 loss: 0.014370754361152649\n",
      "Epoch 5900 loss: 0.014236325398087502\n",
      "Epoch 6000 loss: 0.014096977189183235\n",
      "Epoch 6100 loss: 0.01395495980978012\n",
      "Epoch 6200 loss: 0.013809858821332455\n",
      "Epoch 6300 loss: 0.013659319840371609\n",
      "Epoch 6400 loss: 0.013502717949450016\n",
      "Epoch 6500 loss: 0.013339725323021412\n",
      "Epoch 6600 loss: 0.01316999364644289\n",
      "Epoch 6700 loss: 0.012993326410651207\n",
      "Epoch 6800 loss: 0.012810193933546543\n",
      "Epoch 6900 loss: 0.012623128481209278\n",
      "Epoch 7000 loss: 0.012428881600499153\n",
      "Epoch 7100 loss: 0.012234248220920563\n",
      "Epoch 7200 loss: 0.012051082216203213\n",
      "Epoch 7300 loss: 0.011861402541399002\n",
      "Epoch 7400 loss: 0.011664980091154575\n",
      "Epoch 7500 loss: 0.011461703106760979\n",
      "Epoch 7600 loss: 0.011259221471846104\n",
      "Epoch 7700 loss: 0.011056005954742432\n",
      "Epoch 7800 loss: 0.010846923105418682\n",
      "Epoch 7900 loss: 0.010634689591825008\n",
      "Epoch 8000 loss: 0.010419757105410099\n",
      "Epoch 8100 loss: 0.010198881849646568\n",
      "Epoch 8189 loss: 0.009997820481657982\n"
     ]
    }
   ],
   "source": [
    "# Train model on cubic data for 10000 epochs and loss_threshold 1e-2\n",
    "model_2H = Linear_2H().to(device)\n",
    "y_pred = train(model_2H, epochs=10000, x=x_cubic, y=y_cubic, loss_threshold=1e-2)"
   ]
  },
  {
   "cell_type": "code",
   "execution_count": 59,
   "metadata": {},
   "outputs": [
    {
     "data": {
      "image/png": "[encoded data removed]",
      "text/plain": [
       "<matplotlib.figure.Figure at 0x10513f128>"
      ]
     },
     "metadata": {},
     "output_type": "display_data"
    }
   ],
   "source": [
    "# Plot predictions vs actual data\n",
    "# TODO\n",
    "scatter(x_cubic, y_cubic)\n",
    "scatter(x_cubic, y_pred)\n",
    "show()"
   ]
  },
  {
   "cell_type": "code",
   "execution_count": 69,
   "metadata": {
    "collapsed": true
   },
   "outputs": [],
   "source": [
    "# Define model\n",
    "model_2H = Linear_2H().to(device)"
   ]
  },
  {
   "cell_type": "code",
   "execution_count": 70,
   "metadata": {},
   "outputs": [
    {
     "name": "stdout",
     "output_type": "stream",
     "text": [
      "Epoch 1 loss: 0.6632744669914246\n",
      "Epoch 100 loss: 0.5439800024032593\n",
      "Epoch 200 loss: 0.4449993968009949\n",
      "Epoch 300 loss: 0.23530273139476776\n",
      "Epoch 400 loss: 0.10032729059457779\n",
      "Epoch 500 loss: 0.07142338156700134\n",
      "Epoch 600 loss: 0.06479698419570923\n",
      "Epoch 700 loss: 0.06265787780284882\n",
      "Epoch 800 loss: 0.06158297508955002\n",
      "Epoch 900 loss: 0.060796480625867844\n",
      "Epoch 1000 loss: 0.060105595737695694\n",
      "Epoch 1100 loss: 0.05941558629274368\n",
      "Epoch 1200 loss: 0.0586603544652462\n",
      "Epoch 1300 loss: 0.05781647190451622\n",
      "Epoch 1400 loss: 0.05688594654202461\n",
      "Epoch 1500 loss: 0.055848490446805954\n",
      "Epoch 1600 loss: 0.054707642644643784\n",
      "Epoch 1700 loss: 0.05354371294379234\n",
      "Epoch 1800 loss: 0.052310746163129807\n",
      "Epoch 1900 loss: 0.0510500967502594\n",
      "Epoch 2000 loss: 0.04979163780808449\n",
      "Epoch 2100 loss: 0.04857354611158371\n",
      "Epoch 2200 loss: 0.04738546162843704\n",
      "Epoch 2300 loss: 0.046158116310834885\n",
      "Epoch 2400 loss: 0.04491642490029335\n",
      "Epoch 2500 loss: 0.043682415038347244\n",
      "Epoch 2600 loss: 0.04243228957056999\n",
      "Epoch 2700 loss: 0.04116591066122055\n",
      "Epoch 2800 loss: 0.03989403322339058\n",
      "Epoch 2900 loss: 0.038613107055425644\n",
      "Epoch 3000 loss: 0.03732727840542793\n",
      "Epoch 3100 loss: 0.03605334833264351\n",
      "Epoch 3200 loss: 0.03478372469544411\n",
      "Epoch 3300 loss: 0.0335235670208931\n",
      "Epoch 3400 loss: 0.03227880969643593\n",
      "Epoch 3500 loss: 0.03105538710951805\n",
      "Epoch 3600 loss: 0.029858846217393875\n",
      "Epoch 3700 loss: 0.028696835041046143\n",
      "Epoch 3800 loss: 0.02758011966943741\n",
      "Epoch 3900 loss: 0.02650393918156624\n",
      "Epoch 4000 loss: 0.02546994388103485\n",
      "Epoch 4100 loss: 0.02448222041130066\n",
      "Epoch 4200 loss: 0.023537788540124893\n",
      "Epoch 4300 loss: 0.022635607048869133\n",
      "Epoch 4400 loss: 0.021775228902697563\n",
      "Epoch 4500 loss: 0.020956773310899734\n",
      "Epoch 4600 loss: 0.02018072083592415\n",
      "Epoch 4700 loss: 0.0194502305239439\n",
      "Epoch 4800 loss: 0.01876089721918106\n",
      "Epoch 4900 loss: 0.018110113218426704\n",
      "Epoch 5000 loss: 0.017495136708021164\n",
      "Epoch 5100 loss: 0.01691318489611149\n",
      "Epoch 5200 loss: 0.01636282354593277\n",
      "Epoch 5300 loss: 0.015843180939555168\n",
      "Epoch 5400 loss: 0.015356616117060184\n",
      "Epoch 5500 loss: 0.014898088760674\n",
      "Epoch 5600 loss: 0.014464148320257664\n",
      "Epoch 5700 loss: 0.014051564037799835\n",
      "Epoch 5800 loss: 0.013661695644259453\n",
      "Epoch 5900 loss: 0.013293178752064705\n",
      "Epoch 6000 loss: 0.012945255264639854\n",
      "Epoch 6100 loss: 0.012618078850209713\n",
      "Epoch 6200 loss: 0.012307936325669289\n",
      "Epoch 6300 loss: 0.012013841420412064\n",
      "Epoch 6400 loss: 0.01173572801053524\n",
      "Epoch 6500 loss: 0.01147152017802\n",
      "Epoch 6600 loss: 0.011220104061067104\n",
      "Epoch 6700 loss: 0.010980484075844288\n",
      "Epoch 6800 loss: 0.010751282796263695\n",
      "Epoch 6900 loss: 0.010531400330364704\n",
      "Epoch 7000 loss: 0.010320023633539677\n",
      "Epoch 7100 loss: 0.01011684536933899\n",
      "Epoch 7160 loss: 0.009998747147619724\n"
     ]
    }
   ],
   "source": [
    "# Train model on sine data for 10000 epochs and loss_threshold 1e-2\n",
    "y_pred = train(model_2H, epochs=10000, x=x_sine, y=y_sine, loss_threshold=1e-2)"
   ]
  },
  {
   "cell_type": "code",
   "execution_count": 71,
   "metadata": {},
   "outputs": [
    {
     "data": {
      "image/png": "[encoded data removed]",
      "text/plain": [
       "<matplotlib.figure.Figure at 0x11868ecc0>"
      ]
     },
     "metadata": {},
     "output_type": "display_data"
    }
   ],
   "source": [
    "# Plot predictions vs actual data\n",
    "# TODO\n",
    "scatter(x_sine, y_sine)\n",
    "scatter(x_sine, y_pred)\n",
    "show()"
   ]
  },
  {
   "cell_type": "code",
   "execution_count": 63,
   "metadata": {
    "collapsed": true
   },
   "outputs": [],
   "source": [
    "# Define model\n",
    "model_2H = Linear_2H().to(device)"
   ]
  },
  {
   "cell_type": "code",
   "execution_count": 64,
   "metadata": {},
   "outputs": [
    {
     "name": "stdout",
     "output_type": "stream",
     "text": [
      "Epoch 1 loss: 0.1948934942483902\n",
      "Epoch 100 loss: 0.08755487948656082\n",
      "Epoch 200 loss: 0.08041660487651825\n",
      "Epoch 300 loss: 0.07671606540679932\n",
      "Epoch 400 loss: 0.07419954985380173\n",
      "Epoch 500 loss: 0.07206128537654877\n",
      "Epoch 600 loss: 0.07030744850635529\n",
      "Epoch 700 loss: 0.06863763183355331\n",
      "Epoch 800 loss: 0.06685608625411987\n",
      "Epoch 900 loss: 0.06488975137472153\n",
      "Epoch 1000 loss: 0.06275080889463425\n",
      "Epoch 1100 loss: 0.060411710292100906\n",
      "Epoch 1200 loss: 0.057868510484695435\n",
      "Epoch 1300 loss: 0.05511891469359398\n",
      "Epoch 1400 loss: 0.05217086151242256\n",
      "Epoch 1500 loss: 0.049078330397605896\n",
      "Epoch 1600 loss: 0.045851051807403564\n",
      "Epoch 1700 loss: 0.04252749681472778\n",
      "Epoch 1800 loss: 0.03913198411464691\n",
      "Epoch 1900 loss: 0.03569420054554939\n",
      "Epoch 2000 loss: 0.03225550428032875\n",
      "Epoch 2100 loss: 0.0288607869297266\n",
      "Epoch 2200 loss: 0.025555074214935303\n",
      "Epoch 2300 loss: 0.022385695949196815\n",
      "Epoch 2400 loss: 0.019394200295209885\n",
      "Epoch 2500 loss: 0.01661287248134613\n",
      "Epoch 2600 loss: 0.014081005938351154\n",
      "Epoch 2700 loss: 0.011815877631306648\n",
      "Epoch 2791 loss: 0.009984617121517658\n"
     ]
    }
   ],
   "source": [
    "# Train model on abosulte value data for 10000 epochs and loss_threshold=1e-2\n",
    "y_pred = train(model_2H, epochs=10000, x=x_abs, y=y_abs, loss_threshold=1e-2)"
   ]
  },
  {
   "cell_type": "code",
   "execution_count": 65,
   "metadata": {},
   "outputs": [
    {
     "data": {
      "image/png": "[encoded data removed]",
      "text/plain": [
       "<matplotlib.figure.Figure at 0x1188c7d30>"
      ]
     },
     "metadata": {},
     "output_type": "display_data"
    }
   ],
   "source": [
    "# Plot predictions vs actual data\n",
    "# TODO\n",
    "scatter(x_abs, y_abs)\n",
    "scatter(x_abs, y_pred)\n",
    "show()"
   ]
  },
  {
   "cell_type": "code",
   "execution_count": 66,
   "metadata": {
    "collapsed": true
   },
   "outputs": [],
   "source": [
    "# Define model\n",
    "model_2H = Linear_2H().to(device)"
   ]
  },
  {
   "cell_type": "code",
   "execution_count": 67,
   "metadata": {},
   "outputs": [
    {
     "name": "stdout",
     "output_type": "stream",
     "text": [
      "Epoch 1 loss: 0.28780248761177063\n",
      "Epoch 100 loss: 0.2273220419883728\n",
      "Epoch 200 loss: 0.20995810627937317\n",
      "Epoch 300 loss: 0.1829492449760437\n",
      "Epoch 400 loss: 0.1436012238264084\n",
      "Epoch 500 loss: 0.09951911121606827\n",
      "Epoch 600 loss: 0.07075346261262894\n",
      "Epoch 700 loss: 0.05757666379213333\n",
      "Epoch 800 loss: 0.052643708884716034\n",
      "Epoch 900 loss: 0.050899751484394073\n",
      "Epoch 1000 loss: 0.050152141600847244\n",
      "Epoch 1100 loss: 0.049647290259599686\n",
      "Epoch 1200 loss: 0.04925351217389107\n",
      "Epoch 1300 loss: 0.048925403505563736\n",
      "Epoch 1400 loss: 0.0486256405711174\n",
      "Epoch 1500 loss: 0.04834132641553879\n",
      "Epoch 1600 loss: 0.048061762005090714\n",
      "Epoch 1700 loss: 0.04778186231851578\n",
      "Epoch 1800 loss: 0.04749448597431183\n",
      "Epoch 1900 loss: 0.04719956964254379\n",
      "Epoch 2000 loss: 0.04689837992191315\n",
      "Epoch 2100 loss: 0.04659152403473854\n",
      "Epoch 2200 loss: 0.046264197677373886\n",
      "Epoch 2300 loss: 0.04595128074288368\n",
      "Epoch 2400 loss: 0.04562476649880409\n",
      "Epoch 2500 loss: 0.04529700055718422\n",
      "Epoch 2600 loss: 0.04495694860816002\n",
      "Epoch 2700 loss: 0.04460320621728897\n",
      "Epoch 2800 loss: 0.04425099864602089\n",
      "Epoch 2900 loss: 0.04389376565814018\n",
      "Epoch 3000 loss: 0.043525051325559616\n",
      "Epoch 3100 loss: 0.043144311755895615\n",
      "Epoch 3200 loss: 0.0427524670958519\n",
      "Epoch 3300 loss: 0.04234732687473297\n",
      "Epoch 3400 loss: 0.041928280144929886\n",
      "Epoch 3500 loss: 0.041494764387607574\n",
      "Epoch 3600 loss: 0.041046351194381714\n",
      "Epoch 3700 loss: 0.040582653135061264\n",
      "Epoch 3800 loss: 0.04010339453816414\n",
      "Epoch 3900 loss: 0.039608459919691086\n",
      "Epoch 4000 loss: 0.039098236709833145\n",
      "Epoch 4100 loss: 0.03857240453362465\n",
      "Epoch 4200 loss: 0.03803133964538574\n",
      "Epoch 4300 loss: 0.03747391700744629\n",
      "Epoch 4400 loss: 0.03690033406019211\n",
      "Epoch 4500 loss: 0.036311086267232895\n",
      "Epoch 4600 loss: 0.03570682927966118\n",
      "Epoch 4700 loss: 0.035089001059532166\n",
      "Epoch 4800 loss: 0.03445848450064659\n",
      "Epoch 4900 loss: 0.0338151752948761\n",
      "Epoch 5000 loss: 0.03316037356853485\n",
      "Epoch 5100 loss: 0.0324956476688385\n",
      "Epoch 5200 loss: 0.03182411938905716\n",
      "Epoch 5300 loss: 0.03114548698067665\n",
      "Epoch 5400 loss: 0.030461430549621582\n",
      "Epoch 5500 loss: 0.029774164780974388\n",
      "Epoch 5600 loss: 0.029085978865623474\n",
      "Epoch 5700 loss: 0.028399359434843063\n",
      "Epoch 5800 loss: 0.027716906741261482\n",
      "Epoch 5900 loss: 0.027041245251893997\n",
      "Epoch 6000 loss: 0.02637507952749729\n",
      "Epoch 6100 loss: 0.025721073150634766\n",
      "Epoch 6200 loss: 0.02508341707289219\n",
      "Epoch 6300 loss: 0.024462006986141205\n",
      "Epoch 6400 loss: 0.023859716951847076\n",
      "Epoch 6500 loss: 0.02327764965593815\n",
      "Epoch 6600 loss: 0.0227164588868618\n",
      "Epoch 6700 loss: 0.02217906340956688\n",
      "Epoch 6800 loss: 0.021664928644895554\n",
      "Epoch 6900 loss: 0.02117406576871872\n",
      "Epoch 7000 loss: 0.02070600539445877\n",
      "Epoch 7100 loss: 0.02025892585515976\n",
      "Epoch 7200 loss: 0.019834596663713455\n",
      "Epoch 7300 loss: 0.019429858773946762\n",
      "Epoch 7400 loss: 0.019043423235416412\n",
      "Epoch 7500 loss: 0.018675249069929123\n",
      "Epoch 7600 loss: 0.01832527108490467\n",
      "Epoch 7700 loss: 0.01799330860376358\n",
      "Epoch 7800 loss: 0.017679667100310326\n",
      "Epoch 7900 loss: 0.017382368445396423\n",
      "Epoch 8000 loss: 0.017102017998695374\n",
      "Epoch 8100 loss: 0.01683599129319191\n",
      "Epoch 8200 loss: 0.01658257283270359\n",
      "Epoch 8300 loss: 0.016341203823685646\n",
      "Epoch 8400 loss: 0.016111088916659355\n",
      "Epoch 8500 loss: 0.01589159294962883\n",
      "Epoch 8600 loss: 0.01568216271698475\n",
      "Epoch 8700 loss: 0.015482303686439991\n",
      "Epoch 8800 loss: 0.015292760916054249\n",
      "Epoch 8900 loss: 0.01511333603411913\n",
      "Epoch 9000 loss: 0.01494221854954958\n",
      "Epoch 9100 loss: 0.014777792617678642\n",
      "Epoch 9200 loss: 0.014619478955864906\n",
      "Epoch 9300 loss: 0.014468184672296047\n",
      "Epoch 9400 loss: 0.014323165640234947\n",
      "Epoch 9500 loss: 0.014183026738464832\n",
      "Epoch 9600 loss: 0.014047444798052311\n",
      "Epoch 9700 loss: 0.013915962539613247\n",
      "Epoch 9800 loss: 0.013788046315312386\n",
      "Epoch 9900 loss: 0.013664397411048412\n",
      "Epoch 10000 loss: 0.013543248176574707\n"
     ]
    }
   ],
   "source": [
    "# Train model on Heavyside Step Function data for 10000 epochs and loss_threshold 1e-2\n",
    "y_pred = train(model_2H, epochs=10000, x=x_hs, y=y_hs, loss_threshold=1e-2)"
   ]
  },
  {
   "cell_type": "code",
   "execution_count": 68,
   "metadata": {},
   "outputs": [
    {
     "data": {
      "image/png": "[encoded data removed]",
      "text/plain": [
       "<matplotlib.figure.Figure at 0x118311828>"
      ]
     },
     "metadata": {},
     "output_type": "display_data"
    }
   ],
   "source": [
    "# Plot predictions vs actual data\n",
    "# TODO\n",
    "scatter(x_hs, y_hs)\n",
    "scatter(x_hs, y_pred)\n",
    "show()"
   ]
  },
  {
   "cell_type": "markdown",
   "metadata": {},
   "source": [
    "### 3.4. Which of the models stopped early and on what data? (2 pts)\n",
    "Please list the experiments where the `loss_threshold` of 1e-2 was reached early. "
   ]
  },
  {
   "cell_type": "markdown",
   "metadata": {},
   "source": [
    "List: `model_1H` on `(x_abs, y_abs)`, `model_1H` on `(x_quadr, y_quadr)`, `model_2H` on `(x_quadr, y_quadr)`, `model_2H` on `(x_abs, y_abs)`, `model_2H` on `(x_sine, y_sine)`, `model_2H` on `(x_cubic, y_cubic)`"
   ]
  },
  {
   "cell_type": "code",
   "execution_count": null,
   "metadata": {
    "collapsed": true
   },
   "outputs": [],
   "source": []
  }
 ],
 "metadata": {
  "kernelspec": {
   "display_name": "Python 3",
   "language": "python",
   "name": "python3"
  },
  "language_info": {
   "codemirror_mode": {
    "name": "ipython",
    "version": 3
   },
   "file_extension": ".py",
   "mimetype": "text/x-python",
   "name": "python",
   "nbconvert_exporter": "python",
   "pygments_lexer": "ipython3",
   "version": "3.6.7"
  }
 },
 "nbformat": 4,
 "nbformat_minor": 2
}
