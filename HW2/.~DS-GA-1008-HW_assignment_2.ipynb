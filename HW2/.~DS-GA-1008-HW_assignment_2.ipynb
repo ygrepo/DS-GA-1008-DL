{
 "cells": [
  {
   "cell_type": "markdown",
   "metadata": {},
   "source": [
    "## 0. Setup"
   ]
  },
  {
   "cell_type": "code",
   "execution_count": null,
   "metadata": {
    "collapsed": true
   },
   "outputs": [],
   "source": [
    "# Import dependencies\n",
    "import torch\n",
    "import torch.nn as nn\n",
    "from plot_lib import set_default, show_scatterplot, plot_bases\n",
    "from matplotlib.pyplot import plot, title, axis"
   ]
  },
  {
   "cell_type": "code",
   "execution_count": null,
   "metadata": {
    "collapsed": true
   },
   "outputs": [],
   "source": [
    "# Set up your device \n",
    "cuda = torch.cuda.is_available()\n",
    "device = torch.device(\"cuda:0\" if cuda else \"cpu\")"
   ]
  },
  {
   "cell_type": "code",
   "execution_count": null,
   "metadata": {
    "collapsed": true
   },
   "outputs": [],
   "source": [
    "# Set up random seed to 1008. Do not change the random seed.\n",
    "seed = 1008\n",
    "torch.manual_seed(seed)\n",
    "if cuda:\n",
    "    torch.cuda.manual_seed_all(seed)"
   ]
  },
  {
   "cell_type": "markdown",
   "metadata": {},
   "source": [
    "## 1. Data generation\n",
    "#### You'll be creating data points that are generated from a particular function."
   ]
  },
  {
   "cell_type": "markdown",
   "metadata": {},
   "source": [
    "### 1.1 Quadratic: $y = f(x) = x^2$"
   ]
  },
  {
   "cell_type": "code",
   "execution_count": null,
   "metadata": {
    "collapsed": true
   },
   "outputs": [],
   "source": [
    "# Implement the function below\n",
    "def quadratic_data_generator(n_samples):\n",
    "    \"\"\"\n",
    "    Generate: \n",
    "    1) tensor x of size (n_samples, 1) \n",
    "    with values uniformly distributed in the interval (-1, 1] \n",
    "    using torch.rand()\n",
    "    2) tensor y of size (n_samples, 1) \n",
    "    equal to x^2 using torch.pow() \n",
    "    \n",
    "    The function should return: x, y\n",
    "    \"\"\"\n",
    "    # x = TODO\n",
    "    # y = TODO\n",
    "    # return x.to(device), y.to(device)"
   ]
  },
  {
   "cell_type": "code",
   "execution_count": null,
   "metadata": {
    "collapsed": true
   },
   "outputs": [],
   "source": [
    "# Generate the data with n_samples = 128\n",
    "# x_quadr, y_quadr = TODO"
   ]
  },
  {
   "cell_type": "code",
   "execution_count": null,
   "metadata": {},
   "outputs": [],
   "source": [
    "# Visualize the data\n",
    "# TODO"
   ]
  },
  {
   "cell_type": "markdown",
   "metadata": {},
   "source": [
    "### 1.2 Cubic: $y = f(x) = x^3 - 0.5x$"
   ]
  },
  {
   "cell_type": "code",
   "execution_count": null,
   "metadata": {
    "collapsed": true
   },
   "outputs": [],
   "source": [
    "# Implement the function below\n",
    "def cubic_data_generator(n_samples):\n",
    "    \"\"\"\n",
    "    Generate: \n",
    "    1) tensor x of size (n_samples, 1) \n",
    "    with values uniformly distributed in the interval (-1, 1] \n",
    "    using torch.rand()\n",
    "    2) tensor y of size (n_samples, 1) \n",
    "    equal to (x^3 - 0.5x) using torch.pow() and torch.mul() \n",
    "    \n",
    "    The function should return: x, y\n",
    "    \"\"\"\n",
    "    # x = TODO\n",
    "    # y = TODO\n",
    "    # return x.to(device), y.to(device)"
   ]
  },
  {
   "cell_type": "code",
   "execution_count": null,
   "metadata": {
    "collapsed": true
   },
   "outputs": [],
   "source": [
    "# Generate the data with n_samples = 128\n",
    "# x_cubic, y_cubic = TODO"
   ]
  },
  {
   "cell_type": "code",
   "execution_count": null,
   "metadata": {},
   "outputs": [],
   "source": [
    "# Visualize the data \n",
    "# TODO"
   ]
  },
  {
   "cell_type": "markdown",
   "metadata": {},
   "source": [
    "### 1.3 Sine: $y = f(x) = \\sin(2.5x)$"
   ]
  },
  {
   "cell_type": "code",
   "execution_count": null,
   "metadata": {
    "collapsed": true
   },
   "outputs": [],
   "source": [
    "# Implement the function below\n",
    "def sine_data_generator(n_samples):\n",
    "    \"\"\"\n",
    "    Generate: \n",
    "    1) tensor x of size (n_samples, 1) \n",
    "    with values uniformly distributed in the interval (-1, 1] \n",
    "    using torch.rand()\n",
    "    2) tensor y of size (n_samples, 1) \n",
    "    equal to sin(2.5 * x) using torch.sin() \n",
    "    \n",
    "    The function should return: x, y\n",
    "    \"\"\"\n",
    "    # x = TODO\n",
    "    # y = TODO\n",
    "    # return x.to(device), y.to(device)"
   ]
  },
  {
   "cell_type": "code",
   "execution_count": null,
   "metadata": {
    "collapsed": true
   },
   "outputs": [],
   "source": [
    "# Generate the data with n_samples = 128\n",
    "# x_sine, y_sine = TODO"
   ]
  },
  {
   "cell_type": "code",
   "execution_count": null,
   "metadata": {},
   "outputs": [],
   "source": [
    "# Visualize the data \n",
    "# TODO"
   ]
  },
  {
   "cell_type": "markdown",
   "metadata": {},
   "source": [
    "### 1.4 Absolute value: $y = f(x) = |x|$"
   ]
  },
  {
   "cell_type": "code",
   "execution_count": null,
   "metadata": {
    "collapsed": true
   },
   "outputs": [],
   "source": [
    "# Implement the function below\n",
    "def abs_data_generator(n_samples):\n",
    "    \"\"\"\n",
    "    Generate: \n",
    "    1) tensor x of size (n_samples, 1) \n",
    "    with values uniformly distributed in the interval (-1, 1] \n",
    "    using torch.rand()\n",
    "    2) tensor y of size (n_samples, 1) \n",
    "    equal to |x| using torch.abs() \n",
    "    \n",
    "    The function should return: x, y\n",
    "    \"\"\"\n",
    "    # x = TODO\n",
    "    # y = TODO\n",
    "    # return x.to(device), y.to(device)"
   ]
  },
  {
   "cell_type": "code",
   "execution_count": null,
   "metadata": {
    "collapsed": true
   },
   "outputs": [],
   "source": [
    "# Generate the data with n_samples = 128\n",
    "# x_abs, y_abs = TODO"
   ]
  },
  {
   "cell_type": "code",
   "execution_count": null,
   "metadata": {},
   "outputs": [],
   "source": [
    "# Visualize the data \n",
    "# TODO"
   ]
  },
  {
   "cell_type": "markdown",
   "metadata": {},
   "source": [
    "### 1.5 Heavyside Step Function: $y = f(x) = \\begin{cases} 0, & x < 0 \\\\ 1, & x \\geq 0 \\end{cases}$"
   ]
  },
  {
   "cell_type": "code",
   "execution_count": null,
   "metadata": {
    "collapsed": true
   },
   "outputs": [],
   "source": [
    "# Implement the function below\n",
    "def hs_data_generator(n_samples):\n",
    "    \"\"\"\n",
    "    Generate: \n",
    "    1) tensor x of size (n_samples, 1) \n",
    "    with values uniformly distributed in the interval (-1, 1] \n",
    "    using torch.rand()\n",
    "    2) tensor y of size (n_samples, 1) \n",
    "    equal to the Heavyside Step Function using a condition.\n",
    "    Make sure that y is a torch.FloatTensor.\n",
    "    \n",
    "    The function should return: x, y\n",
    "    \"\"\"\n",
    "    # x = TODO\n",
    "    # y = TODO\n",
    "    # return x.to(device), y.to(device)"
   ]
  },
  {
   "cell_type": "code",
   "execution_count": null,
   "metadata": {},
   "outputs": [],
   "source": [
    "# Generate the data with n_samples = 128\n",
    "# x, y = TODO"
   ]
  },
  {
   "cell_type": "code",
   "execution_count": null,
   "metadata": {},
   "outputs": [],
   "source": [
    "# Visualize the data \n",
    "# TODO"
   ]
  },
  {
   "cell_type": "markdown",
   "metadata": {},
   "source": [
    "## 2. Models\n",
    "#### You are going to approximate the functions above with fully connected models of different depths.  "
   ]
  },
  {
   "cell_type": "markdown",
   "metadata": {},
   "source": [
    "### 2.1. Dimensionality\n",
    "The models you define below will be predicting $y$ from $x$ and will use the data generated in Part 1 as training data. Fill in the input and output dimensions for each of the models.\n",
    "\n",
    "Hint: These dimensions are independent from the number of samples. "
   ]
  },
  {
   "cell_type": "code",
   "execution_count": null,
   "metadata": {
    "collapsed": true
   },
   "outputs": [],
   "source": [
    "# input_dim = TODO\n",
    "# output_dim = TODO"
   ]
  },
  {
   "cell_type": "markdown",
   "metadata": {},
   "source": [
    "### 2.2. No Hidden \n",
    "Define a model with a single linear module `torch.nn.Linear(input_dim, output_dim)` and no non-linearity."
   ]
  },
  {
   "cell_type": "code",
   "execution_count": null,
   "metadata": {
    "collapsed": true
   },
   "outputs": [],
   "source": [
    "class Linear_0H(nn.Module):\n",
    "    def __init__(self):\n",
    "        super(Linear_0H, self).__init__()\n",
    "        \n",
    "        # Layers\n",
    "        # TODO\n",
    "        pass\n",
    "\n",
    "    def forward(self, code):\n",
    "        # TODO\n",
    "        pass"
   ]
  },
  {
   "cell_type": "markdown",
   "metadata": {},
   "source": [
    "### 2.2. One Hidden \n",
    "Define a model with a single hidden layer of size 3 and one ReLU non-linearity.\n",
    "Use `nn.Sequential()` for defining the layers.\n",
    "\n",
    "Hint: Architecture should be `nn.Linear(intput_dim, 3)` -> `nn.ReLU()` -> `nn.Linear(3, output_dim)`"
   ]
  },
  {
   "cell_type": "code",
   "execution_count": null,
   "metadata": {
    "collapsed": true
   },
   "outputs": [],
   "source": [
    "class Linear_1H(nn.Module):\n",
    "    def __init__(self):\n",
    "        super(Linear_1H, self).__init__()\n",
    "        \n",
    "        # Layers\n",
    "        # TODO\n",
    "        pass\n",
    "\n",
    "    def forward(self, x):\n",
    "        # TODO\n",
    "        pass"
   ]
  },
  {
   "cell_type": "markdown",
   "metadata": {},
   "source": [
    "### 2.3. Two Hidden \n",
    "Define a model with a two hidden layers of size 3 and two ReLU non-linearities.\n",
    "Use `nn.Sequential()` for defining the layers.\n",
    "\n",
    "Hint: Architecture should be `nn.Linear(input_dim,3)` -> `nn.ReLU()` -> `nn.Linear(3,3)` -> `nn.ReLU()` -> `nn.Linear(3, output_dim)`"
   ]
  },
  {
   "cell_type": "code",
   "execution_count": null,
   "metadata": {
    "collapsed": true
   },
   "outputs": [],
   "source": [
    "class Linear_2H(nn.Module):\n",
    "    def __init__(self):\n",
    "        super(Linear_2H, self).__init__()\n",
    "        # TODO \n",
    "        pass\n",
    "\n",
    "    def forward(self, x):\n",
    "        # TODO\n",
    "        pass"
   ]
  },
  {
   "cell_type": "markdown",
   "metadata": {},
   "source": [
    "## 3. Training"
   ]
  },
  {
   "cell_type": "markdown",
   "metadata": {},
   "source": [
    "### 3.1 Train method\n",
    "You are going to implement a training method which takes a model, number of epochs, training data, and threshold for loss functions as input and returns the (detached) predicitons from the last epoch. \n",
    "\n",
    "Make sure you understand what the method is doing and how early stopping works in this case."
   ]
  },
  {
   "cell_type": "code",
   "execution_count": null,
   "metadata": {
    "collapsed": true
   },
   "outputs": [],
   "source": [
    "# Training function\n",
    "def train(model, epochs, x, y, loss_threshold=1e-2):\n",
    "    # Set model to training mode\n",
    "    # model.train()\n",
    "    \n",
    "    # Define Mean Squared Error as loss function using nn.MSELoss()\n",
    "    # critereon = TODO\n",
    "    \n",
    "    # Define the SGD optimizer with learning rate of 0.01 using torch.optim.SGD()\n",
    "    # optimizer = TODO\n",
    "    \n",
    "    # Training loop\n",
    "    for epoch in range(epochs):\n",
    "        # Forward data through model \n",
    "        # y_pred = TODO\n",
    "        \n",
    "        # Compute the loss \n",
    "        # loss = TODO \n",
    "        \n",
    "        # Zero-out the optimizer \n",
    "        # TODO\n",
    "        \n",
    "        # Backpropagate loss\n",
    "        # TODO\n",
    "        \n",
    "        # Make a step with the optimizer\n",
    "        # TODO\n",
    "        \n",
    "        # Uncomment lines below once you implement the code above\n",
    "        # Print out loss every 100 epochs \n",
    "        # if epoch == 0 or (epoch+1) % 100 == 0:\n",
    "        #     print('Epoch {} loss: {}'.format(epoch+1, loss.item()))\n",
    "        \n",
    "        # Uncomment lines below once you implement the code above\n",
    "        # Early stopping based on training loss\n",
    "        # if loss.item() < loss_threshold:\n",
    "        #     print('Epoch {} loss: {}'.format(epoch+1, loss.item()))\n",
    "        #     break    \n",
    "        \n",
    "        pass # remove once implemented\n",
    "    \n",
    "    # Return predictions from the last epoch.\n",
    "    # Uncomment line below once you implement\n",
    "    # return y_pred.detach()"
   ]
  },
  {
   "cell_type": "markdown",
   "metadata": {},
   "source": [
    "### 3.2. `Linear_0H`"
   ]
  },
  {
   "cell_type": "code",
   "execution_count": null,
   "metadata": {
    "collapsed": true
   },
   "outputs": [],
   "source": [
    "# Define model\n",
    "model_0H = Linear_0H().to(device)"
   ]
  },
  {
   "cell_type": "code",
   "execution_count": null,
   "metadata": {},
   "outputs": [],
   "source": [
    "# Train model on quadratic data for 10000 epochs and loss_threshold 1e-2\n",
    "y_pred = train(model_0H, epochs=10000, x=x_quadr, y=y_quadr, loss_threshold=1e-2)"
   ]
  },
  {
   "cell_type": "code",
   "execution_count": null,
   "metadata": {},
   "outputs": [],
   "source": [
    "# Plot predictions vs actual data\n",
    "# TODO"
   ]
  },
  {
   "cell_type": "code",
   "execution_count": null,
   "metadata": {},
   "outputs": [],
   "source": [
    "# Train model on cubic data for 10000 epochs and loss_threshold=1e-2\n",
    "y_pred = train(model_0H, epochs=10000, x=x_cubic, y=y_cubic, loss_threshold=1e-2)"
   ]
  },
  {
   "cell_type": "code",
   "execution_count": null,
   "metadata": {},
   "outputs": [],
   "source": [
    "# Plot predictions vs actual data\n",
    "# TODO"
   ]
  },
  {
   "cell_type": "code",
   "execution_count": null,
   "metadata": {},
   "outputs": [],
   "source": [
    "# Train model on sine data for 10000 epochs and loss_threshold=1e-2\n",
    "y_pred = train(model_0H, epochs=10000, x=x_sine, y=y_sine, loss_threshold=1e-2)"
   ]
  },
  {
   "cell_type": "code",
   "execution_count": null,
   "metadata": {},
   "outputs": [],
   "source": [
    "# Plot predictions vs actual data\n",
    "# TODO"
   ]
  },
  {
   "cell_type": "code",
   "execution_count": null,
   "metadata": {},
   "outputs": [],
   "source": [
    "# Train model on abosulte value data for 10000 epochs and loss_threshold 1e-2\n",
    "y_pred = train(model_0H, epochs=10000, x=x_abs, y=y_abs, loss_threshold=1e-2)"
   ]
  },
  {
   "cell_type": "code",
   "execution_count": null,
   "metadata": {},
   "outputs": [],
   "source": [
    "# Plot predictions vs actual data\n",
    "# TODO"
   ]
  },
  {
   "cell_type": "code",
   "execution_count": null,
   "metadata": {},
   "outputs": [],
   "source": [
    "# Train model on Heavyside Step Function data for 10000 epochs and loss_threshold 1e-2\n",
    "y_pred = train(model_0H, epochs=10000, x=x_hs, y=y_hs, loss_threshold=1e-2)"
   ]
  },
  {
   "cell_type": "code",
   "execution_count": null,
   "metadata": {},
   "outputs": [],
   "source": [
    "# Plot predictions vs actual data\n",
    "# TODO"
   ]
  },
  {
   "cell_type": "markdown",
   "metadata": {},
   "source": [
    "### 3.3. `Linear_1H`"
   ]
  },
  {
   "cell_type": "code",
   "execution_count": null,
   "metadata": {},
   "outputs": [],
   "source": [
    "# Define model\n",
    "model_1H = Linear_1H().to(device)"
   ]
  },
  {
   "cell_type": "code",
   "execution_count": null,
   "metadata": {},
   "outputs": [],
   "source": [
    "# Train model on quadratic data for 10000 epochs and loss threshold 1e-2\n",
    "y_pred = train(model_1H, epochs=10000, x=x_quadr, y=y_quadr, loss_threshold=1e-2)"
   ]
  },
  {
   "cell_type": "code",
   "execution_count": null,
   "metadata": {},
   "outputs": [],
   "source": [
    "# Plot predictions vs actual data\n",
    "# TODO"
   ]
  },
  {
   "cell_type": "code",
   "execution_count": null,
   "metadata": {},
   "outputs": [],
   "source": [
    "# Train model on cubic data for 10000 epochs and loss_threshold 1e-2\n",
    "y_pred = train(model_1H, epochs=10000, x=x_cubic, y=y_cubic, loss_threshold=1e-2)"
   ]
  },
  {
   "cell_type": "code",
   "execution_count": null,
   "metadata": {},
   "outputs": [],
   "source": [
    "# Plot predictions vs actual data\n",
    "# TODO"
   ]
  },
  {
   "cell_type": "code",
   "execution_count": null,
   "metadata": {},
   "outputs": [],
   "source": [
    "# Train model on sine data for 10000 epochs and loss_threshold 1e-2\n",
    "y_pred = train(model_1H, epochs=10000, x=x_sine, y=y_sine, loss_threshold=1e-2)"
   ]
  },
  {
   "cell_type": "code",
   "execution_count": null,
   "metadata": {},
   "outputs": [],
   "source": [
    "# Plot predictions vs actual data\n",
    "# TODO"
   ]
  },
  {
   "cell_type": "code",
   "execution_count": null,
   "metadata": {},
   "outputs": [],
   "source": [
    "# Train model on abosulte value data for 10000 epochs and loss_threshold 1e-2\n",
    "y_pred = train(model_1H, epochs=10000, x=x_abs, y=y_abs, loss_threshold=1e-2)"
   ]
  },
  {
   "cell_type": "code",
   "execution_count": null,
   "metadata": {},
   "outputs": [],
   "source": [
    "# Plot predictions vs actual data\n",
    "# TODO"
   ]
  },
  {
   "cell_type": "code",
   "execution_count": null,
   "metadata": {},
   "outputs": [],
   "source": [
    "# Train model on Heavyside Step Function data for 10000 epochs and loss_threshold 1e-2\n",
    "y_pred = train(model_1H, epochs=10000, x=x_hs, y=y_hs, loss_threshold=1e-2)"
   ]
  },
  {
   "cell_type": "code",
   "execution_count": null,
   "metadata": {},
   "outputs": [],
   "source": [
    "# Plot predictions vs actual data\n",
    "# TODO"
   ]
  },
  {
   "cell_type": "markdown",
   "metadata": {},
   "source": [
    "### 3.3. `Linear_2H`"
   ]
  },
  {
   "cell_type": "code",
   "execution_count": null,
   "metadata": {},
   "outputs": [],
   "source": [
    "# Define model\n",
    "model_2H = Linear_2H().to(device)"
   ]
  },
  {
   "cell_type": "code",
   "execution_count": null,
   "metadata": {},
   "outputs": [],
   "source": [
    "# Train model on quadratic data for 10000 epochs and loss_threshold 1e-2\n",
    "y_pred = train(model_2H, epochs=10000, x=x_quadr, y=y_quadr, loss_threshold=1e-2)"
   ]
  },
  {
   "cell_type": "code",
   "execution_count": null,
   "metadata": {},
   "outputs": [],
   "source": [
    "# Plot predictions vs actual data\n",
    "# TODO"
   ]
  },
  {
   "cell_type": "code",
   "execution_count": null,
   "metadata": {},
   "outputs": [],
   "source": [
    "# Train model on cubic data for 10000 epochs and loss_threshold 1e-2\n",
    "y_pred = train(model_2H, epochs=10000, x=x_cubic, y=y_cubic, loss_threshold=1e-2)"
   ]
  },
  {
   "cell_type": "code",
   "execution_count": null,
   "metadata": {},
   "outputs": [],
   "source": [
    "# Plot predictions vs actual data\n",
    "# TODO"
   ]
  },
  {
   "cell_type": "code",
   "execution_count": null,
   "metadata": {},
   "outputs": [],
   "source": [
    "# Train model on sine data for 10000 epochs and loss_threshold 1e-2\n",
    "y_pred = train(model_2H, epochs=10000, x=x_sine, y=y_sine, loss_threshold=1e-2)"
   ]
  },
  {
   "cell_type": "code",
   "execution_count": null,
   "metadata": {},
   "outputs": [],
   "source": [
    "# Plot predictions vs actual data\n",
    "# TODO"
   ]
  },
  {
   "cell_type": "code",
   "execution_count": null,
   "metadata": {},
   "outputs": [],
   "source": [
    "# Train model on abosulte value data for 10000 epochs and loss_threshold=1e-2\n",
    "y_pred = train(model_2H, epochs=10000, x=x_abs, y=y_abs, loss_threshold=1e-2)"
   ]
  },
  {
   "cell_type": "code",
   "execution_count": null,
   "metadata": {},
   "outputs": [],
   "source": [
    "# Plot predictions vs actual data\n",
    "# TODO"
   ]
  },
  {
   "cell_type": "code",
   "execution_count": null,
   "metadata": {},
   "outputs": [],
   "source": [
    "# Train model on Heavyside Step Function data for 10000 epochs and loss_threshold 1e-2\n",
    "y_pred = train(model_2H, epochs=10000, x=x_hs, y=y_hs, loss_threshold=1e-2)"
   ]
  },
  {
   "cell_type": "code",
   "execution_count": null,
   "metadata": {},
   "outputs": [],
   "source": [
    "# Plot predictions vs actual data\n",
    "# TODO"
   ]
  },
  {
   "cell_type": "markdown",
   "metadata": {
    "collapsed": true
   },
   "source": [
    "### 3.4. Which of the models stopped early and on what data?\n",
    "Please list the experiments where the `loss_threshold` of 1e-2 was reached early. "
   ]
  },
  {
   "cell_type": "markdown",
   "metadata": {},
   "source": [
    "List: "
   ]
  }
 ],
 "metadata": {
  "kernelspec": {
   "display_name": "Python 3",
   "language": "python",
   "name": "python3"
  },
  "language_info": {
   "codemirror_mode": {
    "name": "ipython",
    "version": 3
   },
   "file_extension": ".py",
   "mimetype": "text/x-python",
   "name": "python",
   "nbconvert_exporter": "python",
   "pygments_lexer": "ipython3",
   "version": "3.6.7"
  }
 },
 "nbformat": 4,
 "nbformat_minor": 2
}
