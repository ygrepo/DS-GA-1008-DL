{
 "cells": [
  {
   "cell_type": "code",
   "execution_count": 1,
   "metadata": {},
   "outputs": [],
   "source": [
    "import torch\n",
    "import torch.nn as nn\n",
    "from plot_lib import set_default, show_scatterplot, plot_bases\n",
    "from matplotlib.pyplot import plot, title, axis\n",
    "import numpy as np"
   ]
  },
  {
   "cell_type": "code",
   "execution_count": 68,
   "metadata": {},
   "outputs": [],
   "source": [
    "import torch.nn.functional as F\n",
    "from torch.autograd import Variable"
   ]
  },
  {
   "cell_type": "code",
   "execution_count": 69,
   "metadata": {},
   "outputs": [],
   "source": [
    "a = np.array([[4,5,2,2,1],\n",
    "[3,3,2,2,4],\n",
    "[4,3,4,1,1],\n",
    "[5,1,4,1,2],\n",
    "[5,1,3,1,4]])\n",
    "a = a.astype(float)"
   ]
  },
  {
   "cell_type": "code",
   "execution_count": 70,
   "metadata": {},
   "outputs": [
    {
     "data": {
      "text/plain": [
       "(5, 5)"
      ]
     },
     "execution_count": 70,
     "metadata": {},
     "output_type": "execute_result"
    }
   ],
   "source": [
    "a.shape"
   ]
  },
  {
   "cell_type": "code",
   "execution_count": 80,
   "metadata": {},
   "outputs": [
    {
     "name": "stdout",
     "output_type": "stream",
     "text": [
      "tensor([[[[4., 5., 2., 2., 1.],\n",
      "          [3., 3., 2., 2., 4.],\n",
      "          [4., 3., 4., 1., 1.],\n",
      "          [5., 1., 4., 1., 2.],\n",
      "          [5., 1., 3., 1., 4.]]]], dtype=torch.float64, requires_grad=True)\n"
     ]
    }
   ],
   "source": [
    "at = torch.tensor(a, requires_grad=True)\n",
    "at = at.view(1,1,at.shape[0], at.shape[1])\n",
    "at = at.clone().detach().requires_grad_(True)\n",
    "print(at)"
   ]
  },
  {
   "cell_type": "code",
   "execution_count": 81,
   "metadata": {},
   "outputs": [
    {
     "name": "stdout",
     "output_type": "stream",
     "text": [
      "tensor([[[[4., 3., 3.],\n",
      "          [5., 5., 5.],\n",
      "          [2., 4., 3.]]]], dtype=torch.float64, requires_grad=True)\n"
     ]
    }
   ],
   "source": [
    "f = np.array([[4,3,3],[5,5,5],[2,4,3]])\n",
    "f = f.astype(float)\n",
    "ft = torch.tensor(f, requires_grad=True)\n",
    "ft = ft.view(1,1,ft.shape[0], ft.shape[1])\n",
    "ft = ft.clone().detach().requires_grad_(True)\n",
    "print(ft)"
   ]
  },
  {
   "cell_type": "code",
   "execution_count": 73,
   "metadata": {},
   "outputs": [],
   "source": [
    "#m = nn.Conv2d(1,1,3)\n",
    "#m = nn.Conv2d(in_channels=1, out_channels=3, kernel_size=3, stride=1)"
   ]
  },
  {
   "cell_type": "code",
   "execution_count": 82,
   "metadata": {},
   "outputs": [
    {
     "name": "stdout",
     "output_type": "stream",
     "text": [
      "tensor([[[[109.,  92.,  72.],\n",
      "          [108.,  85.,  74.],\n",
      "          [110.,  74.,  79.]]]], dtype=torch.float64,\n",
      "       grad_fn=<ThnnConv2DBackward>)\n"
     ]
    }
   ],
   "source": [
    "out = F.conv2d(at, ft)\n",
    "print(out)"
   ]
  },
  {
   "cell_type": "code",
   "execution_count": 83,
   "metadata": {},
   "outputs": [
    {
     "name": "stdout",
     "output_type": "stream",
     "text": [
      "tensor([[[[1., 1., 1.],\n",
      "          [1., 1., 1.],\n",
      "          [1., 1., 1.]]]], dtype=torch.float64, requires_grad=True)\n"
     ]
    }
   ],
   "source": [
    "gradients = torch.ones(3,3, dtype=torch.float64)\n",
    "gradients = gradients.view(1,1,gradients.shape[0], gradients.shape[1])\n",
    "gradients = gradients.clone().detach().requires_grad_(True)\n",
    "print(gradients)"
   ]
  },
  {
   "cell_type": "code",
   "execution_count": 84,
   "metadata": {},
   "outputs": [],
   "source": [
    " out.backward(gradients)"
   ]
  },
  {
   "cell_type": "code",
   "execution_count": 85,
   "metadata": {},
   "outputs": [
    {
     "name": "stdout",
     "output_type": "stream",
     "text": [
      "tensor([[[[ 4.,  7., 10.,  6.,  3.],\n",
      "          [ 9., 17., 25., 16.,  8.],\n",
      "          [11., 23., 34., 23., 11.],\n",
      "          [ 7., 16., 24., 17.,  8.],\n",
      "          [ 2.,  6.,  9.,  7.,  3.]]]], dtype=torch.float64)\n"
     ]
    }
   ],
   "source": [
    "print(at.grad)"
   ]
  },
  {
   "cell_type": "code",
   "execution_count": 86,
   "metadata": {},
   "outputs": [
    {
     "data": {
      "text/plain": [
       "tensor([[[[109.,  92.],\n",
       "          [110.,  85.]]]], dtype=torch.float64,\n",
       "       grad_fn=<MaxPool2DWithIndicesBackward>)"
      ]
     },
     "execution_count": 86,
     "metadata": {},
     "output_type": "execute_result"
    }
   ],
   "source": [
    "F.max_pool2d(out, 2, 1)"
   ]
  },
  {
   "cell_type": "code",
   "execution_count": 12,
   "metadata": {},
   "outputs": [
    {
     "data": {
      "text/plain": [
       "array([[4, 5, 2, 2, 1],\n",
       "       [3, 3, 2, 2, 4],\n",
       "       [4, 3, 4, 1, 1],\n",
       "       [5, 1, 4, 1, 2],\n",
       "       [5, 1, 3, 1, 4]])"
      ]
     },
     "execution_count": 12,
     "metadata": {},
     "output_type": "execute_result"
    }
   ],
   "source": [
    "a"
   ]
  },
  {
   "cell_type": "code",
   "execution_count": 13,
   "metadata": {},
   "outputs": [],
   "source": [
    "rotf = np.rot90(np.rot90(f))"
   ]
  },
  {
   "cell_type": "code",
   "execution_count": 14,
   "metadata": {},
   "outputs": [
    {
     "data": {
      "text/plain": [
       "array([[3, 4, 2],\n",
       "       [5, 5, 5],\n",
       "       [3, 3, 4]])"
      ]
     },
     "execution_count": 14,
     "metadata": {},
     "output_type": "execute_result"
    }
   ],
   "source": [
    "rotf"
   ]
  },
  {
   "cell_type": "code",
   "execution_count": 15,
   "metadata": {},
   "outputs": [],
   "source": [
    "rotft = torch.from_numpy(rotf.copy())"
   ]
  },
  {
   "cell_type": "code",
   "execution_count": 16,
   "metadata": {},
   "outputs": [
    {
     "data": {
      "text/plain": [
       "tensor([[3, 4, 2],\n",
       "        [5, 5, 5],\n",
       "        [3, 3, 4]])"
      ]
     },
     "execution_count": 16,
     "metadata": {},
     "output_type": "execute_result"
    }
   ],
   "source": [
    "rotft"
   ]
  },
  {
   "cell_type": "code",
   "execution_count": 17,
   "metadata": {},
   "outputs": [
    {
     "name": "stdout",
     "output_type": "stream",
     "text": [
      "torch.Size([1, 1, 3, 3])\n"
     ]
    }
   ],
   "source": [
    "lt = torch.ones_like(out)\n",
    "print(lt.shape)"
   ]
  },
  {
   "cell_type": "code",
   "execution_count": 18,
   "metadata": {},
   "outputs": [
    {
     "data": {
      "text/plain": [
       "tensor([[[[1., 1., 1.],\n",
       "          [1., 1., 1.],\n",
       "          [1., 1., 1.]]]], dtype=torch.float64)"
      ]
     },
     "execution_count": 18,
     "metadata": {},
     "output_type": "execute_result"
    }
   ],
   "source": [
    "lt"
   ]
  },
  {
   "cell_type": "code",
   "execution_count": 19,
   "metadata": {},
   "outputs": [],
   "source": [
    "rotft1 = rotft.view(1,1,rotft.shape[0], rotft.shape[1])\n",
    "rotft1d = rotft1.double()"
   ]
  },
  {
   "cell_type": "code",
   "execution_count": 20,
   "metadata": {},
   "outputs": [
    {
     "data": {
      "text/plain": [
       "tensor([[[[3., 4., 2.],\n",
       "          [5., 5., 5.],\n",
       "          [3., 3., 4.]]]], dtype=torch.float64)"
      ]
     },
     "execution_count": 20,
     "metadata": {},
     "output_type": "execute_result"
    }
   ],
   "source": [
    "rotft1d"
   ]
  },
  {
   "cell_type": "code",
   "execution_count": 21,
   "metadata": {},
   "outputs": [
    {
     "name": "stdout",
     "output_type": "stream",
     "text": [
      "tensor([[[[34.]]]], dtype=torch.float64)\n"
     ]
    }
   ],
   "source": [
    "out2 = F.conv2d(lt, rotft1d)\n",
    "print(out2)"
   ]
  },
  {
   "cell_type": "code",
   "execution_count": 22,
   "metadata": {},
   "outputs": [],
   "source": [
    "from scipy import signal"
   ]
  },
  {
   "cell_type": "code",
   "execution_count": 23,
   "metadata": {},
   "outputs": [],
   "source": [
    "l = np.ones(f.shape)"
   ]
  },
  {
   "cell_type": "code",
   "execution_count": 24,
   "metadata": {},
   "outputs": [
    {
     "data": {
      "text/plain": [
       "array([[1., 1., 1.],\n",
       "       [1., 1., 1.],\n",
       "       [1., 1., 1.]])"
      ]
     },
     "execution_count": 24,
     "metadata": {},
     "output_type": "execute_result"
    }
   ],
   "source": [
    "l"
   ]
  },
  {
   "cell_type": "code",
   "execution_count": 25,
   "metadata": {},
   "outputs": [
    {
     "data": {
      "text/plain": [
       "array([[ 4.,  7., 10.,  6.,  3.],\n",
       "       [ 9., 17., 25., 16.,  8.],\n",
       "       [11., 23., 34., 23., 11.],\n",
       "       [ 7., 16., 24., 17.,  8.],\n",
       "       [ 2.,  6.,  9.,  7.,  3.]])"
      ]
     },
     "execution_count": 25,
     "metadata": {},
     "output_type": "execute_result"
    }
   ],
   "source": [
    "signal.convolve2d(l, f)"
   ]
  },
  {
   "cell_type": "code",
   "execution_count": 26,
   "metadata": {},
   "outputs": [],
   "source": [
    "m2 = nn.AvgPool2d(3, stride=2)"
   ]
  },
  {
   "cell_type": "code",
   "execution_count": 27,
   "metadata": {},
   "outputs": [],
   "source": [
    "input = torch.ones(2, 6, 6)"
   ]
  },
  {
   "cell_type": "code",
   "execution_count": 28,
   "metadata": {},
   "outputs": [],
   "source": [
    "output = m2(input)"
   ]
  },
  {
   "cell_type": "code",
   "execution_count": 29,
   "metadata": {},
   "outputs": [
    {
     "name": "stdout",
     "output_type": "stream",
     "text": [
      "tensor([[[1., 1., 1., 1., 1., 1.],\n",
      "         [1., 1., 1., 1., 1., 1.],\n",
      "         [1., 1., 1., 1., 1., 1.],\n",
      "         [1., 1., 1., 1., 1., 1.],\n",
      "         [1., 1., 1., 1., 1., 1.],\n",
      "         [1., 1., 1., 1., 1., 1.]],\n",
      "\n",
      "        [[1., 1., 1., 1., 1., 1.],\n",
      "         [1., 1., 1., 1., 1., 1.],\n",
      "         [1., 1., 1., 1., 1., 1.],\n",
      "         [1., 1., 1., 1., 1., 1.],\n",
      "         [1., 1., 1., 1., 1., 1.],\n",
      "         [1., 1., 1., 1., 1., 1.]]])\n",
      "tensor([[[1., 1.],\n",
      "         [1., 1.]],\n",
      "\n",
      "        [[1., 1.],\n",
      "         [1., 1.]]])\n"
     ]
    }
   ],
   "source": [
    "print(input)\n",
    "print(output)"
   ]
  },
  {
   "cell_type": "code",
   "execution_count": 34,
   "metadata": {},
   "outputs": [
    {
     "name": "stdout",
     "output_type": "stream",
     "text": [
      "tensor([[[ 0.3233, -0.4814,  1.6139,  0.3389],\n",
      "         [ 0.1395,  1.2904, -0.5291, -0.6258],\n",
      "         [-0.4185, -1.5935, -1.2115,  0.5412],\n",
      "         [-1.0757, -1.0937,  1.6516, -0.8540]],\n",
      "\n",
      "        [[-0.2606,  0.1703,  0.8965,  0.5885],\n",
      "         [ 0.8797, -2.5895,  1.6293, -0.1485],\n",
      "         [-1.8853,  0.7779,  1.0013, -0.4320],\n",
      "         [ 1.2135,  1.3260,  0.9249, -1.8527]]])\n",
      "tensor([[[ 1.2904,  1.6139],\n",
      "         [-0.4185,  1.6516]],\n",
      "\n",
      "        [[ 0.8797,  1.6293],\n",
      "         [ 1.3260,  1.0013]]])\n"
     ]
    }
   ],
   "source": [
    "ma = nn.AdaptiveMaxPool2d((2,2))\n",
    "input = torch.randn(2, 4, 4,)\n",
    "output = ma(input)\n",
    "print(input)\n",
    "print(output)"
   ]
  },
  {
   "cell_type": "code",
   "execution_count": null,
   "metadata": {},
   "outputs": [],
   "source": []
  }
 ],
 "metadata": {
  "kernelspec": {
   "display_name": "Python 3",
   "language": "python",
   "name": "python3"
  },
  "language_info": {
   "codemirror_mode": {
    "name": "ipython",
    "version": 3
   },
   "file_extension": ".py",
   "mimetype": "text/x-python",
   "name": "python",
   "nbconvert_exporter": "python",
   "pygments_lexer": "ipython3",
   "version": "3.6.6"
  }
 },
 "nbformat": 4,
 "nbformat_minor": 2
}
